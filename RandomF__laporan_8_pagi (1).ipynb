{
 "cells": [
  {
   "cell_type": "markdown",
   "metadata": {
    "id": "hamSV5cTnKjj"
   },
   "source": [
    "# Import Library"
   ]
  },
  {
   "cell_type": "code",
   "execution_count": 1,
   "metadata": {
    "executionInfo": {
     "elapsed": 3128,
     "status": "ok",
     "timestamp": 1754282812943,
     "user": {
      "displayName": "MICHAEL STEVEN",
      "userId": "09225223714904031338"
     },
     "user_tz": -420
    },
    "id": "Ct4dOLLWmBXn"
   },
   "outputs": [],
   "source": [
    "import pandas as pd\n",
    "import numpy as np\n",
    "import matplotlib.pyplot as plt\n",
    "import seaborn as sns\n",
    "\n",
    "from sklearn.model_selection import train_test_split, GridSearchCV\n",
    "from sklearn.preprocessing import LabelEncoder, StandardScaler\n",
    "from sklearn.ensemble import RandomForestClassifier\n",
    "from sklearn.svm import SVC\n",
    "from xgboost import XGBClassifier\n",
    "from sklearn.metrics import classification_report, confusion_matrix, accuracy_score\n",
    "from sklearn.ensemble import RandomForestRegressor\n",
    "import warnings\n",
    "warnings.filterwarnings(\"ignore\")"
   ]
  },
  {
   "cell_type": "markdown",
   "metadata": {
    "id": "-9xKQTaonM7m"
   },
   "source": [
    "# Import Dataset"
   ]
  },
  {
   "cell_type": "code",
   "execution_count": 2,
   "metadata": {
    "colab": {
     "base_uri": "https://localhost:8080/",
     "height": 313
    },
    "executionInfo": {
     "elapsed": 797,
     "status": "ok",
     "timestamp": 1754282813745,
     "user": {
      "displayName": "MICHAEL STEVEN",
      "userId": "09225223714904031338"
     },
     "user_tz": -420
    },
    "id": "M9uVqSkymIyc",
    "outputId": "527283ef-45ed-4303-bf09-f5a22c055ecf"
   },
   "outputs": [
    {
     "data": {
      "application/vnd.google.colaboratory.intrinsic+json": {
       "summary": "{\n  \"name\": \"df\",\n  \"rows\": 183,\n  \"fields\": [\n    {\n      \"column\": \"ID_Program\",\n      \"properties\": {\n        \"dtype\": \"number\",\n        \"std\": 0,\n        \"min\": 5,\n        \"max\": 5,\n        \"num_unique_values\": 1,\n        \"samples\": [\n          5\n        ],\n        \"semantic_type\": \"\",\n        \"description\": \"\"\n      }\n    },\n    {\n      \"column\": \"Nama_Program\",\n      \"properties\": {\n        \"dtype\": \"category\",\n        \"num_unique_values\": 1,\n        \"samples\": [\n          \"LAPORAN 8 PAGI\"\n        ],\n        \"semantic_type\": \"\",\n        \"description\": \"\"\n      }\n    },\n    {\n      \"column\": \"Tanggal_Program\",\n      \"properties\": {\n        \"dtype\": \"string\",\n        \"num_unique_values\": 181,\n        \"samples\": [\n          \"20/09/2024\"\n        ],\n        \"semantic_type\": \"\",\n        \"description\": \"\"\n      }\n    },\n    {\n      \"column\": \"Waktu_Program_Mulai\",\n      \"properties\": {\n        \"dtype\": \"object\",\n        \"num_unique_values\": 8,\n        \"samples\": [\n          \"06:25\"\n        ],\n        \"semantic_type\": \"\",\n        \"description\": \"\"\n      }\n    },\n    {\n      \"column\": \"Waktu_Program_Habis\",\n      \"properties\": {\n        \"dtype\": \"object\",\n        \"num_unique_values\": 10,\n        \"samples\": [\n          \"07:25\"\n        ],\n        \"semantic_type\": \"\",\n        \"description\": \"\"\n      }\n    },\n    {\n      \"column\": \"Durasi_Menit\",\n      \"properties\": {\n        \"dtype\": \"number\",\n        \"std\": 5,\n        \"min\": 17,\n        \"max\": 85,\n        \"num_unique_values\": 15,\n        \"samples\": [\n          70\n        ],\n        \"semantic_type\": \"\",\n        \"description\": \"\"\n      }\n    },\n    {\n      \"column\": \"Genre_Program\",\n      \"properties\": {\n        \"dtype\": \"category\",\n        \"num_unique_values\": 1,\n        \"samples\": [\n          \"News:Hard News\"\n        ],\n        \"semantic_type\": \"\",\n        \"description\": \"\"\n      }\n    },\n    {\n      \"column\": \"Rating_Program\",\n      \"properties\": {\n        \"dtype\": \"number\",\n        \"std\": 0.014013744529186259,\n        \"min\": 0.0,\n        \"max\": 0.08,\n        \"num_unique_values\": 9,\n        \"samples\": [\n          0.06\n        ],\n        \"semantic_type\": \"\",\n        \"description\": \"\"\n      }\n    },\n    {\n      \"column\": \"Share\",\n      \"properties\": {\n        \"dtype\": \"number\",\n        \"std\": 0.21588334954067048,\n        \"min\": 0.08,\n        \"max\": 1.2,\n        \"num_unique_values\": 76,\n        \"samples\": [\n          0.66\n        ],\n        \"semantic_type\": \"\",\n        \"description\": \"\"\n      }\n    },\n    {\n      \"column\": \"Jumlah_Penonton\",\n      \"properties\": {\n        \"dtype\": \"number\",\n        \"std\": 74084,\n        \"min\": 49621,\n        \"max\": 416042,\n        \"num_unique_values\": 183,\n        \"samples\": [\n          148288\n        ],\n        \"semantic_type\": \"\",\n        \"description\": \"\"\n      }\n    },\n    {\n      \"column\": \"Hari_Tayang\",\n      \"properties\": {\n        \"dtype\": \"category\",\n        \"num_unique_values\": 7,\n        \"samples\": [\n          \"Sunday\"\n        ],\n        \"semantic_type\": \"\",\n        \"description\": \"\"\n      }\n    },\n    {\n      \"column\": \"AveTime/Viewer\",\n      \"properties\": {\n        \"dtype\": \"number\",\n        \"std\": 3,\n        \"min\": 2,\n        \"max\": 23,\n        \"num_unique_values\": 21,\n        \"samples\": [\n          10\n        ],\n        \"semantic_type\": \"\",\n        \"description\": \"\"\n      }\n    },\n    {\n      \"column\": \"Persentase_Penonton_Laki\",\n      \"properties\": {\n        \"dtype\": \"category\",\n        \"num_unique_values\": 2,\n        \"samples\": [\n          \"54.3%\"\n        ],\n        \"semantic_type\": \"\",\n        \"description\": \"\"\n      }\n    },\n    {\n      \"column\": \"Persentase_Penonton_Perempuan\",\n      \"properties\": {\n        \"dtype\": \"category\",\n        \"num_unique_values\": 2,\n        \"samples\": [\n          \"45.7%\"\n        ],\n        \"semantic_type\": \"\",\n        \"description\": \"\"\n      }\n    },\n    {\n      \"column\": \"Kategori_Jadwal\",\n      \"properties\": {\n        \"dtype\": \"category\",\n        \"num_unique_values\": 1,\n        \"samples\": [\n          \"Non-Prime Time\"\n        ],\n        \"semantic_type\": \"\",\n        \"description\": \"\"\n      }\n    },\n    {\n      \"column\": \"Rating_Kompetitor_Tertinggi\",\n      \"properties\": {\n        \"dtype\": \"number\",\n        \"std\": 0.10730785749678375,\n        \"min\": 0.61,\n        \"max\": 1.21,\n        \"num_unique_values\": 49,\n        \"samples\": [\n          0.75\n        ],\n        \"semantic_type\": \"\",\n        \"description\": \"\"\n      }\n    },\n    {\n      \"column\": \"Total_Rating_Kompetitor\",\n      \"properties\": {\n        \"dtype\": \"number\",\n        \"std\": 0.7252045764994705,\n        \"min\": 7.91,\n        \"max\": 11.43,\n        \"num_unique_values\": 126,\n        \"samples\": [\n          9.98\n        ],\n        \"semantic_type\": \"\",\n        \"description\": \"\"\n      }\n    }\n  ]\n}",
       "type": "dataframe",
       "variable_name": "df"
      },
      "text/html": [
       "\n",
       "  <div id=\"df-38db1d82-3ac9-4fd6-9643-94602af47b04\" class=\"colab-df-container\">\n",
       "    <div>\n",
       "<style scoped>\n",
       "    .dataframe tbody tr th:only-of-type {\n",
       "        vertical-align: middle;\n",
       "    }\n",
       "\n",
       "    .dataframe tbody tr th {\n",
       "        vertical-align: top;\n",
       "    }\n",
       "\n",
       "    .dataframe thead th {\n",
       "        text-align: right;\n",
       "    }\n",
       "</style>\n",
       "<table border=\"1\" class=\"dataframe\">\n",
       "  <thead>\n",
       "    <tr style=\"text-align: right;\">\n",
       "      <th></th>\n",
       "      <th>ID_Program</th>\n",
       "      <th>Nama_Program</th>\n",
       "      <th>Tanggal_Program</th>\n",
       "      <th>Waktu_Program_Mulai</th>\n",
       "      <th>Waktu_Program_Habis</th>\n",
       "      <th>Durasi_Menit</th>\n",
       "      <th>Genre_Program</th>\n",
       "      <th>Rating_Program</th>\n",
       "      <th>Share</th>\n",
       "      <th>Jumlah_Penonton</th>\n",
       "      <th>Hari_Tayang</th>\n",
       "      <th>AveTime/Viewer</th>\n",
       "      <th>Persentase_Penonton_Laki</th>\n",
       "      <th>Persentase_Penonton_Perempuan</th>\n",
       "      <th>Kategori_Jadwal</th>\n",
       "      <th>Rating_Kompetitor_Tertinggi</th>\n",
       "      <th>Total_Rating_Kompetitor</th>\n",
       "    </tr>\n",
       "  </thead>\n",
       "  <tbody>\n",
       "    <tr>\n",
       "      <th>0</th>\n",
       "      <td>5</td>\n",
       "      <td>LAPORAN 8 PAGI</td>\n",
       "      <td>01/09/2024</td>\n",
       "      <td>06:00</td>\n",
       "      <td>07:01</td>\n",
       "      <td>62</td>\n",
       "      <td>News:Hard News</td>\n",
       "      <td>0.04</td>\n",
       "      <td>0.68</td>\n",
       "      <td>287943</td>\n",
       "      <td>Sunday</td>\n",
       "      <td>10</td>\n",
       "      <td>55.8%</td>\n",
       "      <td>44.2%</td>\n",
       "      <td>Non-Prime Time</td>\n",
       "      <td>0.78</td>\n",
       "      <td>8.32</td>\n",
       "    </tr>\n",
       "    <tr>\n",
       "      <th>1</th>\n",
       "      <td>5</td>\n",
       "      <td>LAPORAN 8 PAGI</td>\n",
       "      <td>02/09/2024</td>\n",
       "      <td>06:00</td>\n",
       "      <td>07:00</td>\n",
       "      <td>60</td>\n",
       "      <td>News:Hard News</td>\n",
       "      <td>0.02</td>\n",
       "      <td>0.33</td>\n",
       "      <td>187956</td>\n",
       "      <td>Monday</td>\n",
       "      <td>7</td>\n",
       "      <td>55.8%</td>\n",
       "      <td>44.2%</td>\n",
       "      <td>Non-Prime Time</td>\n",
       "      <td>0.76</td>\n",
       "      <td>9.27</td>\n",
       "    </tr>\n",
       "    <tr>\n",
       "      <th>2</th>\n",
       "      <td>5</td>\n",
       "      <td>LAPORAN 8 PAGI</td>\n",
       "      <td>03/09/2024</td>\n",
       "      <td>06:00</td>\n",
       "      <td>06:59</td>\n",
       "      <td>59</td>\n",
       "      <td>News:Hard News</td>\n",
       "      <td>0.00</td>\n",
       "      <td>0.08</td>\n",
       "      <td>88047</td>\n",
       "      <td>Tuesday</td>\n",
       "      <td>4</td>\n",
       "      <td>55.8%</td>\n",
       "      <td>44.2%</td>\n",
       "      <td>Non-Prime Time</td>\n",
       "      <td>0.91</td>\n",
       "      <td>10.19</td>\n",
       "    </tr>\n",
       "    <tr>\n",
       "      <th>3</th>\n",
       "      <td>5</td>\n",
       "      <td>LAPORAN 8 PAGI</td>\n",
       "      <td>04/09/2024</td>\n",
       "      <td>06:00</td>\n",
       "      <td>07:01</td>\n",
       "      <td>62</td>\n",
       "      <td>News:Hard News</td>\n",
       "      <td>0.03</td>\n",
       "      <td>0.50</td>\n",
       "      <td>158858</td>\n",
       "      <td>Wednesday</td>\n",
       "      <td>14</td>\n",
       "      <td>55.8%</td>\n",
       "      <td>44.2%</td>\n",
       "      <td>Non-Prime Time</td>\n",
       "      <td>0.71</td>\n",
       "      <td>9.06</td>\n",
       "    </tr>\n",
       "    <tr>\n",
       "      <th>4</th>\n",
       "      <td>5</td>\n",
       "      <td>LAPORAN 8 PAGI</td>\n",
       "      <td>05/09/2024</td>\n",
       "      <td>06:00</td>\n",
       "      <td>06:59</td>\n",
       "      <td>60</td>\n",
       "      <td>News:Hard News</td>\n",
       "      <td>0.04</td>\n",
       "      <td>0.66</td>\n",
       "      <td>306082</td>\n",
       "      <td>Thursday</td>\n",
       "      <td>10</td>\n",
       "      <td>55.8%</td>\n",
       "      <td>44.2%</td>\n",
       "      <td>Non-Prime Time</td>\n",
       "      <td>0.88</td>\n",
       "      <td>10.34</td>\n",
       "    </tr>\n",
       "  </tbody>\n",
       "</table>\n",
       "</div>\n",
       "    <div class=\"colab-df-buttons\">\n",
       "\n",
       "  <div class=\"colab-df-container\">\n",
       "    <button class=\"colab-df-convert\" onclick=\"convertToInteractive('df-38db1d82-3ac9-4fd6-9643-94602af47b04')\"\n",
       "            title=\"Convert this dataframe to an interactive table.\"\n",
       "            style=\"display:none;\">\n",
       "\n",
       "  <svg xmlns=\"http://www.w3.org/2000/svg\" height=\"24px\" viewBox=\"0 -960 960 960\">\n",
       "    <path d=\"M120-120v-720h720v720H120Zm60-500h600v-160H180v160Zm220 220h160v-160H400v160Zm0 220h160v-160H400v160ZM180-400h160v-160H180v160Zm440 0h160v-160H620v160ZM180-180h160v-160H180v160Zm440 0h160v-160H620v160Z\"/>\n",
       "  </svg>\n",
       "    </button>\n",
       "\n",
       "  <style>\n",
       "    .colab-df-container {\n",
       "      display:flex;\n",
       "      gap: 12px;\n",
       "    }\n",
       "\n",
       "    .colab-df-convert {\n",
       "      background-color: #E8F0FE;\n",
       "      border: none;\n",
       "      border-radius: 50%;\n",
       "      cursor: pointer;\n",
       "      display: none;\n",
       "      fill: #1967D2;\n",
       "      height: 32px;\n",
       "      padding: 0 0 0 0;\n",
       "      width: 32px;\n",
       "    }\n",
       "\n",
       "    .colab-df-convert:hover {\n",
       "      background-color: #E2EBFA;\n",
       "      box-shadow: 0px 1px 2px rgba(60, 64, 67, 0.3), 0px 1px 3px 1px rgba(60, 64, 67, 0.15);\n",
       "      fill: #174EA6;\n",
       "    }\n",
       "\n",
       "    .colab-df-buttons div {\n",
       "      margin-bottom: 4px;\n",
       "    }\n",
       "\n",
       "    [theme=dark] .colab-df-convert {\n",
       "      background-color: #3B4455;\n",
       "      fill: #D2E3FC;\n",
       "    }\n",
       "\n",
       "    [theme=dark] .colab-df-convert:hover {\n",
       "      background-color: #434B5C;\n",
       "      box-shadow: 0px 1px 3px 1px rgba(0, 0, 0, 0.15);\n",
       "      filter: drop-shadow(0px 1px 2px rgba(0, 0, 0, 0.3));\n",
       "      fill: #FFFFFF;\n",
       "    }\n",
       "  </style>\n",
       "\n",
       "    <script>\n",
       "      const buttonEl =\n",
       "        document.querySelector('#df-38db1d82-3ac9-4fd6-9643-94602af47b04 button.colab-df-convert');\n",
       "      buttonEl.style.display =\n",
       "        google.colab.kernel.accessAllowed ? 'block' : 'none';\n",
       "\n",
       "      async function convertToInteractive(key) {\n",
       "        const element = document.querySelector('#df-38db1d82-3ac9-4fd6-9643-94602af47b04');\n",
       "        const dataTable =\n",
       "          await google.colab.kernel.invokeFunction('convertToInteractive',\n",
       "                                                    [key], {});\n",
       "        if (!dataTable) return;\n",
       "\n",
       "        const docLinkHtml = 'Like what you see? Visit the ' +\n",
       "          '<a target=\"_blank\" href=https://colab.research.google.com/notebooks/data_table.ipynb>data table notebook</a>'\n",
       "          + ' to learn more about interactive tables.';\n",
       "        element.innerHTML = '';\n",
       "        dataTable['output_type'] = 'display_data';\n",
       "        await google.colab.output.renderOutput(dataTable, element);\n",
       "        const docLink = document.createElement('div');\n",
       "        docLink.innerHTML = docLinkHtml;\n",
       "        element.appendChild(docLink);\n",
       "      }\n",
       "    </script>\n",
       "  </div>\n",
       "\n",
       "\n",
       "    <div id=\"df-bcfb2e11-c3d6-4a64-a02c-c717b94c8b5a\">\n",
       "      <button class=\"colab-df-quickchart\" onclick=\"quickchart('df-bcfb2e11-c3d6-4a64-a02c-c717b94c8b5a')\"\n",
       "                title=\"Suggest charts\"\n",
       "                style=\"display:none;\">\n",
       "\n",
       "<svg xmlns=\"http://www.w3.org/2000/svg\" height=\"24px\"viewBox=\"0 0 24 24\"\n",
       "     width=\"24px\">\n",
       "    <g>\n",
       "        <path d=\"M19 3H5c-1.1 0-2 .9-2 2v14c0 1.1.9 2 2 2h14c1.1 0 2-.9 2-2V5c0-1.1-.9-2-2-2zM9 17H7v-7h2v7zm4 0h-2V7h2v10zm4 0h-2v-4h2v4z\"/>\n",
       "    </g>\n",
       "</svg>\n",
       "      </button>\n",
       "\n",
       "<style>\n",
       "  .colab-df-quickchart {\n",
       "      --bg-color: #E8F0FE;\n",
       "      --fill-color: #1967D2;\n",
       "      --hover-bg-color: #E2EBFA;\n",
       "      --hover-fill-color: #174EA6;\n",
       "      --disabled-fill-color: #AAA;\n",
       "      --disabled-bg-color: #DDD;\n",
       "  }\n",
       "\n",
       "  [theme=dark] .colab-df-quickchart {\n",
       "      --bg-color: #3B4455;\n",
       "      --fill-color: #D2E3FC;\n",
       "      --hover-bg-color: #434B5C;\n",
       "      --hover-fill-color: #FFFFFF;\n",
       "      --disabled-bg-color: #3B4455;\n",
       "      --disabled-fill-color: #666;\n",
       "  }\n",
       "\n",
       "  .colab-df-quickchart {\n",
       "    background-color: var(--bg-color);\n",
       "    border: none;\n",
       "    border-radius: 50%;\n",
       "    cursor: pointer;\n",
       "    display: none;\n",
       "    fill: var(--fill-color);\n",
       "    height: 32px;\n",
       "    padding: 0;\n",
       "    width: 32px;\n",
       "  }\n",
       "\n",
       "  .colab-df-quickchart:hover {\n",
       "    background-color: var(--hover-bg-color);\n",
       "    box-shadow: 0 1px 2px rgba(60, 64, 67, 0.3), 0 1px 3px 1px rgba(60, 64, 67, 0.15);\n",
       "    fill: var(--button-hover-fill-color);\n",
       "  }\n",
       "\n",
       "  .colab-df-quickchart-complete:disabled,\n",
       "  .colab-df-quickchart-complete:disabled:hover {\n",
       "    background-color: var(--disabled-bg-color);\n",
       "    fill: var(--disabled-fill-color);\n",
       "    box-shadow: none;\n",
       "  }\n",
       "\n",
       "  .colab-df-spinner {\n",
       "    border: 2px solid var(--fill-color);\n",
       "    border-color: transparent;\n",
       "    border-bottom-color: var(--fill-color);\n",
       "    animation:\n",
       "      spin 1s steps(1) infinite;\n",
       "  }\n",
       "\n",
       "  @keyframes spin {\n",
       "    0% {\n",
       "      border-color: transparent;\n",
       "      border-bottom-color: var(--fill-color);\n",
       "      border-left-color: var(--fill-color);\n",
       "    }\n",
       "    20% {\n",
       "      border-color: transparent;\n",
       "      border-left-color: var(--fill-color);\n",
       "      border-top-color: var(--fill-color);\n",
       "    }\n",
       "    30% {\n",
       "      border-color: transparent;\n",
       "      border-left-color: var(--fill-color);\n",
       "      border-top-color: var(--fill-color);\n",
       "      border-right-color: var(--fill-color);\n",
       "    }\n",
       "    40% {\n",
       "      border-color: transparent;\n",
       "      border-right-color: var(--fill-color);\n",
       "      border-top-color: var(--fill-color);\n",
       "    }\n",
       "    60% {\n",
       "      border-color: transparent;\n",
       "      border-right-color: var(--fill-color);\n",
       "    }\n",
       "    80% {\n",
       "      border-color: transparent;\n",
       "      border-right-color: var(--fill-color);\n",
       "      border-bottom-color: var(--fill-color);\n",
       "    }\n",
       "    90% {\n",
       "      border-color: transparent;\n",
       "      border-bottom-color: var(--fill-color);\n",
       "    }\n",
       "  }\n",
       "</style>\n",
       "\n",
       "      <script>\n",
       "        async function quickchart(key) {\n",
       "          const quickchartButtonEl =\n",
       "            document.querySelector('#' + key + ' button');\n",
       "          quickchartButtonEl.disabled = true;  // To prevent multiple clicks.\n",
       "          quickchartButtonEl.classList.add('colab-df-spinner');\n",
       "          try {\n",
       "            const charts = await google.colab.kernel.invokeFunction(\n",
       "                'suggestCharts', [key], {});\n",
       "          } catch (error) {\n",
       "            console.error('Error during call to suggestCharts:', error);\n",
       "          }\n",
       "          quickchartButtonEl.classList.remove('colab-df-spinner');\n",
       "          quickchartButtonEl.classList.add('colab-df-quickchart-complete');\n",
       "        }\n",
       "        (() => {\n",
       "          let quickchartButtonEl =\n",
       "            document.querySelector('#df-bcfb2e11-c3d6-4a64-a02c-c717b94c8b5a button');\n",
       "          quickchartButtonEl.style.display =\n",
       "            google.colab.kernel.accessAllowed ? 'block' : 'none';\n",
       "        })();\n",
       "      </script>\n",
       "    </div>\n",
       "\n",
       "    </div>\n",
       "  </div>\n"
      ],
      "text/plain": [
       "   ID_Program    Nama_Program Tanggal_Program Waktu_Program_Mulai  \\\n",
       "0           5  LAPORAN 8 PAGI      01/09/2024               06:00   \n",
       "1           5  LAPORAN 8 PAGI      02/09/2024               06:00   \n",
       "2           5  LAPORAN 8 PAGI      03/09/2024               06:00   \n",
       "3           5  LAPORAN 8 PAGI      04/09/2024               06:00   \n",
       "4           5  LAPORAN 8 PAGI      05/09/2024               06:00   \n",
       "\n",
       "  Waktu_Program_Habis  Durasi_Menit   Genre_Program  Rating_Program  Share  \\\n",
       "0               07:01            62  News:Hard News            0.04   0.68   \n",
       "1               07:00            60  News:Hard News            0.02   0.33   \n",
       "2               06:59            59  News:Hard News            0.00   0.08   \n",
       "3               07:01            62  News:Hard News            0.03   0.50   \n",
       "4               06:59            60  News:Hard News            0.04   0.66   \n",
       "\n",
       "   Jumlah_Penonton Hari_Tayang  AveTime/Viewer Persentase_Penonton_Laki  \\\n",
       "0           287943      Sunday              10                    55.8%   \n",
       "1           187956      Monday               7                    55.8%   \n",
       "2            88047     Tuesday               4                    55.8%   \n",
       "3           158858   Wednesday              14                    55.8%   \n",
       "4           306082    Thursday              10                    55.8%   \n",
       "\n",
       "  Persentase_Penonton_Perempuan Kategori_Jadwal  Rating_Kompetitor_Tertinggi  \\\n",
       "0                         44.2%  Non-Prime Time                         0.78   \n",
       "1                         44.2%  Non-Prime Time                         0.76   \n",
       "2                         44.2%  Non-Prime Time                         0.91   \n",
       "3                         44.2%  Non-Prime Time                         0.71   \n",
       "4                         44.2%  Non-Prime Time                         0.88   \n",
       "\n",
       "   Total_Rating_Kompetitor  \n",
       "0                     8.32  \n",
       "1                     9.27  \n",
       "2                    10.19  \n",
       "3                     9.06  \n",
       "4                    10.34  "
      ]
     },
     "execution_count": 2,
     "metadata": {},
     "output_type": "execute_result"
    }
   ],
   "source": [
    "# Load data\n",
    "df = pd.read_excel(\"/content/data coding program Laporan 8 pagi.xlsx\")\n",
    "df.head()"
   ]
  },
  {
   "cell_type": "code",
   "execution_count": 3,
   "metadata": {
    "colab": {
     "base_uri": "https://localhost:8080/"
    },
    "executionInfo": {
     "elapsed": 20,
     "status": "ok",
     "timestamp": 1754282813775,
     "user": {
      "displayName": "MICHAEL STEVEN",
      "userId": "09225223714904031338"
     },
     "user_tz": -420
    },
    "id": "1-KS7NE9mrT1",
    "outputId": "f78d542e-69c3-43d3-d8a0-b5e48e09d0fe"
   },
   "outputs": [
    {
     "data": {
      "text/plain": [
       "Index(['ID_Program', 'Nama_Program', 'Tanggal_Program', 'Waktu_Program_Mulai',\n",
       "       'Waktu_Program_Habis', 'Durasi_Menit', 'Genre_Program',\n",
       "       'Rating_Program', 'Share', 'Jumlah_Penonton', 'Hari_Tayang',\n",
       "       'AveTime/Viewer', 'Persentase_Penonton_Laki',\n",
       "       'Persentase_Penonton_Perempuan', 'Kategori_Jadwal',\n",
       "       'Rating_Kompetitor_Tertinggi', 'Total_Rating_Kompetitor'],\n",
       "      dtype='object')"
      ]
     },
     "execution_count": 3,
     "metadata": {},
     "output_type": "execute_result"
    }
   ],
   "source": [
    "df.columns"
   ]
  },
  {
   "cell_type": "code",
   "execution_count": 4,
   "metadata": {
    "colab": {
     "base_uri": "https://localhost:8080/"
    },
    "executionInfo": {
     "elapsed": 125,
     "status": "ok",
     "timestamp": 1754282813901,
     "user": {
      "displayName": "MICHAEL STEVEN",
      "userId": "09225223714904031338"
     },
     "user_tz": -420
    },
    "id": "muAnPbgPm4v0",
    "outputId": "b3da30fc-15e6-4932-e720-034b0d01e955"
   },
   "outputs": [
    {
     "name": "stdout",
     "output_type": "stream",
     "text": [
      "<class 'pandas.core.frame.DataFrame'>\n",
      "RangeIndex: 183 entries, 0 to 182\n",
      "Data columns (total 17 columns):\n",
      " #   Column                         Non-Null Count  Dtype  \n",
      "---  ------                         --------------  -----  \n",
      " 0   ID_Program                     183 non-null    int64  \n",
      " 1   Nama_Program                   183 non-null    object \n",
      " 2   Tanggal_Program                183 non-null    object \n",
      " 3   Waktu_Program_Mulai            183 non-null    object \n",
      " 4   Waktu_Program_Habis            183 non-null    object \n",
      " 5   Durasi_Menit                   183 non-null    int64  \n",
      " 6   Genre_Program                  183 non-null    object \n",
      " 7   Rating_Program                 183 non-null    float64\n",
      " 8   Share                          183 non-null    float64\n",
      " 9   Jumlah_Penonton                183 non-null    int64  \n",
      " 10  Hari_Tayang                    183 non-null    object \n",
      " 11  AveTime/Viewer                 183 non-null    int64  \n",
      " 12  Persentase_Penonton_Laki       183 non-null    object \n",
      " 13  Persentase_Penonton_Perempuan  183 non-null    object \n",
      " 14  Kategori_Jadwal                183 non-null    object \n",
      " 15  Rating_Kompetitor_Tertinggi    183 non-null    float64\n",
      " 16  Total_Rating_Kompetitor        183 non-null    float64\n",
      "dtypes: float64(4), int64(4), object(9)\n",
      "memory usage: 24.4+ KB\n"
     ]
    }
   ],
   "source": [
    "df.info()"
   ]
  },
  {
   "cell_type": "markdown",
   "metadata": {
    "id": "2zLGTzwanP0p"
   },
   "source": [
    "# Metadata"
   ]
  },
  {
   "cell_type": "markdown",
   "metadata": {
    "id": "Q5zrY7BunR-F"
   },
   "source": [
    "### 📄 **Metadata Dataset Program TV**\n",
    "\n",
    "**Deskripsi Umum**\n",
    "Dataset ini berisi informasi detail mengenai program televisi yang ditayangkan, termasuk waktu tayang, durasi, genre, rating, dan data demografis penonton. Dataset ini terdiri dari **183 baris** dan **17 kolom**, yang masing-masing mewakili satu program TV.\n",
    "\n",
    "---\n",
    "\n",
    "### 📊 **Struktur Kolom dan Penjelasan**\n",
    "\n",
    "| No. | Nama Kolom                      | Tipe Data | Deskripsi                                                                                 |\n",
    "| --- | ------------------------------- | --------- | ----------------------------------------------------------------------------------------- |\n",
    "| 1   | `ID_Program`                    | int64     | ID unik untuk setiap program                                                              |\n",
    "| 2   | `Nama_Program`                  | object    | Nama atau judul program TV                                                                |\n",
    "| 3   | `Tanggal_Program`               | object    | Tanggal penayangan program (format: string, perlu konversi ke datetime)                   |\n",
    "| 4   | `Waktu_Program_Mulai`           | object    | Waktu mulai penayangan (format string, perlu konversi ke waktu)                           |\n",
    "| 5   | `Waktu_Program_Habis`           | object    | Waktu selesai penayangan                                                                  |\n",
    "| 6   | `Durasi_Menit`                  | int64     | Durasi program dalam satuan menit                                                         |\n",
    "| 7   | `Genre_Program`                 | object    | Genre atau kategori isi program (misal: berita, hiburan, olahraga)                        |\n",
    "| 8   | `Rating_Program`                | float64   | Rating program, menggambarkan persentase pemirsa yang menonton dari total populasi target |\n",
    "| 9   | `Share`                         | float64   | Pangsa pasar pemirsa dari total yang menonton TV saat itu                                 |\n",
    "| 10  | `Jumlah_Penonton`               | int64     | Jumlah total penonton program                                                             |\n",
    "| 11  | `Hari_Tayang`                   | object    | Hari dalam seminggu saat program ditayangkan                                              |\n",
    "| 12  | `AveTime/Viewer`                | int64     | Rata-rata waktu tonton per penonton (dalam satuan detik atau menit, perlu konfirmasi)     |\n",
    "| 13  | `Persentase_Penonton_Laki`      | object    | Persentase penonton laki-laki (format string persentase, perlu konversi ke float)         |\n",
    "| 14  | `Persentase_Penonton_Perempuan` | object    | Persentase penonton perempuan (format string persentase)                                  |\n",
    "| 15  | `Kategori_Jadwal`               | object    | Kategori waktu tayang, seperti prime time, non-prime time, dsb.                           |\n",
    "| 16  | `Rating_Kompetitor_Tertinggi`   | float64   | Rating tertinggi dari program kompetitor di slot waktu yang sama                          |\n",
    "| 17  | `Total_Rating_Kompetitor`       | float64   | Akumulasi rating semua kompetitor dalam slot waktu tersebut                               |\n",
    "\n",
    "---\n",
    "\n",
    "### 🧹 **Catatan Pembersihan Data (Data Cleaning Notes)**\n",
    "\n",
    "* Kolom waktu dan tanggal (`Tanggal_Program`, `Waktu_Program_Mulai`, `Waktu_Program_Habis`) perlu dikonversi ke format datetime.\n",
    "* Kolom persentase penonton (`Persentase_Penonton_Laki`, `Persentase_Penonton_Perempuan`) masih dalam format string (misalnya \"50%\"), perlu diubah menjadi float.\n",
    "* Tidak ada nilai yang hilang (missing/null) dalam dataset berdasarkan output `.info()`.\n",
    "\n",
    "---\n",
    "\n",
    "### 📦 **Ukuran Dataset**\n",
    "\n",
    "* **Jumlah baris (entries)**: 183\n",
    "* **Jumlah kolom (fitur)**: 17\n"
   ]
  },
  {
   "cell_type": "markdown",
   "metadata": {
    "id": "EBjk-tTpnoEN"
   },
   "source": [
    "# Data Preprocessing"
   ]
  },
  {
   "cell_type": "markdown",
   "metadata": {
    "id": "T0cIJAJrno_7"
   },
   "source": [
    "## Drop Kolom yang Tidak Relevan"
   ]
  },
  {
   "cell_type": "code",
   "execution_count": 5,
   "metadata": {
    "executionInfo": {
     "elapsed": 6,
     "status": "ok",
     "timestamp": 1754282813903,
     "user": {
      "displayName": "MICHAEL STEVEN",
      "userId": "09225223714904031338"
     },
     "user_tz": -420
    },
    "id": "fnTOgwoxmUj3"
   },
   "outputs": [],
   "source": [
    "# Drop kolom yang tidak berguna untuk prediksi\n",
    "df = df.drop(columns=[\"ID_Program\", \"Nama_Program\", \"Genre_Program\", \"Kategori_Jadwal\"], errors='ignore')"
   ]
  },
  {
   "cell_type": "markdown",
   "metadata": {
    "id": "MtFc-FxooT5b"
   },
   "source": [
    "## Konversi tipe data"
   ]
  },
  {
   "cell_type": "code",
   "execution_count": 6,
   "metadata": {
    "executionInfo": {
     "elapsed": 1,
     "status": "ok",
     "timestamp": 1754282813904,
     "user": {
      "displayName": "MICHAEL STEVEN",
      "userId": "09225223714904031338"
     },
     "user_tz": -420
    },
    "id": "In8MebVgoUpZ"
   },
   "outputs": [],
   "source": [
    "df['Tanggal_Program'] = pd.to_datetime(df['Tanggal_Program'], dayfirst=True)\n",
    "df['Waktu_Program_Mulai'] = pd.to_datetime(df['Waktu_Program_Mulai'], format='%H:%M').dt.time\n",
    "df['Waktu_Program_Habis'] = pd.to_datetime(df['Waktu_Program_Habis'], format='%H:%M').dt.time\n"
   ]
  },
  {
   "cell_type": "code",
   "execution_count": 7,
   "metadata": {
    "executionInfo": {
     "elapsed": 6,
     "status": "ok",
     "timestamp": 1754282813912,
     "user": {
      "displayName": "MICHAEL STEVEN",
      "userId": "09225223714904031338"
     },
     "user_tz": -420
    },
    "id": "j2Vlq8BeoYST"
   },
   "outputs": [],
   "source": [
    "# Ubah persen menjadi float\n",
    "df['Persentase_Penonton_Laki'] = df['Persentase_Penonton_Laki'].str.replace('%','').astype(float)/100\n",
    "df['Persentase_Penonton_Perempuan'] = df['Persentase_Penonton_Perempuan'].str.replace('%','').astype(float)/100"
   ]
  },
  {
   "cell_type": "code",
   "execution_count": 8,
   "metadata": {
    "colab": {
     "base_uri": "https://localhost:8080/"
    },
    "executionInfo": {
     "elapsed": 38,
     "status": "ok",
     "timestamp": 1754282813948,
     "user": {
      "displayName": "MICHAEL STEVEN",
      "userId": "09225223714904031338"
     },
     "user_tz": -420
    },
    "id": "PiWlUXfOobBz",
    "outputId": "46807a5a-2533-49d0-d98c-24969c490c68"
   },
   "outputs": [
    {
     "name": "stdout",
     "output_type": "stream",
     "text": [
      "<class 'pandas.core.frame.DataFrame'>\n",
      "RangeIndex: 183 entries, 0 to 182\n",
      "Data columns (total 13 columns):\n",
      " #   Column                         Non-Null Count  Dtype         \n",
      "---  ------                         --------------  -----         \n",
      " 0   Tanggal_Program                183 non-null    datetime64[ns]\n",
      " 1   Waktu_Program_Mulai            183 non-null    object        \n",
      " 2   Waktu_Program_Habis            183 non-null    object        \n",
      " 3   Durasi_Menit                   183 non-null    int64         \n",
      " 4   Rating_Program                 183 non-null    float64       \n",
      " 5   Share                          183 non-null    float64       \n",
      " 6   Jumlah_Penonton                183 non-null    int64         \n",
      " 7   Hari_Tayang                    183 non-null    object        \n",
      " 8   AveTime/Viewer                 183 non-null    int64         \n",
      " 9   Persentase_Penonton_Laki       183 non-null    float64       \n",
      " 10  Persentase_Penonton_Perempuan  183 non-null    float64       \n",
      " 11  Rating_Kompetitor_Tertinggi    183 non-null    float64       \n",
      " 12  Total_Rating_Kompetitor        183 non-null    float64       \n",
      "dtypes: datetime64[ns](1), float64(6), int64(3), object(3)\n",
      "memory usage: 18.7+ KB\n"
     ]
    }
   ],
   "source": [
    "df.info()"
   ]
  },
  {
   "cell_type": "markdown",
   "metadata": {
    "id": "HpfXBsGKogTU"
   },
   "source": [
    "## Feature Engineering – Tanggal dan Waktu"
   ]
  },
  {
   "cell_type": "code",
   "execution_count": 9,
   "metadata": {
    "colab": {
     "base_uri": "https://localhost:8080/",
     "height": 226
    },
    "executionInfo": {
     "elapsed": 105,
     "status": "ok",
     "timestamp": 1754282814054,
     "user": {
      "displayName": "MICHAEL STEVEN",
      "userId": "09225223714904031338"
     },
     "user_tz": -420
    },
    "id": "rwzbO2Haob36",
    "outputId": "c251772a-f811-450b-9777-3561c9603fcb"
   },
   "outputs": [
    {
     "data": {
      "application/vnd.google.colaboratory.intrinsic+json": {
       "summary": "{\n  \"name\": \"df\",\n  \"rows\": 183,\n  \"fields\": [\n    {\n      \"column\": \"Tanggal_Program\",\n      \"properties\": {\n        \"dtype\": \"date\",\n        \"min\": \"2024-09-01 00:00:00\",\n        \"max\": \"2025-02-28 00:00:00\",\n        \"num_unique_values\": 181,\n        \"samples\": [\n          \"2024-09-20 00:00:00\",\n          \"2024-10-13 00:00:00\",\n          \"2025-02-01 00:00:00\"\n        ],\n        \"semantic_type\": \"\",\n        \"description\": \"\"\n      }\n    },\n    {\n      \"column\": \"Waktu_Program_Mulai\",\n      \"properties\": {\n        \"dtype\": \"category\",\n        \"num_unique_values\": 8,\n        \"samples\": [\n          \"06:25:00\",\n          \"05:58:00\",\n          \"06:00:00\"\n        ],\n        \"semantic_type\": \"\",\n        \"description\": \"\"\n      }\n    },\n    {\n      \"column\": \"Waktu_Program_Habis\",\n      \"properties\": {\n        \"dtype\": \"category\",\n        \"num_unique_values\": 10,\n        \"samples\": [\n          \"07:25:00\",\n          \"07:00:00\",\n          \"06:58:00\"\n        ],\n        \"semantic_type\": \"\",\n        \"description\": \"\"\n      }\n    },\n    {\n      \"column\": \"Durasi_Menit\",\n      \"properties\": {\n        \"dtype\": \"number\",\n        \"std\": 5,\n        \"min\": 17,\n        \"max\": 85,\n        \"num_unique_values\": 15,\n        \"samples\": [\n          70,\n          84,\n          62\n        ],\n        \"semantic_type\": \"\",\n        \"description\": \"\"\n      }\n    },\n    {\n      \"column\": \"Rating_Program\",\n      \"properties\": {\n        \"dtype\": \"number\",\n        \"std\": 0.014013744529186259,\n        \"min\": 0.0,\n        \"max\": 0.08,\n        \"num_unique_values\": 9,\n        \"samples\": [\n          0.06,\n          0.02,\n          0.05\n        ],\n        \"semantic_type\": \"\",\n        \"description\": \"\"\n      }\n    },\n    {\n      \"column\": \"Share\",\n      \"properties\": {\n        \"dtype\": \"number\",\n        \"std\": 0.21588334954067048,\n        \"min\": 0.08,\n        \"max\": 1.2,\n        \"num_unique_values\": 76,\n        \"samples\": [\n          0.66,\n          0.21,\n          0.16\n        ],\n        \"semantic_type\": \"\",\n        \"description\": \"\"\n      }\n    },\n    {\n      \"column\": \"Jumlah_Penonton\",\n      \"properties\": {\n        \"dtype\": \"number\",\n        \"std\": 74084,\n        \"min\": 49621,\n        \"max\": 416042,\n        \"num_unique_values\": 183,\n        \"samples\": [\n          148288,\n          214547,\n          263378\n        ],\n        \"semantic_type\": \"\",\n        \"description\": \"\"\n      }\n    },\n    {\n      \"column\": \"Hari_Tayang\",\n      \"properties\": {\n        \"dtype\": \"category\",\n        \"num_unique_values\": 7,\n        \"samples\": [\n          \"Sunday\",\n          \"Monday\",\n          \"Friday\"\n        ],\n        \"semantic_type\": \"\",\n        \"description\": \"\"\n      }\n    },\n    {\n      \"column\": \"AveTime/Viewer\",\n      \"properties\": {\n        \"dtype\": \"number\",\n        \"std\": 3,\n        \"min\": 2,\n        \"max\": 23,\n        \"num_unique_values\": 21,\n        \"samples\": [\n          10,\n          17,\n          3\n        ],\n        \"semantic_type\": \"\",\n        \"description\": \"\"\n      }\n    },\n    {\n      \"column\": \"Persentase_Penonton_Laki\",\n      \"properties\": {\n        \"dtype\": \"number\",\n        \"std\": 0.0015638111504775005,\n        \"min\": 0.5429999999999999,\n        \"max\": 0.5579999999999999,\n        \"num_unique_values\": 2,\n        \"samples\": [\n          0.5429999999999999,\n          0.5579999999999999\n        ],\n        \"semantic_type\": \"\",\n        \"description\": \"\"\n      }\n    },\n    {\n      \"column\": \"Persentase_Penonton_Perempuan\",\n      \"properties\": {\n        \"dtype\": \"number\",\n        \"std\": 0.0015638111504774996,\n        \"min\": 0.442,\n        \"max\": 0.457,\n        \"num_unique_values\": 2,\n        \"samples\": [\n          0.457,\n          0.442\n        ],\n        \"semantic_type\": \"\",\n        \"description\": \"\"\n      }\n    },\n    {\n      \"column\": \"Rating_Kompetitor_Tertinggi\",\n      \"properties\": {\n        \"dtype\": \"number\",\n        \"std\": 0.10730785749678375,\n        \"min\": 0.61,\n        \"max\": 1.21,\n        \"num_unique_values\": 49,\n        \"samples\": [\n          0.75,\n          0.69\n        ],\n        \"semantic_type\": \"\",\n        \"description\": \"\"\n      }\n    },\n    {\n      \"column\": \"Total_Rating_Kompetitor\",\n      \"properties\": {\n        \"dtype\": \"number\",\n        \"std\": 0.7252045764994705,\n        \"min\": 7.91,\n        \"max\": 11.43,\n        \"num_unique_values\": 126,\n        \"samples\": [\n          9.98,\n          9.15\n        ],\n        \"semantic_type\": \"\",\n        \"description\": \"\"\n      }\n    }\n  ]\n}",
       "type": "dataframe",
       "variable_name": "df"
      },
      "text/html": [
       "\n",
       "  <div id=\"df-50c33658-50ae-4624-b352-bd8284e0f4af\" class=\"colab-df-container\">\n",
       "    <div>\n",
       "<style scoped>\n",
       "    .dataframe tbody tr th:only-of-type {\n",
       "        vertical-align: middle;\n",
       "    }\n",
       "\n",
       "    .dataframe tbody tr th {\n",
       "        vertical-align: top;\n",
       "    }\n",
       "\n",
       "    .dataframe thead th {\n",
       "        text-align: right;\n",
       "    }\n",
       "</style>\n",
       "<table border=\"1\" class=\"dataframe\">\n",
       "  <thead>\n",
       "    <tr style=\"text-align: right;\">\n",
       "      <th></th>\n",
       "      <th>Tanggal_Program</th>\n",
       "      <th>Waktu_Program_Mulai</th>\n",
       "      <th>Waktu_Program_Habis</th>\n",
       "      <th>Durasi_Menit</th>\n",
       "      <th>Rating_Program</th>\n",
       "      <th>Share</th>\n",
       "      <th>Jumlah_Penonton</th>\n",
       "      <th>Hari_Tayang</th>\n",
       "      <th>AveTime/Viewer</th>\n",
       "      <th>Persentase_Penonton_Laki</th>\n",
       "      <th>Persentase_Penonton_Perempuan</th>\n",
       "      <th>Rating_Kompetitor_Tertinggi</th>\n",
       "      <th>Total_Rating_Kompetitor</th>\n",
       "    </tr>\n",
       "  </thead>\n",
       "  <tbody>\n",
       "    <tr>\n",
       "      <th>0</th>\n",
       "      <td>2024-09-01</td>\n",
       "      <td>06:00:00</td>\n",
       "      <td>07:01:00</td>\n",
       "      <td>62</td>\n",
       "      <td>0.04</td>\n",
       "      <td>0.68</td>\n",
       "      <td>287943</td>\n",
       "      <td>Sunday</td>\n",
       "      <td>10</td>\n",
       "      <td>0.558</td>\n",
       "      <td>0.442</td>\n",
       "      <td>0.78</td>\n",
       "      <td>8.32</td>\n",
       "    </tr>\n",
       "    <tr>\n",
       "      <th>1</th>\n",
       "      <td>2024-09-02</td>\n",
       "      <td>06:00:00</td>\n",
       "      <td>07:00:00</td>\n",
       "      <td>60</td>\n",
       "      <td>0.02</td>\n",
       "      <td>0.33</td>\n",
       "      <td>187956</td>\n",
       "      <td>Monday</td>\n",
       "      <td>7</td>\n",
       "      <td>0.558</td>\n",
       "      <td>0.442</td>\n",
       "      <td>0.76</td>\n",
       "      <td>9.27</td>\n",
       "    </tr>\n",
       "    <tr>\n",
       "      <th>2</th>\n",
       "      <td>2024-09-03</td>\n",
       "      <td>06:00:00</td>\n",
       "      <td>06:59:00</td>\n",
       "      <td>59</td>\n",
       "      <td>0.00</td>\n",
       "      <td>0.08</td>\n",
       "      <td>88047</td>\n",
       "      <td>Tuesday</td>\n",
       "      <td>4</td>\n",
       "      <td>0.558</td>\n",
       "      <td>0.442</td>\n",
       "      <td>0.91</td>\n",
       "      <td>10.19</td>\n",
       "    </tr>\n",
       "    <tr>\n",
       "      <th>3</th>\n",
       "      <td>2024-09-04</td>\n",
       "      <td>06:00:00</td>\n",
       "      <td>07:01:00</td>\n",
       "      <td>62</td>\n",
       "      <td>0.03</td>\n",
       "      <td>0.50</td>\n",
       "      <td>158858</td>\n",
       "      <td>Wednesday</td>\n",
       "      <td>14</td>\n",
       "      <td>0.558</td>\n",
       "      <td>0.442</td>\n",
       "      <td>0.71</td>\n",
       "      <td>9.06</td>\n",
       "    </tr>\n",
       "    <tr>\n",
       "      <th>4</th>\n",
       "      <td>2024-09-05</td>\n",
       "      <td>06:00:00</td>\n",
       "      <td>06:59:00</td>\n",
       "      <td>60</td>\n",
       "      <td>0.04</td>\n",
       "      <td>0.66</td>\n",
       "      <td>306082</td>\n",
       "      <td>Thursday</td>\n",
       "      <td>10</td>\n",
       "      <td>0.558</td>\n",
       "      <td>0.442</td>\n",
       "      <td>0.88</td>\n",
       "      <td>10.34</td>\n",
       "    </tr>\n",
       "  </tbody>\n",
       "</table>\n",
       "</div>\n",
       "    <div class=\"colab-df-buttons\">\n",
       "\n",
       "  <div class=\"colab-df-container\">\n",
       "    <button class=\"colab-df-convert\" onclick=\"convertToInteractive('df-50c33658-50ae-4624-b352-bd8284e0f4af')\"\n",
       "            title=\"Convert this dataframe to an interactive table.\"\n",
       "            style=\"display:none;\">\n",
       "\n",
       "  <svg xmlns=\"http://www.w3.org/2000/svg\" height=\"24px\" viewBox=\"0 -960 960 960\">\n",
       "    <path d=\"M120-120v-720h720v720H120Zm60-500h600v-160H180v160Zm220 220h160v-160H400v160Zm0 220h160v-160H400v160ZM180-400h160v-160H180v160Zm440 0h160v-160H620v160ZM180-180h160v-160H180v160Zm440 0h160v-160H620v160Z\"/>\n",
       "  </svg>\n",
       "    </button>\n",
       "\n",
       "  <style>\n",
       "    .colab-df-container {\n",
       "      display:flex;\n",
       "      gap: 12px;\n",
       "    }\n",
       "\n",
       "    .colab-df-convert {\n",
       "      background-color: #E8F0FE;\n",
       "      border: none;\n",
       "      border-radius: 50%;\n",
       "      cursor: pointer;\n",
       "      display: none;\n",
       "      fill: #1967D2;\n",
       "      height: 32px;\n",
       "      padding: 0 0 0 0;\n",
       "      width: 32px;\n",
       "    }\n",
       "\n",
       "    .colab-df-convert:hover {\n",
       "      background-color: #E2EBFA;\n",
       "      box-shadow: 0px 1px 2px rgba(60, 64, 67, 0.3), 0px 1px 3px 1px rgba(60, 64, 67, 0.15);\n",
       "      fill: #174EA6;\n",
       "    }\n",
       "\n",
       "    .colab-df-buttons div {\n",
       "      margin-bottom: 4px;\n",
       "    }\n",
       "\n",
       "    [theme=dark] .colab-df-convert {\n",
       "      background-color: #3B4455;\n",
       "      fill: #D2E3FC;\n",
       "    }\n",
       "\n",
       "    [theme=dark] .colab-df-convert:hover {\n",
       "      background-color: #434B5C;\n",
       "      box-shadow: 0px 1px 3px 1px rgba(0, 0, 0, 0.15);\n",
       "      filter: drop-shadow(0px 1px 2px rgba(0, 0, 0, 0.3));\n",
       "      fill: #FFFFFF;\n",
       "    }\n",
       "  </style>\n",
       "\n",
       "    <script>\n",
       "      const buttonEl =\n",
       "        document.querySelector('#df-50c33658-50ae-4624-b352-bd8284e0f4af button.colab-df-convert');\n",
       "      buttonEl.style.display =\n",
       "        google.colab.kernel.accessAllowed ? 'block' : 'none';\n",
       "\n",
       "      async function convertToInteractive(key) {\n",
       "        const element = document.querySelector('#df-50c33658-50ae-4624-b352-bd8284e0f4af');\n",
       "        const dataTable =\n",
       "          await google.colab.kernel.invokeFunction('convertToInteractive',\n",
       "                                                    [key], {});\n",
       "        if (!dataTable) return;\n",
       "\n",
       "        const docLinkHtml = 'Like what you see? Visit the ' +\n",
       "          '<a target=\"_blank\" href=https://colab.research.google.com/notebooks/data_table.ipynb>data table notebook</a>'\n",
       "          + ' to learn more about interactive tables.';\n",
       "        element.innerHTML = '';\n",
       "        dataTable['output_type'] = 'display_data';\n",
       "        await google.colab.output.renderOutput(dataTable, element);\n",
       "        const docLink = document.createElement('div');\n",
       "        docLink.innerHTML = docLinkHtml;\n",
       "        element.appendChild(docLink);\n",
       "      }\n",
       "    </script>\n",
       "  </div>\n",
       "\n",
       "\n",
       "    <div id=\"df-b7ecb9ed-43c7-4cf9-ba20-1a6d2e3129bf\">\n",
       "      <button class=\"colab-df-quickchart\" onclick=\"quickchart('df-b7ecb9ed-43c7-4cf9-ba20-1a6d2e3129bf')\"\n",
       "                title=\"Suggest charts\"\n",
       "                style=\"display:none;\">\n",
       "\n",
       "<svg xmlns=\"http://www.w3.org/2000/svg\" height=\"24px\"viewBox=\"0 0 24 24\"\n",
       "     width=\"24px\">\n",
       "    <g>\n",
       "        <path d=\"M19 3H5c-1.1 0-2 .9-2 2v14c0 1.1.9 2 2 2h14c1.1 0 2-.9 2-2V5c0-1.1-.9-2-2-2zM9 17H7v-7h2v7zm4 0h-2V7h2v10zm4 0h-2v-4h2v4z\"/>\n",
       "    </g>\n",
       "</svg>\n",
       "      </button>\n",
       "\n",
       "<style>\n",
       "  .colab-df-quickchart {\n",
       "      --bg-color: #E8F0FE;\n",
       "      --fill-color: #1967D2;\n",
       "      --hover-bg-color: #E2EBFA;\n",
       "      --hover-fill-color: #174EA6;\n",
       "      --disabled-fill-color: #AAA;\n",
       "      --disabled-bg-color: #DDD;\n",
       "  }\n",
       "\n",
       "  [theme=dark] .colab-df-quickchart {\n",
       "      --bg-color: #3B4455;\n",
       "      --fill-color: #D2E3FC;\n",
       "      --hover-bg-color: #434B5C;\n",
       "      --hover-fill-color: #FFFFFF;\n",
       "      --disabled-bg-color: #3B4455;\n",
       "      --disabled-fill-color: #666;\n",
       "  }\n",
       "\n",
       "  .colab-df-quickchart {\n",
       "    background-color: var(--bg-color);\n",
       "    border: none;\n",
       "    border-radius: 50%;\n",
       "    cursor: pointer;\n",
       "    display: none;\n",
       "    fill: var(--fill-color);\n",
       "    height: 32px;\n",
       "    padding: 0;\n",
       "    width: 32px;\n",
       "  }\n",
       "\n",
       "  .colab-df-quickchart:hover {\n",
       "    background-color: var(--hover-bg-color);\n",
       "    box-shadow: 0 1px 2px rgba(60, 64, 67, 0.3), 0 1px 3px 1px rgba(60, 64, 67, 0.15);\n",
       "    fill: var(--button-hover-fill-color);\n",
       "  }\n",
       "\n",
       "  .colab-df-quickchart-complete:disabled,\n",
       "  .colab-df-quickchart-complete:disabled:hover {\n",
       "    background-color: var(--disabled-bg-color);\n",
       "    fill: var(--disabled-fill-color);\n",
       "    box-shadow: none;\n",
       "  }\n",
       "\n",
       "  .colab-df-spinner {\n",
       "    border: 2px solid var(--fill-color);\n",
       "    border-color: transparent;\n",
       "    border-bottom-color: var(--fill-color);\n",
       "    animation:\n",
       "      spin 1s steps(1) infinite;\n",
       "  }\n",
       "\n",
       "  @keyframes spin {\n",
       "    0% {\n",
       "      border-color: transparent;\n",
       "      border-bottom-color: var(--fill-color);\n",
       "      border-left-color: var(--fill-color);\n",
       "    }\n",
       "    20% {\n",
       "      border-color: transparent;\n",
       "      border-left-color: var(--fill-color);\n",
       "      border-top-color: var(--fill-color);\n",
       "    }\n",
       "    30% {\n",
       "      border-color: transparent;\n",
       "      border-left-color: var(--fill-color);\n",
       "      border-top-color: var(--fill-color);\n",
       "      border-right-color: var(--fill-color);\n",
       "    }\n",
       "    40% {\n",
       "      border-color: transparent;\n",
       "      border-right-color: var(--fill-color);\n",
       "      border-top-color: var(--fill-color);\n",
       "    }\n",
       "    60% {\n",
       "      border-color: transparent;\n",
       "      border-right-color: var(--fill-color);\n",
       "    }\n",
       "    80% {\n",
       "      border-color: transparent;\n",
       "      border-right-color: var(--fill-color);\n",
       "      border-bottom-color: var(--fill-color);\n",
       "    }\n",
       "    90% {\n",
       "      border-color: transparent;\n",
       "      border-bottom-color: var(--fill-color);\n",
       "    }\n",
       "  }\n",
       "</style>\n",
       "\n",
       "      <script>\n",
       "        async function quickchart(key) {\n",
       "          const quickchartButtonEl =\n",
       "            document.querySelector('#' + key + ' button');\n",
       "          quickchartButtonEl.disabled = true;  // To prevent multiple clicks.\n",
       "          quickchartButtonEl.classList.add('colab-df-spinner');\n",
       "          try {\n",
       "            const charts = await google.colab.kernel.invokeFunction(\n",
       "                'suggestCharts', [key], {});\n",
       "          } catch (error) {\n",
       "            console.error('Error during call to suggestCharts:', error);\n",
       "          }\n",
       "          quickchartButtonEl.classList.remove('colab-df-spinner');\n",
       "          quickchartButtonEl.classList.add('colab-df-quickchart-complete');\n",
       "        }\n",
       "        (() => {\n",
       "          let quickchartButtonEl =\n",
       "            document.querySelector('#df-b7ecb9ed-43c7-4cf9-ba20-1a6d2e3129bf button');\n",
       "          quickchartButtonEl.style.display =\n",
       "            google.colab.kernel.accessAllowed ? 'block' : 'none';\n",
       "        })();\n",
       "      </script>\n",
       "    </div>\n",
       "\n",
       "    </div>\n",
       "  </div>\n"
      ],
      "text/plain": [
       "  Tanggal_Program Waktu_Program_Mulai Waktu_Program_Habis  Durasi_Menit  \\\n",
       "0      2024-09-01            06:00:00            07:01:00            62   \n",
       "1      2024-09-02            06:00:00            07:00:00            60   \n",
       "2      2024-09-03            06:00:00            06:59:00            59   \n",
       "3      2024-09-04            06:00:00            07:01:00            62   \n",
       "4      2024-09-05            06:00:00            06:59:00            60   \n",
       "\n",
       "   Rating_Program  Share  Jumlah_Penonton Hari_Tayang  AveTime/Viewer  \\\n",
       "0            0.04   0.68           287943      Sunday              10   \n",
       "1            0.02   0.33           187956      Monday               7   \n",
       "2            0.00   0.08            88047     Tuesday               4   \n",
       "3            0.03   0.50           158858   Wednesday              14   \n",
       "4            0.04   0.66           306082    Thursday              10   \n",
       "\n",
       "   Persentase_Penonton_Laki  Persentase_Penonton_Perempuan  \\\n",
       "0                     0.558                          0.442   \n",
       "1                     0.558                          0.442   \n",
       "2                     0.558                          0.442   \n",
       "3                     0.558                          0.442   \n",
       "4                     0.558                          0.442   \n",
       "\n",
       "   Rating_Kompetitor_Tertinggi  Total_Rating_Kompetitor  \n",
       "0                         0.78                     8.32  \n",
       "1                         0.76                     9.27  \n",
       "2                         0.91                    10.19  \n",
       "3                         0.71                     9.06  \n",
       "4                         0.88                    10.34  "
      ]
     },
     "execution_count": 9,
     "metadata": {},
     "output_type": "execute_result"
    }
   ],
   "source": [
    "df.head()"
   ]
  },
  {
   "cell_type": "code",
   "execution_count": 10,
   "metadata": {
    "executionInfo": {
     "elapsed": 7,
     "status": "ok",
     "timestamp": 1754282814071,
     "user": {
      "displayName": "MICHAEL STEVEN",
      "userId": "09225223714904031338"
     },
     "user_tz": -420
    },
    "id": "_cDpuZFBomUy"
   },
   "outputs": [],
   "source": [
    "# Ekstrak komponen tanggal\n",
    "df['Year'] = df['Tanggal_Program'].dt.year\n",
    "df['Month'] = df['Tanggal_Program'].dt.month\n",
    "df['Day'] = df['Tanggal_Program'].dt.day\n",
    "df['Tanggal'] = df['Tanggal_Program']\n",
    "df.drop(columns=['Tanggal_Program'], inplace=True)"
   ]
  },
  {
   "cell_type": "code",
   "execution_count": 11,
   "metadata": {
    "colab": {
     "base_uri": "https://localhost:8080/",
     "height": 313
    },
    "executionInfo": {
     "elapsed": 95,
     "status": "ok",
     "timestamp": 1754282814164,
     "user": {
      "displayName": "MICHAEL STEVEN",
      "userId": "09225223714904031338"
     },
     "user_tz": -420
    },
    "id": "T5mAmAE6otGa",
    "outputId": "2cfb072b-9cab-4f9f-c051-e389f0de1f3f"
   },
   "outputs": [
    {
     "data": {
      "application/vnd.google.colaboratory.intrinsic+json": {
       "summary": "{\n  \"name\": \"df\",\n  \"rows\": 183,\n  \"fields\": [\n    {\n      \"column\": \"Waktu_Program_Mulai\",\n      \"properties\": {\n        \"dtype\": \"category\",\n        \"num_unique_values\": 8,\n        \"samples\": [\n          \"06:25:00\",\n          \"05:58:00\",\n          \"06:00:00\"\n        ],\n        \"semantic_type\": \"\",\n        \"description\": \"\"\n      }\n    },\n    {\n      \"column\": \"Waktu_Program_Habis\",\n      \"properties\": {\n        \"dtype\": \"category\",\n        \"num_unique_values\": 10,\n        \"samples\": [\n          \"07:25:00\",\n          \"07:00:00\",\n          \"06:58:00\"\n        ],\n        \"semantic_type\": \"\",\n        \"description\": \"\"\n      }\n    },\n    {\n      \"column\": \"Durasi_Menit\",\n      \"properties\": {\n        \"dtype\": \"number\",\n        \"std\": 5,\n        \"min\": 17,\n        \"max\": 85,\n        \"num_unique_values\": 15,\n        \"samples\": [\n          70,\n          84,\n          62\n        ],\n        \"semantic_type\": \"\",\n        \"description\": \"\"\n      }\n    },\n    {\n      \"column\": \"Rating_Program\",\n      \"properties\": {\n        \"dtype\": \"number\",\n        \"std\": 0.014013744529186259,\n        \"min\": 0.0,\n        \"max\": 0.08,\n        \"num_unique_values\": 9,\n        \"samples\": [\n          0.06,\n          0.02,\n          0.05\n        ],\n        \"semantic_type\": \"\",\n        \"description\": \"\"\n      }\n    },\n    {\n      \"column\": \"Share\",\n      \"properties\": {\n        \"dtype\": \"number\",\n        \"std\": 0.21588334954067048,\n        \"min\": 0.08,\n        \"max\": 1.2,\n        \"num_unique_values\": 76,\n        \"samples\": [\n          0.66,\n          0.21,\n          0.16\n        ],\n        \"semantic_type\": \"\",\n        \"description\": \"\"\n      }\n    },\n    {\n      \"column\": \"Jumlah_Penonton\",\n      \"properties\": {\n        \"dtype\": \"number\",\n        \"std\": 74084,\n        \"min\": 49621,\n        \"max\": 416042,\n        \"num_unique_values\": 183,\n        \"samples\": [\n          148288,\n          214547,\n          263378\n        ],\n        \"semantic_type\": \"\",\n        \"description\": \"\"\n      }\n    },\n    {\n      \"column\": \"Hari_Tayang\",\n      \"properties\": {\n        \"dtype\": \"category\",\n        \"num_unique_values\": 7,\n        \"samples\": [\n          \"Sunday\",\n          \"Monday\",\n          \"Friday\"\n        ],\n        \"semantic_type\": \"\",\n        \"description\": \"\"\n      }\n    },\n    {\n      \"column\": \"AveTime/Viewer\",\n      \"properties\": {\n        \"dtype\": \"number\",\n        \"std\": 3,\n        \"min\": 2,\n        \"max\": 23,\n        \"num_unique_values\": 21,\n        \"samples\": [\n          10,\n          17,\n          3\n        ],\n        \"semantic_type\": \"\",\n        \"description\": \"\"\n      }\n    },\n    {\n      \"column\": \"Persentase_Penonton_Laki\",\n      \"properties\": {\n        \"dtype\": \"number\",\n        \"std\": 0.0015638111504775005,\n        \"min\": 0.5429999999999999,\n        \"max\": 0.5579999999999999,\n        \"num_unique_values\": 2,\n        \"samples\": [\n          0.5429999999999999,\n          0.5579999999999999\n        ],\n        \"semantic_type\": \"\",\n        \"description\": \"\"\n      }\n    },\n    {\n      \"column\": \"Persentase_Penonton_Perempuan\",\n      \"properties\": {\n        \"dtype\": \"number\",\n        \"std\": 0.0015638111504774996,\n        \"min\": 0.442,\n        \"max\": 0.457,\n        \"num_unique_values\": 2,\n        \"samples\": [\n          0.457,\n          0.442\n        ],\n        \"semantic_type\": \"\",\n        \"description\": \"\"\n      }\n    },\n    {\n      \"column\": \"Rating_Kompetitor_Tertinggi\",\n      \"properties\": {\n        \"dtype\": \"number\",\n        \"std\": 0.10730785749678375,\n        \"min\": 0.61,\n        \"max\": 1.21,\n        \"num_unique_values\": 49,\n        \"samples\": [\n          0.75,\n          0.69\n        ],\n        \"semantic_type\": \"\",\n        \"description\": \"\"\n      }\n    },\n    {\n      \"column\": \"Total_Rating_Kompetitor\",\n      \"properties\": {\n        \"dtype\": \"number\",\n        \"std\": 0.7252045764994705,\n        \"min\": 7.91,\n        \"max\": 11.43,\n        \"num_unique_values\": 126,\n        \"samples\": [\n          9.98,\n          9.15\n        ],\n        \"semantic_type\": \"\",\n        \"description\": \"\"\n      }\n    },\n    {\n      \"column\": \"Year\",\n      \"properties\": {\n        \"dtype\": \"int32\",\n        \"num_unique_values\": 2,\n        \"samples\": [\n          2025,\n          2024\n        ],\n        \"semantic_type\": \"\",\n        \"description\": \"\"\n      }\n    },\n    {\n      \"column\": \"Month\",\n      \"properties\": {\n        \"dtype\": \"int32\",\n        \"num_unique_values\": 6,\n        \"samples\": [\n          9,\n          10\n        ],\n        \"semantic_type\": \"\",\n        \"description\": \"\"\n      }\n    },\n    {\n      \"column\": \"Day\",\n      \"properties\": {\n        \"dtype\": \"int32\",\n        \"num_unique_values\": 31,\n        \"samples\": [\n          28,\n          16\n        ],\n        \"semantic_type\": \"\",\n        \"description\": \"\"\n      }\n    },\n    {\n      \"column\": \"Tanggal\",\n      \"properties\": {\n        \"dtype\": \"date\",\n        \"min\": \"2024-09-01 00:00:00\",\n        \"max\": \"2025-02-28 00:00:00\",\n        \"num_unique_values\": 181,\n        \"samples\": [\n          \"2024-09-20 00:00:00\",\n          \"2024-10-13 00:00:00\"\n        ],\n        \"semantic_type\": \"\",\n        \"description\": \"\"\n      }\n    }\n  ]\n}",
       "type": "dataframe",
       "variable_name": "df"
      },
      "text/html": [
       "\n",
       "  <div id=\"df-7f7d02da-93c3-4f64-acac-b7c9e3b96d22\" class=\"colab-df-container\">\n",
       "    <div>\n",
       "<style scoped>\n",
       "    .dataframe tbody tr th:only-of-type {\n",
       "        vertical-align: middle;\n",
       "    }\n",
       "\n",
       "    .dataframe tbody tr th {\n",
       "        vertical-align: top;\n",
       "    }\n",
       "\n",
       "    .dataframe thead th {\n",
       "        text-align: right;\n",
       "    }\n",
       "</style>\n",
       "<table border=\"1\" class=\"dataframe\">\n",
       "  <thead>\n",
       "    <tr style=\"text-align: right;\">\n",
       "      <th></th>\n",
       "      <th>Waktu_Program_Mulai</th>\n",
       "      <th>Waktu_Program_Habis</th>\n",
       "      <th>Durasi_Menit</th>\n",
       "      <th>Rating_Program</th>\n",
       "      <th>Share</th>\n",
       "      <th>Jumlah_Penonton</th>\n",
       "      <th>Hari_Tayang</th>\n",
       "      <th>AveTime/Viewer</th>\n",
       "      <th>Persentase_Penonton_Laki</th>\n",
       "      <th>Persentase_Penonton_Perempuan</th>\n",
       "      <th>Rating_Kompetitor_Tertinggi</th>\n",
       "      <th>Total_Rating_Kompetitor</th>\n",
       "      <th>Year</th>\n",
       "      <th>Month</th>\n",
       "      <th>Day</th>\n",
       "      <th>Tanggal</th>\n",
       "    </tr>\n",
       "  </thead>\n",
       "  <tbody>\n",
       "    <tr>\n",
       "      <th>0</th>\n",
       "      <td>06:00:00</td>\n",
       "      <td>07:01:00</td>\n",
       "      <td>62</td>\n",
       "      <td>0.04</td>\n",
       "      <td>0.68</td>\n",
       "      <td>287943</td>\n",
       "      <td>Sunday</td>\n",
       "      <td>10</td>\n",
       "      <td>0.558</td>\n",
       "      <td>0.442</td>\n",
       "      <td>0.78</td>\n",
       "      <td>8.32</td>\n",
       "      <td>2024</td>\n",
       "      <td>9</td>\n",
       "      <td>1</td>\n",
       "      <td>2024-09-01</td>\n",
       "    </tr>\n",
       "    <tr>\n",
       "      <th>1</th>\n",
       "      <td>06:00:00</td>\n",
       "      <td>07:00:00</td>\n",
       "      <td>60</td>\n",
       "      <td>0.02</td>\n",
       "      <td>0.33</td>\n",
       "      <td>187956</td>\n",
       "      <td>Monday</td>\n",
       "      <td>7</td>\n",
       "      <td>0.558</td>\n",
       "      <td>0.442</td>\n",
       "      <td>0.76</td>\n",
       "      <td>9.27</td>\n",
       "      <td>2024</td>\n",
       "      <td>9</td>\n",
       "      <td>2</td>\n",
       "      <td>2024-09-02</td>\n",
       "    </tr>\n",
       "    <tr>\n",
       "      <th>2</th>\n",
       "      <td>06:00:00</td>\n",
       "      <td>06:59:00</td>\n",
       "      <td>59</td>\n",
       "      <td>0.00</td>\n",
       "      <td>0.08</td>\n",
       "      <td>88047</td>\n",
       "      <td>Tuesday</td>\n",
       "      <td>4</td>\n",
       "      <td>0.558</td>\n",
       "      <td>0.442</td>\n",
       "      <td>0.91</td>\n",
       "      <td>10.19</td>\n",
       "      <td>2024</td>\n",
       "      <td>9</td>\n",
       "      <td>3</td>\n",
       "      <td>2024-09-03</td>\n",
       "    </tr>\n",
       "    <tr>\n",
       "      <th>3</th>\n",
       "      <td>06:00:00</td>\n",
       "      <td>07:01:00</td>\n",
       "      <td>62</td>\n",
       "      <td>0.03</td>\n",
       "      <td>0.50</td>\n",
       "      <td>158858</td>\n",
       "      <td>Wednesday</td>\n",
       "      <td>14</td>\n",
       "      <td>0.558</td>\n",
       "      <td>0.442</td>\n",
       "      <td>0.71</td>\n",
       "      <td>9.06</td>\n",
       "      <td>2024</td>\n",
       "      <td>9</td>\n",
       "      <td>4</td>\n",
       "      <td>2024-09-04</td>\n",
       "    </tr>\n",
       "    <tr>\n",
       "      <th>4</th>\n",
       "      <td>06:00:00</td>\n",
       "      <td>06:59:00</td>\n",
       "      <td>60</td>\n",
       "      <td>0.04</td>\n",
       "      <td>0.66</td>\n",
       "      <td>306082</td>\n",
       "      <td>Thursday</td>\n",
       "      <td>10</td>\n",
       "      <td>0.558</td>\n",
       "      <td>0.442</td>\n",
       "      <td>0.88</td>\n",
       "      <td>10.34</td>\n",
       "      <td>2024</td>\n",
       "      <td>9</td>\n",
       "      <td>5</td>\n",
       "      <td>2024-09-05</td>\n",
       "    </tr>\n",
       "  </tbody>\n",
       "</table>\n",
       "</div>\n",
       "    <div class=\"colab-df-buttons\">\n",
       "\n",
       "  <div class=\"colab-df-container\">\n",
       "    <button class=\"colab-df-convert\" onclick=\"convertToInteractive('df-7f7d02da-93c3-4f64-acac-b7c9e3b96d22')\"\n",
       "            title=\"Convert this dataframe to an interactive table.\"\n",
       "            style=\"display:none;\">\n",
       "\n",
       "  <svg xmlns=\"http://www.w3.org/2000/svg\" height=\"24px\" viewBox=\"0 -960 960 960\">\n",
       "    <path d=\"M120-120v-720h720v720H120Zm60-500h600v-160H180v160Zm220 220h160v-160H400v160Zm0 220h160v-160H400v160ZM180-400h160v-160H180v160Zm440 0h160v-160H620v160ZM180-180h160v-160H180v160Zm440 0h160v-160H620v160Z\"/>\n",
       "  </svg>\n",
       "    </button>\n",
       "\n",
       "  <style>\n",
       "    .colab-df-container {\n",
       "      display:flex;\n",
       "      gap: 12px;\n",
       "    }\n",
       "\n",
       "    .colab-df-convert {\n",
       "      background-color: #E8F0FE;\n",
       "      border: none;\n",
       "      border-radius: 50%;\n",
       "      cursor: pointer;\n",
       "      display: none;\n",
       "      fill: #1967D2;\n",
       "      height: 32px;\n",
       "      padding: 0 0 0 0;\n",
       "      width: 32px;\n",
       "    }\n",
       "\n",
       "    .colab-df-convert:hover {\n",
       "      background-color: #E2EBFA;\n",
       "      box-shadow: 0px 1px 2px rgba(60, 64, 67, 0.3), 0px 1px 3px 1px rgba(60, 64, 67, 0.15);\n",
       "      fill: #174EA6;\n",
       "    }\n",
       "\n",
       "    .colab-df-buttons div {\n",
       "      margin-bottom: 4px;\n",
       "    }\n",
       "\n",
       "    [theme=dark] .colab-df-convert {\n",
       "      background-color: #3B4455;\n",
       "      fill: #D2E3FC;\n",
       "    }\n",
       "\n",
       "    [theme=dark] .colab-df-convert:hover {\n",
       "      background-color: #434B5C;\n",
       "      box-shadow: 0px 1px 3px 1px rgba(0, 0, 0, 0.15);\n",
       "      filter: drop-shadow(0px 1px 2px rgba(0, 0, 0, 0.3));\n",
       "      fill: #FFFFFF;\n",
       "    }\n",
       "  </style>\n",
       "\n",
       "    <script>\n",
       "      const buttonEl =\n",
       "        document.querySelector('#df-7f7d02da-93c3-4f64-acac-b7c9e3b96d22 button.colab-df-convert');\n",
       "      buttonEl.style.display =\n",
       "        google.colab.kernel.accessAllowed ? 'block' : 'none';\n",
       "\n",
       "      async function convertToInteractive(key) {\n",
       "        const element = document.querySelector('#df-7f7d02da-93c3-4f64-acac-b7c9e3b96d22');\n",
       "        const dataTable =\n",
       "          await google.colab.kernel.invokeFunction('convertToInteractive',\n",
       "                                                    [key], {});\n",
       "        if (!dataTable) return;\n",
       "\n",
       "        const docLinkHtml = 'Like what you see? Visit the ' +\n",
       "          '<a target=\"_blank\" href=https://colab.research.google.com/notebooks/data_table.ipynb>data table notebook</a>'\n",
       "          + ' to learn more about interactive tables.';\n",
       "        element.innerHTML = '';\n",
       "        dataTable['output_type'] = 'display_data';\n",
       "        await google.colab.output.renderOutput(dataTable, element);\n",
       "        const docLink = document.createElement('div');\n",
       "        docLink.innerHTML = docLinkHtml;\n",
       "        element.appendChild(docLink);\n",
       "      }\n",
       "    </script>\n",
       "  </div>\n",
       "\n",
       "\n",
       "    <div id=\"df-d3dac2fd-9278-449b-aa02-05f842676aba\">\n",
       "      <button class=\"colab-df-quickchart\" onclick=\"quickchart('df-d3dac2fd-9278-449b-aa02-05f842676aba')\"\n",
       "                title=\"Suggest charts\"\n",
       "                style=\"display:none;\">\n",
       "\n",
       "<svg xmlns=\"http://www.w3.org/2000/svg\" height=\"24px\"viewBox=\"0 0 24 24\"\n",
       "     width=\"24px\">\n",
       "    <g>\n",
       "        <path d=\"M19 3H5c-1.1 0-2 .9-2 2v14c0 1.1.9 2 2 2h14c1.1 0 2-.9 2-2V5c0-1.1-.9-2-2-2zM9 17H7v-7h2v7zm4 0h-2V7h2v10zm4 0h-2v-4h2v4z\"/>\n",
       "    </g>\n",
       "</svg>\n",
       "      </button>\n",
       "\n",
       "<style>\n",
       "  .colab-df-quickchart {\n",
       "      --bg-color: #E8F0FE;\n",
       "      --fill-color: #1967D2;\n",
       "      --hover-bg-color: #E2EBFA;\n",
       "      --hover-fill-color: #174EA6;\n",
       "      --disabled-fill-color: #AAA;\n",
       "      --disabled-bg-color: #DDD;\n",
       "  }\n",
       "\n",
       "  [theme=dark] .colab-df-quickchart {\n",
       "      --bg-color: #3B4455;\n",
       "      --fill-color: #D2E3FC;\n",
       "      --hover-bg-color: #434B5C;\n",
       "      --hover-fill-color: #FFFFFF;\n",
       "      --disabled-bg-color: #3B4455;\n",
       "      --disabled-fill-color: #666;\n",
       "  }\n",
       "\n",
       "  .colab-df-quickchart {\n",
       "    background-color: var(--bg-color);\n",
       "    border: none;\n",
       "    border-radius: 50%;\n",
       "    cursor: pointer;\n",
       "    display: none;\n",
       "    fill: var(--fill-color);\n",
       "    height: 32px;\n",
       "    padding: 0;\n",
       "    width: 32px;\n",
       "  }\n",
       "\n",
       "  .colab-df-quickchart:hover {\n",
       "    background-color: var(--hover-bg-color);\n",
       "    box-shadow: 0 1px 2px rgba(60, 64, 67, 0.3), 0 1px 3px 1px rgba(60, 64, 67, 0.15);\n",
       "    fill: var(--button-hover-fill-color);\n",
       "  }\n",
       "\n",
       "  .colab-df-quickchart-complete:disabled,\n",
       "  .colab-df-quickchart-complete:disabled:hover {\n",
       "    background-color: var(--disabled-bg-color);\n",
       "    fill: var(--disabled-fill-color);\n",
       "    box-shadow: none;\n",
       "  }\n",
       "\n",
       "  .colab-df-spinner {\n",
       "    border: 2px solid var(--fill-color);\n",
       "    border-color: transparent;\n",
       "    border-bottom-color: var(--fill-color);\n",
       "    animation:\n",
       "      spin 1s steps(1) infinite;\n",
       "  }\n",
       "\n",
       "  @keyframes spin {\n",
       "    0% {\n",
       "      border-color: transparent;\n",
       "      border-bottom-color: var(--fill-color);\n",
       "      border-left-color: var(--fill-color);\n",
       "    }\n",
       "    20% {\n",
       "      border-color: transparent;\n",
       "      border-left-color: var(--fill-color);\n",
       "      border-top-color: var(--fill-color);\n",
       "    }\n",
       "    30% {\n",
       "      border-color: transparent;\n",
       "      border-left-color: var(--fill-color);\n",
       "      border-top-color: var(--fill-color);\n",
       "      border-right-color: var(--fill-color);\n",
       "    }\n",
       "    40% {\n",
       "      border-color: transparent;\n",
       "      border-right-color: var(--fill-color);\n",
       "      border-top-color: var(--fill-color);\n",
       "    }\n",
       "    60% {\n",
       "      border-color: transparent;\n",
       "      border-right-color: var(--fill-color);\n",
       "    }\n",
       "    80% {\n",
       "      border-color: transparent;\n",
       "      border-right-color: var(--fill-color);\n",
       "      border-bottom-color: var(--fill-color);\n",
       "    }\n",
       "    90% {\n",
       "      border-color: transparent;\n",
       "      border-bottom-color: var(--fill-color);\n",
       "    }\n",
       "  }\n",
       "</style>\n",
       "\n",
       "      <script>\n",
       "        async function quickchart(key) {\n",
       "          const quickchartButtonEl =\n",
       "            document.querySelector('#' + key + ' button');\n",
       "          quickchartButtonEl.disabled = true;  // To prevent multiple clicks.\n",
       "          quickchartButtonEl.classList.add('colab-df-spinner');\n",
       "          try {\n",
       "            const charts = await google.colab.kernel.invokeFunction(\n",
       "                'suggestCharts', [key], {});\n",
       "          } catch (error) {\n",
       "            console.error('Error during call to suggestCharts:', error);\n",
       "          }\n",
       "          quickchartButtonEl.classList.remove('colab-df-spinner');\n",
       "          quickchartButtonEl.classList.add('colab-df-quickchart-complete');\n",
       "        }\n",
       "        (() => {\n",
       "          let quickchartButtonEl =\n",
       "            document.querySelector('#df-d3dac2fd-9278-449b-aa02-05f842676aba button');\n",
       "          quickchartButtonEl.style.display =\n",
       "            google.colab.kernel.accessAllowed ? 'block' : 'none';\n",
       "        })();\n",
       "      </script>\n",
       "    </div>\n",
       "\n",
       "    </div>\n",
       "  </div>\n"
      ],
      "text/plain": [
       "  Waktu_Program_Mulai Waktu_Program_Habis  Durasi_Menit  Rating_Program  \\\n",
       "0            06:00:00            07:01:00            62            0.04   \n",
       "1            06:00:00            07:00:00            60            0.02   \n",
       "2            06:00:00            06:59:00            59            0.00   \n",
       "3            06:00:00            07:01:00            62            0.03   \n",
       "4            06:00:00            06:59:00            60            0.04   \n",
       "\n",
       "   Share  Jumlah_Penonton Hari_Tayang  AveTime/Viewer  \\\n",
       "0   0.68           287943      Sunday              10   \n",
       "1   0.33           187956      Monday               7   \n",
       "2   0.08            88047     Tuesday               4   \n",
       "3   0.50           158858   Wednesday              14   \n",
       "4   0.66           306082    Thursday              10   \n",
       "\n",
       "   Persentase_Penonton_Laki  Persentase_Penonton_Perempuan  \\\n",
       "0                     0.558                          0.442   \n",
       "1                     0.558                          0.442   \n",
       "2                     0.558                          0.442   \n",
       "3                     0.558                          0.442   \n",
       "4                     0.558                          0.442   \n",
       "\n",
       "   Rating_Kompetitor_Tertinggi  Total_Rating_Kompetitor  Year  Month  Day  \\\n",
       "0                         0.78                     8.32  2024      9    1   \n",
       "1                         0.76                     9.27  2024      9    2   \n",
       "2                         0.91                    10.19  2024      9    3   \n",
       "3                         0.71                     9.06  2024      9    4   \n",
       "4                         0.88                    10.34  2024      9    5   \n",
       "\n",
       "     Tanggal  \n",
       "0 2024-09-01  \n",
       "1 2024-09-02  \n",
       "2 2024-09-03  \n",
       "3 2024-09-04  \n",
       "4 2024-09-05  "
      ]
     },
     "execution_count": 11,
     "metadata": {},
     "output_type": "execute_result"
    }
   ],
   "source": [
    "df.head()"
   ]
  },
  {
   "cell_type": "markdown",
   "metadata": {
    "id": "xcG4amM-o0VP"
   },
   "source": [
    "## Lag Features, Rolling Mean, Std Dev"
   ]
  },
  {
   "cell_type": "markdown",
   "metadata": {
    "id": "G2DKdRMf1omy"
   },
   "source": [
    "Pembuatan fitur **lag, rolling mean, dan rolling standard deviation** dilakukan untuk menangkap **pola temporal (waktu)** dalam data time series seperti `Rating_Program`. Fitur **lag** merepresentasikan nilai rating di hari-hari sebelumnya (misalnya 1, 2, dan 7 hari sebelumnya), yang berguna untuk memodelkan ketergantungan waktu (autokorelasi). Sementara itu, **rolling mean** dan **rolling std** menghitung rata-rata dan fluktuasi rating dalam jendela waktu tertentu (3 dan 7 hari), yang membantu model memahami tren jangka pendek dan volatilitas performa program. Karena fitur-fitur ini membutuhkan data historis, baris awal yang tidak memiliki cukup data akan menghasilkan nilai **NaN**, sehingga harus dihapus (`dropna()`) untuk menjaga konsistensi input model.\n"
   ]
  },
  {
   "cell_type": "code",
   "execution_count": 12,
   "metadata": {
    "executionInfo": {
     "elapsed": 2,
     "status": "ok",
     "timestamp": 1754282814167,
     "user": {
      "displayName": "MICHAEL STEVEN",
      "userId": "09225223714904031338"
     },
     "user_tz": -420
    },
    "id": "lorQsxsWovBK"
   },
   "outputs": [],
   "source": [
    "# Lag\n",
    "df['lag_1'] = df['Rating_Program'].shift(1)\n",
    "df['lag_2'] = df['Rating_Program'].shift(2)\n",
    "df['lag_7'] = df['Rating_Program'].shift(7)\n",
    "\n",
    "# Rolling mean\n",
    "df['rolling_3'] = df['Rating_Program'].rolling(window=3).mean()\n",
    "df['rolling_7'] = df['Rating_Program'].rolling(window=7).mean()\n",
    "\n",
    "# Rolling std deviation\n",
    "df['std_3'] = df['Rating_Program'].rolling(window=3).std()\n",
    "df['std_7'] = df['Rating_Program'].rolling(window=7).std()\n",
    "\n",
    "# Drop baris dengan NaN akibat rolling/lag\n",
    "df.dropna(inplace=True)\n",
    "# Data dari 183 menjadi 176"
   ]
  },
  {
   "cell_type": "code",
   "execution_count": 13,
   "metadata": {
    "executionInfo": {
     "elapsed": 3,
     "status": "ok",
     "timestamp": 1754282814172,
     "user": {
      "displayName": "MICHAEL STEVEN",
      "userId": "09225223714904031338"
     },
     "user_tz": -420
    },
    "id": "QoLMist6qUgu"
   },
   "outputs": [],
   "source": [
    "df.reset_index(drop=True, inplace=True)"
   ]
  },
  {
   "cell_type": "code",
   "execution_count": 14,
   "metadata": {
    "colab": {
     "base_uri": "https://localhost:8080/"
    },
    "executionInfo": {
     "elapsed": 71,
     "status": "ok",
     "timestamp": 1754282814245,
     "user": {
      "displayName": "MICHAEL STEVEN",
      "userId": "09225223714904031338"
     },
     "user_tz": -420
    },
    "id": "3WPQdrIoo2Wk",
    "outputId": "7e3bc41a-e823-47a1-b69b-b696e7a3ddb3"
   },
   "outputs": [
    {
     "name": "stdout",
     "output_type": "stream",
     "text": [
      "<class 'pandas.core.frame.DataFrame'>\n",
      "RangeIndex: 176 entries, 0 to 175\n",
      "Data columns (total 23 columns):\n",
      " #   Column                         Non-Null Count  Dtype         \n",
      "---  ------                         --------------  -----         \n",
      " 0   Waktu_Program_Mulai            176 non-null    object        \n",
      " 1   Waktu_Program_Habis            176 non-null    object        \n",
      " 2   Durasi_Menit                   176 non-null    int64         \n",
      " 3   Rating_Program                 176 non-null    float64       \n",
      " 4   Share                          176 non-null    float64       \n",
      " 5   Jumlah_Penonton                176 non-null    int64         \n",
      " 6   Hari_Tayang                    176 non-null    object        \n",
      " 7   AveTime/Viewer                 176 non-null    int64         \n",
      " 8   Persentase_Penonton_Laki       176 non-null    float64       \n",
      " 9   Persentase_Penonton_Perempuan  176 non-null    float64       \n",
      " 10  Rating_Kompetitor_Tertinggi    176 non-null    float64       \n",
      " 11  Total_Rating_Kompetitor        176 non-null    float64       \n",
      " 12  Year                           176 non-null    int32         \n",
      " 13  Month                          176 non-null    int32         \n",
      " 14  Day                            176 non-null    int32         \n",
      " 15  Tanggal                        176 non-null    datetime64[ns]\n",
      " 16  lag_1                          176 non-null    float64       \n",
      " 17  lag_2                          176 non-null    float64       \n",
      " 18  lag_7                          176 non-null    float64       \n",
      " 19  rolling_3                      176 non-null    float64       \n",
      " 20  rolling_7                      176 non-null    float64       \n",
      " 21  std_3                          176 non-null    float64       \n",
      " 22  std_7                          176 non-null    float64       \n",
      "dtypes: datetime64[ns](1), float64(13), int32(3), int64(3), object(3)\n",
      "memory usage: 29.7+ KB\n"
     ]
    }
   ],
   "source": [
    "df.info()"
   ]
  },
  {
   "cell_type": "markdown",
   "metadata": {
    "id": "zfZi2ktopJ4n"
   },
   "source": [
    "## Kecualikan Variabel Pengulangan"
   ]
  },
  {
   "cell_type": "code",
   "execution_count": 15,
   "metadata": {
    "executionInfo": {
     "elapsed": 14,
     "status": "ok",
     "timestamp": 1754282814246,
     "user": {
      "displayName": "MICHAEL STEVEN",
      "userId": "09225223714904031338"
     },
     "user_tz": -420
    },
    "id": "JceixQkwo57s"
   },
   "outputs": [],
   "source": [
    "# Drop kolom yang tidak berguna untuk prediksi\n",
    "df = df.drop(columns=[\"Waktu_Program_Mulai\", \"Waktu_Program_Habis\", \"Hari_Tayang\"], errors='ignore')"
   ]
  },
  {
   "cell_type": "code",
   "execution_count": 16,
   "metadata": {
    "colab": {
     "base_uri": "https://localhost:8080/"
    },
    "executionInfo": {
     "elapsed": 12,
     "status": "ok",
     "timestamp": 1754282814247,
     "user": {
      "displayName": "MICHAEL STEVEN",
      "userId": "09225223714904031338"
     },
     "user_tz": -420
    },
    "id": "MD5s37wHpU1p",
    "outputId": "f396c691-ff66-436f-d915-77c7d590e283"
   },
   "outputs": [
    {
     "name": "stdout",
     "output_type": "stream",
     "text": [
      "<class 'pandas.core.frame.DataFrame'>\n",
      "RangeIndex: 176 entries, 0 to 175\n",
      "Data columns (total 20 columns):\n",
      " #   Column                         Non-Null Count  Dtype         \n",
      "---  ------                         --------------  -----         \n",
      " 0   Durasi_Menit                   176 non-null    int64         \n",
      " 1   Rating_Program                 176 non-null    float64       \n",
      " 2   Share                          176 non-null    float64       \n",
      " 3   Jumlah_Penonton                176 non-null    int64         \n",
      " 4   AveTime/Viewer                 176 non-null    int64         \n",
      " 5   Persentase_Penonton_Laki       176 non-null    float64       \n",
      " 6   Persentase_Penonton_Perempuan  176 non-null    float64       \n",
      " 7   Rating_Kompetitor_Tertinggi    176 non-null    float64       \n",
      " 8   Total_Rating_Kompetitor        176 non-null    float64       \n",
      " 9   Year                           176 non-null    int32         \n",
      " 10  Month                          176 non-null    int32         \n",
      " 11  Day                            176 non-null    int32         \n",
      " 12  Tanggal                        176 non-null    datetime64[ns]\n",
      " 13  lag_1                          176 non-null    float64       \n",
      " 14  lag_2                          176 non-null    float64       \n",
      " 15  lag_7                          176 non-null    float64       \n",
      " 16  rolling_3                      176 non-null    float64       \n",
      " 17  rolling_7                      176 non-null    float64       \n",
      " 18  std_3                          176 non-null    float64       \n",
      " 19  std_7                          176 non-null    float64       \n",
      "dtypes: datetime64[ns](1), float64(13), int32(3), int64(3)\n",
      "memory usage: 25.6 KB\n"
     ]
    }
   ],
   "source": [
    "df.info()"
   ]
  },
  {
   "cell_type": "code",
   "execution_count": 17,
   "metadata": {
    "colab": {
     "base_uri": "https://localhost:8080/",
     "height": 313
    },
    "executionInfo": {
     "elapsed": 33,
     "status": "ok",
     "timestamp": 1754282814280,
     "user": {
      "displayName": "MICHAEL STEVEN",
      "userId": "09225223714904031338"
     },
     "user_tz": -420
    },
    "id": "zUf8AboVpVnN",
    "outputId": "a022e8a0-8241-489e-e432-78538d25e9df"
   },
   "outputs": [
    {
     "data": {
      "application/vnd.google.colaboratory.intrinsic+json": {
       "summary": "{\n  \"name\": \"df\",\n  \"rows\": 176,\n  \"fields\": [\n    {\n      \"column\": \"Durasi_Menit\",\n      \"properties\": {\n        \"dtype\": \"number\",\n        \"std\": 4,\n        \"min\": 17,\n        \"max\": 85,\n        \"num_unique_values\": 13,\n        \"samples\": [\n          57,\n          84,\n          60\n        ],\n        \"semantic_type\": \"\",\n        \"description\": \"\"\n      }\n    },\n    {\n      \"column\": \"Rating_Program\",\n      \"properties\": {\n        \"dtype\": \"number\",\n        \"std\": 0.014019930155262601,\n        \"min\": 0.01,\n        \"max\": 0.08,\n        \"num_unique_values\": 8,\n        \"samples\": [\n          0.01,\n          0.07,\n          0.02\n        ],\n        \"semantic_type\": \"\",\n        \"description\": \"\"\n      }\n    },\n    {\n      \"column\": \"Share\",\n      \"properties\": {\n        \"dtype\": \"number\",\n        \"std\": 0.21645322070425915,\n        \"min\": 0.09,\n        \"max\": 1.2,\n        \"num_unique_values\": 75,\n        \"samples\": [\n          0.36,\n          0.92,\n          0.29\n        ],\n        \"semantic_type\": \"\",\n        \"description\": \"\"\n      }\n    },\n    {\n      \"column\": \"Jumlah_Penonton\",\n      \"properties\": {\n        \"dtype\": \"number\",\n        \"std\": 73440,\n        \"min\": 49621,\n        \"max\": 416042,\n        \"num_unique_values\": 176,\n        \"samples\": [\n          165281,\n          141004,\n          264333\n        ],\n        \"semantic_type\": \"\",\n        \"description\": \"\"\n      }\n    },\n    {\n      \"column\": \"AveTime/Viewer\",\n      \"properties\": {\n        \"dtype\": \"number\",\n        \"std\": 3,\n        \"min\": 2,\n        \"max\": 23,\n        \"num_unique_values\": 21,\n        \"samples\": [\n          7,\n          17,\n          20\n        ],\n        \"semantic_type\": \"\",\n        \"description\": \"\"\n      }\n    },\n    {\n      \"column\": \"Persentase_Penonton_Laki\",\n      \"properties\": {\n        \"dtype\": \"number\",\n        \"std\": 0.001130667542166612,\n        \"min\": 0.5429999999999999,\n        \"max\": 0.5579999999999999,\n        \"num_unique_values\": 2,\n        \"samples\": [\n          0.5429999999999999,\n          0.5579999999999999\n        ],\n        \"semantic_type\": \"\",\n        \"description\": \"\"\n      }\n    },\n    {\n      \"column\": \"Persentase_Penonton_Perempuan\",\n      \"properties\": {\n        \"dtype\": \"number\",\n        \"std\": 0.0011306675421666119,\n        \"min\": 0.442,\n        \"max\": 0.457,\n        \"num_unique_values\": 2,\n        \"samples\": [\n          0.457,\n          0.442\n        ],\n        \"semantic_type\": \"\",\n        \"description\": \"\"\n      }\n    },\n    {\n      \"column\": \"Rating_Kompetitor_Tertinggi\",\n      \"properties\": {\n        \"dtype\": \"number\",\n        \"std\": 0.10757043901857681,\n        \"min\": 0.61,\n        \"max\": 1.21,\n        \"num_unique_values\": 49,\n        \"samples\": [\n          0.87,\n          0.69\n        ],\n        \"semantic_type\": \"\",\n        \"description\": \"\"\n      }\n    },\n    {\n      \"column\": \"Total_Rating_Kompetitor\",\n      \"properties\": {\n        \"dtype\": \"number\",\n        \"std\": 0.7227691966930465,\n        \"min\": 7.91,\n        \"max\": 11.43,\n        \"num_unique_values\": 122,\n        \"samples\": [\n          9.55,\n          11.39\n        ],\n        \"semantic_type\": \"\",\n        \"description\": \"\"\n      }\n    },\n    {\n      \"column\": \"Year\",\n      \"properties\": {\n        \"dtype\": \"int32\",\n        \"num_unique_values\": 2,\n        \"samples\": [\n          2025,\n          2024\n        ],\n        \"semantic_type\": \"\",\n        \"description\": \"\"\n      }\n    },\n    {\n      \"column\": \"Month\",\n      \"properties\": {\n        \"dtype\": \"int32\",\n        \"num_unique_values\": 6,\n        \"samples\": [\n          9,\n          10\n        ],\n        \"semantic_type\": \"\",\n        \"description\": \"\"\n      }\n    },\n    {\n      \"column\": \"Day\",\n      \"properties\": {\n        \"dtype\": \"int32\",\n        \"num_unique_values\": 31,\n        \"samples\": [\n          4,\n          22\n        ],\n        \"semantic_type\": \"\",\n        \"description\": \"\"\n      }\n    },\n    {\n      \"column\": \"Tanggal\",\n      \"properties\": {\n        \"dtype\": \"date\",\n        \"min\": \"2024-09-07 00:00:00\",\n        \"max\": \"2025-02-28 00:00:00\",\n        \"num_unique_values\": 175,\n        \"samples\": [\n          \"2025-02-10 00:00:00\",\n          \"2025-01-30 00:00:00\"\n        ],\n        \"semantic_type\": \"\",\n        \"description\": \"\"\n      }\n    },\n    {\n      \"column\": \"lag_1\",\n      \"properties\": {\n        \"dtype\": \"number\",\n        \"std\": 0.01394876990340659,\n        \"min\": 0.01,\n        \"max\": 0.08,\n        \"num_unique_values\": 8,\n        \"samples\": [\n          0.02,\n          0.07\n        ],\n        \"semantic_type\": \"\",\n        \"description\": \"\"\n      }\n    },\n    {\n      \"column\": \"lag_2\",\n      \"properties\": {\n        \"dtype\": \"number\",\n        \"std\": 0.013959124000349838,\n        \"min\": 0.01,\n        \"max\": 0.08,\n        \"num_unique_values\": 8,\n        \"samples\": [\n          0.04,\n          0.07\n        ],\n        \"semantic_type\": \"\",\n        \"description\": \"\"\n      }\n    },\n    {\n      \"column\": \"lag_7\",\n      \"properties\": {\n        \"dtype\": \"number\",\n        \"std\": 0.01400730328987509,\n        \"min\": 0.0,\n        \"max\": 0.08,\n        \"num_unique_values\": 9,\n        \"samples\": [\n          0.06,\n          0.02\n        ],\n        \"semantic_type\": \"\",\n        \"description\": \"\"\n      }\n    },\n    {\n      \"column\": \"rolling_3\",\n      \"properties\": {\n        \"dtype\": \"number\",\n        \"std\": 0.00930078973822599,\n        \"min\": 0.01,\n        \"max\": 0.05666666666666668,\n        \"num_unique_values\": 44,\n        \"samples\": [\n          0.03666666666666669,\n          0.013333333333333341\n        ],\n        \"semantic_type\": \"\",\n        \"description\": \"\"\n      }\n    },\n    {\n      \"column\": \"rolling_7\",\n      \"properties\": {\n        \"dtype\": \"number\",\n        \"std\": 0.006909197709359098,\n        \"min\": 0.012857142857142857,\n        \"max\": 0.04714285714285715,\n        \"num_unique_values\": 35,\n        \"samples\": [\n          0.04,\n          0.025714285714285714\n        ],\n        \"semantic_type\": \"\",\n        \"description\": \"\"\n      }\n    },\n    {\n      \"column\": \"std_3\",\n      \"properties\": {\n        \"dtype\": \"number\",\n        \"std\": 0.006340562189881996,\n        \"min\": 0.0,\n        \"max\": 0.03055050463303895,\n        \"num_unique_values\": 92,\n        \"samples\": [\n          0.005773502691896213,\n          0.01\n        ],\n        \"semantic_type\": \"\",\n        \"description\": \"\"\n      }\n    },\n    {\n      \"column\": \"std_7\",\n      \"properties\": {\n        \"dtype\": \"number\",\n        \"std\": 0.0037041122670387295,\n        \"min\": 0.0037796447300922436,\n        \"max\": 0.0236038737740833,\n        \"num_unique_values\": 100,\n        \"samples\": [\n          0.0236038737740833,\n          0.013801311186847081\n        ],\n        \"semantic_type\": \"\",\n        \"description\": \"\"\n      }\n    }\n  ]\n}",
       "type": "dataframe",
       "variable_name": "df"
      },
      "text/html": [
       "\n",
       "  <div id=\"df-28787b69-c646-4487-8b7e-5c0c60a3c048\" class=\"colab-df-container\">\n",
       "    <div>\n",
       "<style scoped>\n",
       "    .dataframe tbody tr th:only-of-type {\n",
       "        vertical-align: middle;\n",
       "    }\n",
       "\n",
       "    .dataframe tbody tr th {\n",
       "        vertical-align: top;\n",
       "    }\n",
       "\n",
       "    .dataframe thead th {\n",
       "        text-align: right;\n",
       "    }\n",
       "</style>\n",
       "<table border=\"1\" class=\"dataframe\">\n",
       "  <thead>\n",
       "    <tr style=\"text-align: right;\">\n",
       "      <th></th>\n",
       "      <th>Durasi_Menit</th>\n",
       "      <th>Rating_Program</th>\n",
       "      <th>Share</th>\n",
       "      <th>Jumlah_Penonton</th>\n",
       "      <th>AveTime/Viewer</th>\n",
       "      <th>Persentase_Penonton_Laki</th>\n",
       "      <th>Persentase_Penonton_Perempuan</th>\n",
       "      <th>Rating_Kompetitor_Tertinggi</th>\n",
       "      <th>Total_Rating_Kompetitor</th>\n",
       "      <th>Year</th>\n",
       "      <th>Month</th>\n",
       "      <th>Day</th>\n",
       "      <th>Tanggal</th>\n",
       "      <th>lag_1</th>\n",
       "      <th>lag_2</th>\n",
       "      <th>lag_7</th>\n",
       "      <th>rolling_3</th>\n",
       "      <th>rolling_7</th>\n",
       "      <th>std_3</th>\n",
       "      <th>std_7</th>\n",
       "    </tr>\n",
       "  </thead>\n",
       "  <tbody>\n",
       "    <tr>\n",
       "      <th>0</th>\n",
       "      <td>60</td>\n",
       "      <td>0.02</td>\n",
       "      <td>0.30</td>\n",
       "      <td>201156</td>\n",
       "      <td>7</td>\n",
       "      <td>0.558</td>\n",
       "      <td>0.442</td>\n",
       "      <td>0.89</td>\n",
       "      <td>10.41</td>\n",
       "      <td>2024</td>\n",
       "      <td>9</td>\n",
       "      <td>7</td>\n",
       "      <td>2024-09-07</td>\n",
       "      <td>0.04</td>\n",
       "      <td>0.02</td>\n",
       "      <td>0.04</td>\n",
       "      <td>0.026667</td>\n",
       "      <td>0.024286</td>\n",
       "      <td>0.011547</td>\n",
       "      <td>0.013973</td>\n",
       "    </tr>\n",
       "    <tr>\n",
       "      <th>1</th>\n",
       "      <td>61</td>\n",
       "      <td>0.01</td>\n",
       "      <td>0.26</td>\n",
       "      <td>179345</td>\n",
       "      <td>6</td>\n",
       "      <td>0.558</td>\n",
       "      <td>0.442</td>\n",
       "      <td>0.77</td>\n",
       "      <td>8.80</td>\n",
       "      <td>2024</td>\n",
       "      <td>9</td>\n",
       "      <td>8</td>\n",
       "      <td>2024-09-08</td>\n",
       "      <td>0.02</td>\n",
       "      <td>0.04</td>\n",
       "      <td>0.02</td>\n",
       "      <td>0.023333</td>\n",
       "      <td>0.022857</td>\n",
       "      <td>0.015275</td>\n",
       "      <td>0.014960</td>\n",
       "    </tr>\n",
       "    <tr>\n",
       "      <th>2</th>\n",
       "      <td>17</td>\n",
       "      <td>0.01</td>\n",
       "      <td>0.17</td>\n",
       "      <td>49621</td>\n",
       "      <td>4</td>\n",
       "      <td>0.558</td>\n",
       "      <td>0.442</td>\n",
       "      <td>0.79</td>\n",
       "      <td>10.30</td>\n",
       "      <td>2024</td>\n",
       "      <td>9</td>\n",
       "      <td>9</td>\n",
       "      <td>2024-09-09</td>\n",
       "      <td>0.01</td>\n",
       "      <td>0.02</td>\n",
       "      <td>0.00</td>\n",
       "      <td>0.013333</td>\n",
       "      <td>0.024286</td>\n",
       "      <td>0.005774</td>\n",
       "      <td>0.012724</td>\n",
       "    </tr>\n",
       "    <tr>\n",
       "      <th>3</th>\n",
       "      <td>42</td>\n",
       "      <td>0.01</td>\n",
       "      <td>0.16</td>\n",
       "      <td>101419</td>\n",
       "      <td>5</td>\n",
       "      <td>0.543</td>\n",
       "      <td>0.457</td>\n",
       "      <td>0.79</td>\n",
       "      <td>10.30</td>\n",
       "      <td>2024</td>\n",
       "      <td>9</td>\n",
       "      <td>9</td>\n",
       "      <td>2024-09-09</td>\n",
       "      <td>0.01</td>\n",
       "      <td>0.01</td>\n",
       "      <td>0.03</td>\n",
       "      <td>0.010000</td>\n",
       "      <td>0.021429</td>\n",
       "      <td>0.000000</td>\n",
       "      <td>0.013452</td>\n",
       "    </tr>\n",
       "    <tr>\n",
       "      <th>4</th>\n",
       "      <td>61</td>\n",
       "      <td>0.02</td>\n",
       "      <td>0.36</td>\n",
       "      <td>207806</td>\n",
       "      <td>8</td>\n",
       "      <td>0.558</td>\n",
       "      <td>0.442</td>\n",
       "      <td>0.96</td>\n",
       "      <td>10.68</td>\n",
       "      <td>2024</td>\n",
       "      <td>9</td>\n",
       "      <td>10</td>\n",
       "      <td>2024-09-10</td>\n",
       "      <td>0.01</td>\n",
       "      <td>0.01</td>\n",
       "      <td>0.04</td>\n",
       "      <td>0.013333</td>\n",
       "      <td>0.018571</td>\n",
       "      <td>0.005774</td>\n",
       "      <td>0.010690</td>\n",
       "    </tr>\n",
       "  </tbody>\n",
       "</table>\n",
       "</div>\n",
       "    <div class=\"colab-df-buttons\">\n",
       "\n",
       "  <div class=\"colab-df-container\">\n",
       "    <button class=\"colab-df-convert\" onclick=\"convertToInteractive('df-28787b69-c646-4487-8b7e-5c0c60a3c048')\"\n",
       "            title=\"Convert this dataframe to an interactive table.\"\n",
       "            style=\"display:none;\">\n",
       "\n",
       "  <svg xmlns=\"http://www.w3.org/2000/svg\" height=\"24px\" viewBox=\"0 -960 960 960\">\n",
       "    <path d=\"M120-120v-720h720v720H120Zm60-500h600v-160H180v160Zm220 220h160v-160H400v160Zm0 220h160v-160H400v160ZM180-400h160v-160H180v160Zm440 0h160v-160H620v160ZM180-180h160v-160H180v160Zm440 0h160v-160H620v160Z\"/>\n",
       "  </svg>\n",
       "    </button>\n",
       "\n",
       "  <style>\n",
       "    .colab-df-container {\n",
       "      display:flex;\n",
       "      gap: 12px;\n",
       "    }\n",
       "\n",
       "    .colab-df-convert {\n",
       "      background-color: #E8F0FE;\n",
       "      border: none;\n",
       "      border-radius: 50%;\n",
       "      cursor: pointer;\n",
       "      display: none;\n",
       "      fill: #1967D2;\n",
       "      height: 32px;\n",
       "      padding: 0 0 0 0;\n",
       "      width: 32px;\n",
       "    }\n",
       "\n",
       "    .colab-df-convert:hover {\n",
       "      background-color: #E2EBFA;\n",
       "      box-shadow: 0px 1px 2px rgba(60, 64, 67, 0.3), 0px 1px 3px 1px rgba(60, 64, 67, 0.15);\n",
       "      fill: #174EA6;\n",
       "    }\n",
       "\n",
       "    .colab-df-buttons div {\n",
       "      margin-bottom: 4px;\n",
       "    }\n",
       "\n",
       "    [theme=dark] .colab-df-convert {\n",
       "      background-color: #3B4455;\n",
       "      fill: #D2E3FC;\n",
       "    }\n",
       "\n",
       "    [theme=dark] .colab-df-convert:hover {\n",
       "      background-color: #434B5C;\n",
       "      box-shadow: 0px 1px 3px 1px rgba(0, 0, 0, 0.15);\n",
       "      filter: drop-shadow(0px 1px 2px rgba(0, 0, 0, 0.3));\n",
       "      fill: #FFFFFF;\n",
       "    }\n",
       "  </style>\n",
       "\n",
       "    <script>\n",
       "      const buttonEl =\n",
       "        document.querySelector('#df-28787b69-c646-4487-8b7e-5c0c60a3c048 button.colab-df-convert');\n",
       "      buttonEl.style.display =\n",
       "        google.colab.kernel.accessAllowed ? 'block' : 'none';\n",
       "\n",
       "      async function convertToInteractive(key) {\n",
       "        const element = document.querySelector('#df-28787b69-c646-4487-8b7e-5c0c60a3c048');\n",
       "        const dataTable =\n",
       "          await google.colab.kernel.invokeFunction('convertToInteractive',\n",
       "                                                    [key], {});\n",
       "        if (!dataTable) return;\n",
       "\n",
       "        const docLinkHtml = 'Like what you see? Visit the ' +\n",
       "          '<a target=\"_blank\" href=https://colab.research.google.com/notebooks/data_table.ipynb>data table notebook</a>'\n",
       "          + ' to learn more about interactive tables.';\n",
       "        element.innerHTML = '';\n",
       "        dataTable['output_type'] = 'display_data';\n",
       "        await google.colab.output.renderOutput(dataTable, element);\n",
       "        const docLink = document.createElement('div');\n",
       "        docLink.innerHTML = docLinkHtml;\n",
       "        element.appendChild(docLink);\n",
       "      }\n",
       "    </script>\n",
       "  </div>\n",
       "\n",
       "\n",
       "    <div id=\"df-849e1e27-5671-4e13-badb-7e8a798529fc\">\n",
       "      <button class=\"colab-df-quickchart\" onclick=\"quickchart('df-849e1e27-5671-4e13-badb-7e8a798529fc')\"\n",
       "                title=\"Suggest charts\"\n",
       "                style=\"display:none;\">\n",
       "\n",
       "<svg xmlns=\"http://www.w3.org/2000/svg\" height=\"24px\"viewBox=\"0 0 24 24\"\n",
       "     width=\"24px\">\n",
       "    <g>\n",
       "        <path d=\"M19 3H5c-1.1 0-2 .9-2 2v14c0 1.1.9 2 2 2h14c1.1 0 2-.9 2-2V5c0-1.1-.9-2-2-2zM9 17H7v-7h2v7zm4 0h-2V7h2v10zm4 0h-2v-4h2v4z\"/>\n",
       "    </g>\n",
       "</svg>\n",
       "      </button>\n",
       "\n",
       "<style>\n",
       "  .colab-df-quickchart {\n",
       "      --bg-color: #E8F0FE;\n",
       "      --fill-color: #1967D2;\n",
       "      --hover-bg-color: #E2EBFA;\n",
       "      --hover-fill-color: #174EA6;\n",
       "      --disabled-fill-color: #AAA;\n",
       "      --disabled-bg-color: #DDD;\n",
       "  }\n",
       "\n",
       "  [theme=dark] .colab-df-quickchart {\n",
       "      --bg-color: #3B4455;\n",
       "      --fill-color: #D2E3FC;\n",
       "      --hover-bg-color: #434B5C;\n",
       "      --hover-fill-color: #FFFFFF;\n",
       "      --disabled-bg-color: #3B4455;\n",
       "      --disabled-fill-color: #666;\n",
       "  }\n",
       "\n",
       "  .colab-df-quickchart {\n",
       "    background-color: var(--bg-color);\n",
       "    border: none;\n",
       "    border-radius: 50%;\n",
       "    cursor: pointer;\n",
       "    display: none;\n",
       "    fill: var(--fill-color);\n",
       "    height: 32px;\n",
       "    padding: 0;\n",
       "    width: 32px;\n",
       "  }\n",
       "\n",
       "  .colab-df-quickchart:hover {\n",
       "    background-color: var(--hover-bg-color);\n",
       "    box-shadow: 0 1px 2px rgba(60, 64, 67, 0.3), 0 1px 3px 1px rgba(60, 64, 67, 0.15);\n",
       "    fill: var(--button-hover-fill-color);\n",
       "  }\n",
       "\n",
       "  .colab-df-quickchart-complete:disabled,\n",
       "  .colab-df-quickchart-complete:disabled:hover {\n",
       "    background-color: var(--disabled-bg-color);\n",
       "    fill: var(--disabled-fill-color);\n",
       "    box-shadow: none;\n",
       "  }\n",
       "\n",
       "  .colab-df-spinner {\n",
       "    border: 2px solid var(--fill-color);\n",
       "    border-color: transparent;\n",
       "    border-bottom-color: var(--fill-color);\n",
       "    animation:\n",
       "      spin 1s steps(1) infinite;\n",
       "  }\n",
       "\n",
       "  @keyframes spin {\n",
       "    0% {\n",
       "      border-color: transparent;\n",
       "      border-bottom-color: var(--fill-color);\n",
       "      border-left-color: var(--fill-color);\n",
       "    }\n",
       "    20% {\n",
       "      border-color: transparent;\n",
       "      border-left-color: var(--fill-color);\n",
       "      border-top-color: var(--fill-color);\n",
       "    }\n",
       "    30% {\n",
       "      border-color: transparent;\n",
       "      border-left-color: var(--fill-color);\n",
       "      border-top-color: var(--fill-color);\n",
       "      border-right-color: var(--fill-color);\n",
       "    }\n",
       "    40% {\n",
       "      border-color: transparent;\n",
       "      border-right-color: var(--fill-color);\n",
       "      border-top-color: var(--fill-color);\n",
       "    }\n",
       "    60% {\n",
       "      border-color: transparent;\n",
       "      border-right-color: var(--fill-color);\n",
       "    }\n",
       "    80% {\n",
       "      border-color: transparent;\n",
       "      border-right-color: var(--fill-color);\n",
       "      border-bottom-color: var(--fill-color);\n",
       "    }\n",
       "    90% {\n",
       "      border-color: transparent;\n",
       "      border-bottom-color: var(--fill-color);\n",
       "    }\n",
       "  }\n",
       "</style>\n",
       "\n",
       "      <script>\n",
       "        async function quickchart(key) {\n",
       "          const quickchartButtonEl =\n",
       "            document.querySelector('#' + key + ' button');\n",
       "          quickchartButtonEl.disabled = true;  // To prevent multiple clicks.\n",
       "          quickchartButtonEl.classList.add('colab-df-spinner');\n",
       "          try {\n",
       "            const charts = await google.colab.kernel.invokeFunction(\n",
       "                'suggestCharts', [key], {});\n",
       "          } catch (error) {\n",
       "            console.error('Error during call to suggestCharts:', error);\n",
       "          }\n",
       "          quickchartButtonEl.classList.remove('colab-df-spinner');\n",
       "          quickchartButtonEl.classList.add('colab-df-quickchart-complete');\n",
       "        }\n",
       "        (() => {\n",
       "          let quickchartButtonEl =\n",
       "            document.querySelector('#df-849e1e27-5671-4e13-badb-7e8a798529fc button');\n",
       "          quickchartButtonEl.style.display =\n",
       "            google.colab.kernel.accessAllowed ? 'block' : 'none';\n",
       "        })();\n",
       "      </script>\n",
       "    </div>\n",
       "\n",
       "    </div>\n",
       "  </div>\n"
      ],
      "text/plain": [
       "   Durasi_Menit  Rating_Program  Share  Jumlah_Penonton  AveTime/Viewer  \\\n",
       "0            60            0.02   0.30           201156               7   \n",
       "1            61            0.01   0.26           179345               6   \n",
       "2            17            0.01   0.17            49621               4   \n",
       "3            42            0.01   0.16           101419               5   \n",
       "4            61            0.02   0.36           207806               8   \n",
       "\n",
       "   Persentase_Penonton_Laki  Persentase_Penonton_Perempuan  \\\n",
       "0                     0.558                          0.442   \n",
       "1                     0.558                          0.442   \n",
       "2                     0.558                          0.442   \n",
       "3                     0.543                          0.457   \n",
       "4                     0.558                          0.442   \n",
       "\n",
       "   Rating_Kompetitor_Tertinggi  Total_Rating_Kompetitor  Year  Month  Day  \\\n",
       "0                         0.89                    10.41  2024      9    7   \n",
       "1                         0.77                     8.80  2024      9    8   \n",
       "2                         0.79                    10.30  2024      9    9   \n",
       "3                         0.79                    10.30  2024      9    9   \n",
       "4                         0.96                    10.68  2024      9   10   \n",
       "\n",
       "     Tanggal  lag_1  lag_2  lag_7  rolling_3  rolling_7     std_3     std_7  \n",
       "0 2024-09-07   0.04   0.02   0.04   0.026667   0.024286  0.011547  0.013973  \n",
       "1 2024-09-08   0.02   0.04   0.02   0.023333   0.022857  0.015275  0.014960  \n",
       "2 2024-09-09   0.01   0.02   0.00   0.013333   0.024286  0.005774  0.012724  \n",
       "3 2024-09-09   0.01   0.01   0.03   0.010000   0.021429  0.000000  0.013452  \n",
       "4 2024-09-10   0.01   0.01   0.04   0.013333   0.018571  0.005774  0.010690  "
      ]
     },
     "execution_count": 17,
     "metadata": {},
     "output_type": "execute_result"
    }
   ],
   "source": [
    "df.head()"
   ]
  },
  {
   "cell_type": "markdown",
   "metadata": {
    "id": "TA3ODgARpm_y"
   },
   "source": [
    "## Normalisasi/Scaling"
   ]
  },
  {
   "cell_type": "markdown",
   "metadata": {
    "id": "gMgCtNxF101b"
   },
   "source": [
    "Normalisasi atau **scaling menggunakan `StandardScaler`** dilakukan untuk menyamakan skala antar fitur numerik agar memiliki **rata-rata 0 dan standar deviasi 1**. Ini penting karena banyak algoritma machine learning—terutama yang berbasis jarak seperti SVM atau regresi berbobot seperti XGBoost—sensitif terhadap perbedaan skala antar fitur. Jika fitur seperti `Jumlah_Penonton` memiliki nilai jutaan, sementara `lag_1` atau `std_3` bernilai desimal, maka model bisa bias terhadap fitur yang memiliki nilai lebih besar. Dengan scaling, setiap fitur memiliki kontribusi yang seimbang dalam proses pembelajaran, mempercepat konvergensi, dan meningkatkan performa serta stabilitas model.\n"
   ]
  },
  {
   "cell_type": "code",
   "execution_count": 18,
   "metadata": {
    "executionInfo": {
     "elapsed": 2,
     "status": "ok",
     "timestamp": 1754282814283,
     "user": {
      "displayName": "MICHAEL STEVEN",
      "userId": "09225223714904031338"
     },
     "user_tz": -420
    },
    "id": "ci7C6PXDpZmR"
   },
   "outputs": [],
   "source": [
    "from sklearn.preprocessing import StandardScaler\n",
    "\n",
    "scaler = StandardScaler()\n",
    "cols_to_scale = ['Durasi_Menit', 'Share', 'Jumlah_Penonton', 'AveTime/Viewer',\n",
    "                 'Persentase_Penonton_Laki', 'Persentase_Penonton_Perempuan',\n",
    "                 'Rating_Kompetitor_Tertinggi', 'Total_Rating_Kompetitor',\n",
    "                 'lag_1', 'lag_2', 'lag_7', 'rolling_3', 'rolling_7', 'std_3', 'std_7']\n",
    "\n",
    "df[cols_to_scale] = scaler.fit_transform(df[cols_to_scale])"
   ]
  },
  {
   "cell_type": "code",
   "execution_count": 19,
   "metadata": {
    "colab": {
     "base_uri": "https://localhost:8080/",
     "height": 313
    },
    "executionInfo": {
     "elapsed": 73,
     "status": "ok",
     "timestamp": 1754282814357,
     "user": {
      "displayName": "MICHAEL STEVEN",
      "userId": "09225223714904031338"
     },
     "user_tz": -420
    },
    "id": "MfAyPRBwppvT",
    "outputId": "8278c79a-5069-4d60-8309-9ec152ef178c"
   },
   "outputs": [
    {
     "data": {
      "application/vnd.google.colaboratory.intrinsic+json": {
       "summary": "{\n  \"name\": \"df\",\n  \"rows\": 176,\n  \"fields\": [\n    {\n      \"column\": \"Durasi_Menit\",\n      \"properties\": {\n        \"dtype\": \"number\",\n        \"std\": 1.0028530728448155,\n        \"min\": -9.524899857448949,\n        \"max\": 5.403596933272506,\n        \"num_unique_values\": 13,\n        \"samples\": [\n          -0.7434311570245637,\n          5.184060215761896,\n          -0.08482100449273483\n        ],\n        \"semantic_type\": \"\",\n        \"description\": \"\"\n      }\n    },\n    {\n      \"column\": \"Rating_Program\",\n      \"properties\": {\n        \"dtype\": \"number\",\n        \"std\": 0.014019930155262601,\n        \"min\": 0.01,\n        \"max\": 0.08,\n        \"num_unique_values\": 8,\n        \"samples\": [\n          0.01,\n          0.07,\n          0.02\n        ],\n        \"semantic_type\": \"\",\n        \"description\": \"\"\n      }\n    },\n    {\n      \"column\": \"Share\",\n      \"properties\": {\n        \"dtype\": \"number\",\n        \"std\": 1.0028530728448144,\n        \"min\": -1.5749964974870834,\n        \"max\": 3.567763250951436,\n        \"num_unique_values\": 75,\n        \"samples\": [\n          -0.32405493705609223,\n          2.2704905216155935,\n          -0.6483731193900529\n        ],\n        \"semantic_type\": \"\",\n        \"description\": \"\"\n      }\n    },\n    {\n      \"column\": \"Jumlah_Penonton\",\n      \"properties\": {\n        \"dtype\": \"number\",\n        \"std\": 1.0028530728448137,\n        \"min\": -2.4280811993074365,\n        \"max\": 2.5755000295394543,\n        \"num_unique_values\": 176,\n        \"samples\": [\n          -0.8487115536582204,\n          -1.1802207780004823,\n          0.5038712073727856\n        ],\n        \"semantic_type\": \"\",\n        \"description\": \"\"\n      }\n    },\n    {\n      \"column\": \"AveTime/Viewer\",\n      \"properties\": {\n        \"dtype\": \"number\",\n        \"std\": 1.002853072844814,\n        \"min\": -1.938779537785389,\n        \"max\": 3.5104441668950663,\n        \"num_unique_values\": 21,\n        \"samples\": [\n          -0.6413453223852806,\n          1.953523108414936,\n          2.7319836376550013\n        ],\n        \"semantic_type\": \"\",\n        \"description\": \"\"\n      }\n    },\n    {\n      \"column\": \"Persentase_Penonton_Laki\",\n      \"properties\": {\n        \"dtype\": \"number\",\n        \"std\": 1.0028530728448093,\n        \"min\": -13.22875655532292,\n        \"max\": 0.07559289460187509,\n        \"num_unique_values\": 2,\n        \"samples\": [\n          -13.22875655532292,\n          0.07559289460187509\n        ],\n        \"semantic_type\": \"\",\n        \"description\": \"\"\n      }\n    },\n    {\n      \"column\": \"Persentase_Penonton_Perempuan\",\n      \"properties\": {\n        \"dtype\": \"number\",\n        \"std\": 1.0028530728448093,\n        \"min\": -0.07559289460192434,\n        \"max\": 13.228756555322873,\n        \"num_unique_values\": 2,\n        \"samples\": [\n          13.228756555322873,\n          -0.07559289460192434\n        ],\n        \"semantic_type\": \"\",\n        \"description\": \"\"\n      }\n    },\n    {\n      \"column\": \"Rating_Kompetitor_Tertinggi\",\n      \"properties\": {\n        \"dtype\": \"number\",\n        \"std\": 1.002853072844814,\n        \"min\": -2.6585748764683736,\n        \"max\": 2.9350793764716574,\n        \"num_unique_values\": 49,\n        \"samples\": [\n          -0.23465803352769343,\n          -1.9127543094097033\n        ],\n        \"semantic_type\": \"\",\n        \"description\": \"\"\n      }\n    },\n    {\n      \"column\": \"Total_Rating_Kompetitor\",\n      \"properties\": {\n        \"dtype\": \"number\",\n        \"std\": 1.002853072844814,\n        \"min\": -2.137246054450254,\n        \"max\": 2.7468066038050782,\n        \"num_unique_values\": 122,\n        \"samples\": [\n          0.1382784795096179,\n          2.6913060054158144\n        ],\n        \"semantic_type\": \"\",\n        \"description\": \"\"\n      }\n    },\n    {\n      \"column\": \"Year\",\n      \"properties\": {\n        \"dtype\": \"int32\",\n        \"num_unique_values\": 2,\n        \"samples\": [\n          2025,\n          2024\n        ],\n        \"semantic_type\": \"\",\n        \"description\": \"\"\n      }\n    },\n    {\n      \"column\": \"Month\",\n      \"properties\": {\n        \"dtype\": \"int32\",\n        \"num_unique_values\": 6,\n        \"samples\": [\n          9,\n          10\n        ],\n        \"semantic_type\": \"\",\n        \"description\": \"\"\n      }\n    },\n    {\n      \"column\": \"Day\",\n      \"properties\": {\n        \"dtype\": \"int32\",\n        \"num_unique_values\": 31,\n        \"samples\": [\n          4,\n          22\n        ],\n        \"semantic_type\": \"\",\n        \"description\": \"\"\n      }\n    },\n    {\n      \"column\": \"Tanggal\",\n      \"properties\": {\n        \"dtype\": \"date\",\n        \"min\": \"2024-09-07 00:00:00\",\n        \"max\": \"2025-02-28 00:00:00\",\n        \"num_unique_values\": 175,\n        \"samples\": [\n          \"2025-02-10 00:00:00\",\n          \"2025-01-30 00:00:00\"\n        ],\n        \"semantic_type\": \"\",\n        \"description\": \"\"\n      }\n    },\n    {\n      \"column\": \"lag_1\",\n      \"properties\": {\n        \"dtype\": \"number\",\n        \"std\": 1.0028530728448144,\n        \"min\": -1.2622553232248859,\n        \"max\": 3.770426094940355,\n        \"num_unique_values\": 8,\n        \"samples\": [\n          -0.5433008349155656,\n          3.0514716066310354\n        ],\n        \"semantic_type\": \"\",\n        \"description\": \"\"\n      }\n    },\n    {\n      \"column\": \"lag_2\",\n      \"properties\": {\n        \"dtype\": \"number\",\n        \"std\": 1.0028530728448144,\n        \"min\": -1.2572371141874243,\n        \"max\": 3.771711342562273,\n        \"num_unique_values\": 8,\n        \"samples\": [\n          0.8980265101338745,\n          3.0532901344551737\n        ],\n        \"semantic_type\": \"\",\n        \"description\": \"\"\n      }\n    },\n    {\n      \"column\": \"lag_7\",\n      \"properties\": {\n        \"dtype\": \"number\",\n        \"std\": 1.002853072844814,\n        \"min\": -1.9485233879252062,\n        \"max\": 3.7790777189614113,\n        \"num_unique_values\": 9,\n        \"samples\": [\n          2.3471774422397567,\n          -0.5166231112035518\n        ],\n        \"semantic_type\": \"\",\n        \"description\": \"\"\n      }\n    },\n    {\n      \"column\": \"rolling_3\",\n      \"properties\": {\n        \"dtype\": \"number\",\n        \"std\": 1.0028530728448144,\n        \"min\": -1.8930552736452222,\n        \"max\": 3.1387550761517864,\n        \"num_unique_values\": 44,\n        \"samples\": [\n          0.9822649262387843,\n          -1.533640248659721\n        ],\n        \"semantic_type\": \"\",\n        \"description\": \"\"\n      }\n    },\n    {\n      \"column\": \"rolling_7\",\n      \"properties\": {\n        \"dtype\": \"number\",\n        \"std\": 1.002853072844814,\n        \"min\": -2.1218403024646904,\n        \"max\": 2.8546468922109653,\n        \"num_unique_values\": 35,\n        \"samples\": [\n          1.8178787266535361,\n          -0.2556576044613199\n        ],\n        \"semantic_type\": \"\",\n        \"description\": \"\"\n      }\n    },\n    {\n      \"column\": \"std_3\",\n      \"properties\": {\n        \"dtype\": \"number\",\n        \"std\": 1.002853072844814,\n        \"min\": -1.749392324848276,\n        \"max\": 3.0826188644896546,\n        \"num_unique_values\": 92,\n        \"samples\": [\n          -0.8362280434718834,\n          -0.16774539384722947\n        ],\n        \"semantic_type\": \"\",\n        \"description\": \"\"\n      }\n    },\n    {\n      \"column\": \"std_7\",\n      \"properties\": {\n        \"dtype\": \"number\",\n        \"std\": 1.0028530728448144,\n        \"min\": -2.381044668953552,\n        \"max\": 2.9861762952856417,\n        \"num_unique_values\": 100,\n        \"samples\": [\n          2.9861762952856417,\n          0.33222595478407974\n        ],\n        \"semantic_type\": \"\",\n        \"description\": \"\"\n      }\n    }\n  ]\n}",
       "type": "dataframe",
       "variable_name": "df"
      },
      "text/html": [
       "\n",
       "  <div id=\"df-6db01efa-12eb-4be1-8207-be056ad14981\" class=\"colab-df-container\">\n",
       "    <div>\n",
       "<style scoped>\n",
       "    .dataframe tbody tr th:only-of-type {\n",
       "        vertical-align: middle;\n",
       "    }\n",
       "\n",
       "    .dataframe tbody tr th {\n",
       "        vertical-align: top;\n",
       "    }\n",
       "\n",
       "    .dataframe thead th {\n",
       "        text-align: right;\n",
       "    }\n",
       "</style>\n",
       "<table border=\"1\" class=\"dataframe\">\n",
       "  <thead>\n",
       "    <tr style=\"text-align: right;\">\n",
       "      <th></th>\n",
       "      <th>Durasi_Menit</th>\n",
       "      <th>Rating_Program</th>\n",
       "      <th>Share</th>\n",
       "      <th>Jumlah_Penonton</th>\n",
       "      <th>AveTime/Viewer</th>\n",
       "      <th>Persentase_Penonton_Laki</th>\n",
       "      <th>Persentase_Penonton_Perempuan</th>\n",
       "      <th>Rating_Kompetitor_Tertinggi</th>\n",
       "      <th>Total_Rating_Kompetitor</th>\n",
       "      <th>Year</th>\n",
       "      <th>Month</th>\n",
       "      <th>Day</th>\n",
       "      <th>Tanggal</th>\n",
       "      <th>lag_1</th>\n",
       "      <th>lag_2</th>\n",
       "      <th>lag_7</th>\n",
       "      <th>rolling_3</th>\n",
       "      <th>rolling_7</th>\n",
       "      <th>std_3</th>\n",
       "      <th>std_7</th>\n",
       "    </tr>\n",
       "  </thead>\n",
       "  <tbody>\n",
       "    <tr>\n",
       "      <th>0</th>\n",
       "      <td>-0.084821</td>\n",
       "      <td>0.02</td>\n",
       "      <td>-0.602042</td>\n",
       "      <td>-0.358828</td>\n",
       "      <td>-0.641345</td>\n",
       "      <td>0.075593</td>\n",
       "      <td>-0.075593</td>\n",
       "      <td>-0.048203</td>\n",
       "      <td>1.331541</td>\n",
       "      <td>2024</td>\n",
       "      <td>9</td>\n",
       "      <td>7</td>\n",
       "      <td>2024-09-07</td>\n",
       "      <td>0.894608</td>\n",
       "      <td>-0.538816</td>\n",
       "      <td>0.915277</td>\n",
       "      <td>-0.095980</td>\n",
       "      <td>-0.463011</td>\n",
       "      <td>0.076936</td>\n",
       "      <td>0.378645</td>\n",
       "    </tr>\n",
       "    <tr>\n",
       "      <th>1</th>\n",
       "      <td>0.134716</td>\n",
       "      <td>0.01</td>\n",
       "      <td>-0.787367</td>\n",
       "      <td>-0.656664</td>\n",
       "      <td>-0.900832</td>\n",
       "      <td>0.075593</td>\n",
       "      <td>-0.075593</td>\n",
       "      <td>-1.166934</td>\n",
       "      <td>-0.902358</td>\n",
       "      <td>2024</td>\n",
       "      <td>9</td>\n",
       "      <td>8</td>\n",
       "      <td>2024-09-08</td>\n",
       "      <td>-0.543301</td>\n",
       "      <td>0.898027</td>\n",
       "      <td>-0.516623</td>\n",
       "      <td>-0.455395</td>\n",
       "      <td>-0.670365</td>\n",
       "      <td>0.666613</td>\n",
       "      <td>0.646002</td>\n",
       "    </tr>\n",
       "    <tr>\n",
       "      <th>2</th>\n",
       "      <td>-9.524900</td>\n",
       "      <td>0.01</td>\n",
       "      <td>-1.204347</td>\n",
       "      <td>-2.428081</td>\n",
       "      <td>-1.419806</td>\n",
       "      <td>0.075593</td>\n",
       "      <td>-0.075593</td>\n",
       "      <td>-0.980479</td>\n",
       "      <td>1.178915</td>\n",
       "      <td>2024</td>\n",
       "      <td>9</td>\n",
       "      <td>9</td>\n",
       "      <td>2024-09-09</td>\n",
       "      <td>-1.262255</td>\n",
       "      <td>-0.538816</td>\n",
       "      <td>-1.948523</td>\n",
       "      <td>-1.533640</td>\n",
       "      <td>-0.463011</td>\n",
       "      <td>-0.836228</td>\n",
       "      <td>0.040603</td>\n",
       "    </tr>\n",
       "    <tr>\n",
       "      <th>3</th>\n",
       "      <td>-4.036482</td>\n",
       "      <td>0.01</td>\n",
       "      <td>-1.250678</td>\n",
       "      <td>-1.720765</td>\n",
       "      <td>-1.160319</td>\n",
       "      <td>-13.228757</td>\n",
       "      <td>13.228757</td>\n",
       "      <td>-0.980479</td>\n",
       "      <td>1.178915</td>\n",
       "      <td>2024</td>\n",
       "      <td>9</td>\n",
       "      <td>9</td>\n",
       "      <td>2024-09-09</td>\n",
       "      <td>-1.262255</td>\n",
       "      <td>-1.257237</td>\n",
       "      <td>0.199327</td>\n",
       "      <td>-1.893055</td>\n",
       "      <td>-0.877719</td>\n",
       "      <td>-1.749392</td>\n",
       "      <td>0.237614</td>\n",
       "    </tr>\n",
       "    <tr>\n",
       "      <th>4</th>\n",
       "      <td>0.134716</td>\n",
       "      <td>0.02</td>\n",
       "      <td>-0.324055</td>\n",
       "      <td>-0.268021</td>\n",
       "      <td>-0.381858</td>\n",
       "      <td>0.075593</td>\n",
       "      <td>-0.075593</td>\n",
       "      <td>0.604390</td>\n",
       "      <td>1.706170</td>\n",
       "      <td>2024</td>\n",
       "      <td>9</td>\n",
       "      <td>10</td>\n",
       "      <td>2024-09-10</td>\n",
       "      <td>-1.262255</td>\n",
       "      <td>-1.257237</td>\n",
       "      <td>0.915277</td>\n",
       "      <td>-1.533640</td>\n",
       "      <td>-1.292426</td>\n",
       "      <td>-0.836228</td>\n",
       "      <td>-0.510010</td>\n",
       "    </tr>\n",
       "  </tbody>\n",
       "</table>\n",
       "</div>\n",
       "    <div class=\"colab-df-buttons\">\n",
       "\n",
       "  <div class=\"colab-df-container\">\n",
       "    <button class=\"colab-df-convert\" onclick=\"convertToInteractive('df-6db01efa-12eb-4be1-8207-be056ad14981')\"\n",
       "            title=\"Convert this dataframe to an interactive table.\"\n",
       "            style=\"display:none;\">\n",
       "\n",
       "  <svg xmlns=\"http://www.w3.org/2000/svg\" height=\"24px\" viewBox=\"0 -960 960 960\">\n",
       "    <path d=\"M120-120v-720h720v720H120Zm60-500h600v-160H180v160Zm220 220h160v-160H400v160Zm0 220h160v-160H400v160ZM180-400h160v-160H180v160Zm440 0h160v-160H620v160ZM180-180h160v-160H180v160Zm440 0h160v-160H620v160Z\"/>\n",
       "  </svg>\n",
       "    </button>\n",
       "\n",
       "  <style>\n",
       "    .colab-df-container {\n",
       "      display:flex;\n",
       "      gap: 12px;\n",
       "    }\n",
       "\n",
       "    .colab-df-convert {\n",
       "      background-color: #E8F0FE;\n",
       "      border: none;\n",
       "      border-radius: 50%;\n",
       "      cursor: pointer;\n",
       "      display: none;\n",
       "      fill: #1967D2;\n",
       "      height: 32px;\n",
       "      padding: 0 0 0 0;\n",
       "      width: 32px;\n",
       "    }\n",
       "\n",
       "    .colab-df-convert:hover {\n",
       "      background-color: #E2EBFA;\n",
       "      box-shadow: 0px 1px 2px rgba(60, 64, 67, 0.3), 0px 1px 3px 1px rgba(60, 64, 67, 0.15);\n",
       "      fill: #174EA6;\n",
       "    }\n",
       "\n",
       "    .colab-df-buttons div {\n",
       "      margin-bottom: 4px;\n",
       "    }\n",
       "\n",
       "    [theme=dark] .colab-df-convert {\n",
       "      background-color: #3B4455;\n",
       "      fill: #D2E3FC;\n",
       "    }\n",
       "\n",
       "    [theme=dark] .colab-df-convert:hover {\n",
       "      background-color: #434B5C;\n",
       "      box-shadow: 0px 1px 3px 1px rgba(0, 0, 0, 0.15);\n",
       "      filter: drop-shadow(0px 1px 2px rgba(0, 0, 0, 0.3));\n",
       "      fill: #FFFFFF;\n",
       "    }\n",
       "  </style>\n",
       "\n",
       "    <script>\n",
       "      const buttonEl =\n",
       "        document.querySelector('#df-6db01efa-12eb-4be1-8207-be056ad14981 button.colab-df-convert');\n",
       "      buttonEl.style.display =\n",
       "        google.colab.kernel.accessAllowed ? 'block' : 'none';\n",
       "\n",
       "      async function convertToInteractive(key) {\n",
       "        const element = document.querySelector('#df-6db01efa-12eb-4be1-8207-be056ad14981');\n",
       "        const dataTable =\n",
       "          await google.colab.kernel.invokeFunction('convertToInteractive',\n",
       "                                                    [key], {});\n",
       "        if (!dataTable) return;\n",
       "\n",
       "        const docLinkHtml = 'Like what you see? Visit the ' +\n",
       "          '<a target=\"_blank\" href=https://colab.research.google.com/notebooks/data_table.ipynb>data table notebook</a>'\n",
       "          + ' to learn more about interactive tables.';\n",
       "        element.innerHTML = '';\n",
       "        dataTable['output_type'] = 'display_data';\n",
       "        await google.colab.output.renderOutput(dataTable, element);\n",
       "        const docLink = document.createElement('div');\n",
       "        docLink.innerHTML = docLinkHtml;\n",
       "        element.appendChild(docLink);\n",
       "      }\n",
       "    </script>\n",
       "  </div>\n",
       "\n",
       "\n",
       "    <div id=\"df-b64f33a3-5120-42a1-acc0-c8e4e42c1981\">\n",
       "      <button class=\"colab-df-quickchart\" onclick=\"quickchart('df-b64f33a3-5120-42a1-acc0-c8e4e42c1981')\"\n",
       "                title=\"Suggest charts\"\n",
       "                style=\"display:none;\">\n",
       "\n",
       "<svg xmlns=\"http://www.w3.org/2000/svg\" height=\"24px\"viewBox=\"0 0 24 24\"\n",
       "     width=\"24px\">\n",
       "    <g>\n",
       "        <path d=\"M19 3H5c-1.1 0-2 .9-2 2v14c0 1.1.9 2 2 2h14c1.1 0 2-.9 2-2V5c0-1.1-.9-2-2-2zM9 17H7v-7h2v7zm4 0h-2V7h2v10zm4 0h-2v-4h2v4z\"/>\n",
       "    </g>\n",
       "</svg>\n",
       "      </button>\n",
       "\n",
       "<style>\n",
       "  .colab-df-quickchart {\n",
       "      --bg-color: #E8F0FE;\n",
       "      --fill-color: #1967D2;\n",
       "      --hover-bg-color: #E2EBFA;\n",
       "      --hover-fill-color: #174EA6;\n",
       "      --disabled-fill-color: #AAA;\n",
       "      --disabled-bg-color: #DDD;\n",
       "  }\n",
       "\n",
       "  [theme=dark] .colab-df-quickchart {\n",
       "      --bg-color: #3B4455;\n",
       "      --fill-color: #D2E3FC;\n",
       "      --hover-bg-color: #434B5C;\n",
       "      --hover-fill-color: #FFFFFF;\n",
       "      --disabled-bg-color: #3B4455;\n",
       "      --disabled-fill-color: #666;\n",
       "  }\n",
       "\n",
       "  .colab-df-quickchart {\n",
       "    background-color: var(--bg-color);\n",
       "    border: none;\n",
       "    border-radius: 50%;\n",
       "    cursor: pointer;\n",
       "    display: none;\n",
       "    fill: var(--fill-color);\n",
       "    height: 32px;\n",
       "    padding: 0;\n",
       "    width: 32px;\n",
       "  }\n",
       "\n",
       "  .colab-df-quickchart:hover {\n",
       "    background-color: var(--hover-bg-color);\n",
       "    box-shadow: 0 1px 2px rgba(60, 64, 67, 0.3), 0 1px 3px 1px rgba(60, 64, 67, 0.15);\n",
       "    fill: var(--button-hover-fill-color);\n",
       "  }\n",
       "\n",
       "  .colab-df-quickchart-complete:disabled,\n",
       "  .colab-df-quickchart-complete:disabled:hover {\n",
       "    background-color: var(--disabled-bg-color);\n",
       "    fill: var(--disabled-fill-color);\n",
       "    box-shadow: none;\n",
       "  }\n",
       "\n",
       "  .colab-df-spinner {\n",
       "    border: 2px solid var(--fill-color);\n",
       "    border-color: transparent;\n",
       "    border-bottom-color: var(--fill-color);\n",
       "    animation:\n",
       "      spin 1s steps(1) infinite;\n",
       "  }\n",
       "\n",
       "  @keyframes spin {\n",
       "    0% {\n",
       "      border-color: transparent;\n",
       "      border-bottom-color: var(--fill-color);\n",
       "      border-left-color: var(--fill-color);\n",
       "    }\n",
       "    20% {\n",
       "      border-color: transparent;\n",
       "      border-left-color: var(--fill-color);\n",
       "      border-top-color: var(--fill-color);\n",
       "    }\n",
       "    30% {\n",
       "      border-color: transparent;\n",
       "      border-left-color: var(--fill-color);\n",
       "      border-top-color: var(--fill-color);\n",
       "      border-right-color: var(--fill-color);\n",
       "    }\n",
       "    40% {\n",
       "      border-color: transparent;\n",
       "      border-right-color: var(--fill-color);\n",
       "      border-top-color: var(--fill-color);\n",
       "    }\n",
       "    60% {\n",
       "      border-color: transparent;\n",
       "      border-right-color: var(--fill-color);\n",
       "    }\n",
       "    80% {\n",
       "      border-color: transparent;\n",
       "      border-right-color: var(--fill-color);\n",
       "      border-bottom-color: var(--fill-color);\n",
       "    }\n",
       "    90% {\n",
       "      border-color: transparent;\n",
       "      border-bottom-color: var(--fill-color);\n",
       "    }\n",
       "  }\n",
       "</style>\n",
       "\n",
       "      <script>\n",
       "        async function quickchart(key) {\n",
       "          const quickchartButtonEl =\n",
       "            document.querySelector('#' + key + ' button');\n",
       "          quickchartButtonEl.disabled = true;  // To prevent multiple clicks.\n",
       "          quickchartButtonEl.classList.add('colab-df-spinner');\n",
       "          try {\n",
       "            const charts = await google.colab.kernel.invokeFunction(\n",
       "                'suggestCharts', [key], {});\n",
       "          } catch (error) {\n",
       "            console.error('Error during call to suggestCharts:', error);\n",
       "          }\n",
       "          quickchartButtonEl.classList.remove('colab-df-spinner');\n",
       "          quickchartButtonEl.classList.add('colab-df-quickchart-complete');\n",
       "        }\n",
       "        (() => {\n",
       "          let quickchartButtonEl =\n",
       "            document.querySelector('#df-b64f33a3-5120-42a1-acc0-c8e4e42c1981 button');\n",
       "          quickchartButtonEl.style.display =\n",
       "            google.colab.kernel.accessAllowed ? 'block' : 'none';\n",
       "        })();\n",
       "      </script>\n",
       "    </div>\n",
       "\n",
       "    </div>\n",
       "  </div>\n"
      ],
      "text/plain": [
       "   Durasi_Menit  Rating_Program     Share  Jumlah_Penonton  AveTime/Viewer  \\\n",
       "0     -0.084821            0.02 -0.602042        -0.358828       -0.641345   \n",
       "1      0.134716            0.01 -0.787367        -0.656664       -0.900832   \n",
       "2     -9.524900            0.01 -1.204347        -2.428081       -1.419806   \n",
       "3     -4.036482            0.01 -1.250678        -1.720765       -1.160319   \n",
       "4      0.134716            0.02 -0.324055        -0.268021       -0.381858   \n",
       "\n",
       "   Persentase_Penonton_Laki  Persentase_Penonton_Perempuan  \\\n",
       "0                  0.075593                      -0.075593   \n",
       "1                  0.075593                      -0.075593   \n",
       "2                  0.075593                      -0.075593   \n",
       "3                -13.228757                      13.228757   \n",
       "4                  0.075593                      -0.075593   \n",
       "\n",
       "   Rating_Kompetitor_Tertinggi  Total_Rating_Kompetitor  Year  Month  Day  \\\n",
       "0                    -0.048203                 1.331541  2024      9    7   \n",
       "1                    -1.166934                -0.902358  2024      9    8   \n",
       "2                    -0.980479                 1.178915  2024      9    9   \n",
       "3                    -0.980479                 1.178915  2024      9    9   \n",
       "4                     0.604390                 1.706170  2024      9   10   \n",
       "\n",
       "     Tanggal     lag_1     lag_2     lag_7  rolling_3  rolling_7     std_3  \\\n",
       "0 2024-09-07  0.894608 -0.538816  0.915277  -0.095980  -0.463011  0.076936   \n",
       "1 2024-09-08 -0.543301  0.898027 -0.516623  -0.455395  -0.670365  0.666613   \n",
       "2 2024-09-09 -1.262255 -0.538816 -1.948523  -1.533640  -0.463011 -0.836228   \n",
       "3 2024-09-09 -1.262255 -1.257237  0.199327  -1.893055  -0.877719 -1.749392   \n",
       "4 2024-09-10 -1.262255 -1.257237  0.915277  -1.533640  -1.292426 -0.836228   \n",
       "\n",
       "      std_7  \n",
       "0  0.378645  \n",
       "1  0.646002  \n",
       "2  0.040603  \n",
       "3  0.237614  \n",
       "4 -0.510010  "
      ]
     },
     "execution_count": 19,
     "metadata": {},
     "output_type": "execute_result"
    }
   ],
   "source": [
    "df.head()"
   ]
  },
  {
   "cell_type": "markdown",
   "metadata": {
    "id": "LZk99rjXqlke"
   },
   "source": [
    "# EDA (Exploratory Data Analysis)"
   ]
  },
  {
   "cell_type": "markdown",
   "metadata": {
    "id": "E4XHXOw6qpVm"
   },
   "source": [
    "## Histogram untuk Rating_Program"
   ]
  },
  {
   "cell_type": "code",
   "execution_count": 20,
   "metadata": {
    "colab": {
     "base_uri": "https://localhost:8080/",
     "height": 501
    },
    "executionInfo": {
     "elapsed": 199,
     "status": "ok",
     "timestamp": 1754282814560,
     "user": {
      "displayName": "MICHAEL STEVEN",
      "userId": "09225223714904031338"
     },
     "user_tz": -420
    },
    "id": "UOaJl2rMprDN",
    "outputId": "684453db-341f-4722-cbb9-87ba6913f55c"
   },
   "outputs": [
    {
     "data": {
      "image/png": "[encoded data removed]",
      "text/plain": [
       "<Figure size 800x500 with 1 Axes>"
      ]
     },
     "metadata": {},
     "output_type": "display_data"
    }
   ],
   "source": [
    "import matplotlib.pyplot as plt\n",
    "import seaborn as sns\n",
    "\n",
    "# Set style visualisasi\n",
    "sns.set(style='whitegrid')\n",
    "\n",
    "# Histogram Rating\n",
    "plt.figure(figsize=(8, 5))\n",
    "sns.histplot(df['Rating_Program'], bins=20, kde=True, color='skyblue')\n",
    "plt.title('Distribusi Rating Program')\n",
    "plt.xlabel('Rating')\n",
    "plt.ylabel('Frekuensi')\n",
    "plt.tight_layout()\n",
    "plt.show()"
   ]
  },
  {
   "cell_type": "markdown",
   "metadata": {
    "id": "XziWZd1Q2BbE"
   },
   "source": [
    "Visualisasi histogram distribusi `Rating_Program` dilakukan untuk memahami **sebaran nilai rating** dalam dataset, yang merupakan langkah penting dalam **Exploratory Data Analysis (EDA)**. Dengan histogram, kita bisa melihat apakah distribusi data bersifat normal, miring, atau mengandung outlier. Berdasarkan grafik yang ditampilkan, distribusi rating cenderung **right-skewed (condong ke kiri)**, dengan mayoritas nilai rating berada di kisaran **0.01 hingga 0.04**, dan hanya sedikit program yang mencapai rating di atas 0.05. Ini menunjukkan bahwa sebagian besar program memiliki rating rendah, dan hanya segelintir yang benar-benar menonjol, sebuah pola umum dalam media massa di mana hanya sedikit program yang mampu menarik perhatian besar secara konsisten. Temuan ini penting karena dapat memengaruhi pemilihan model atau teknik transformasi (misalnya log) untuk prediksi.\n"
   ]
  },
  {
   "cell_type": "markdown",
   "metadata": {
    "id": "hXbHfn6-qvMF"
   },
   "source": [
    "## Heatmap Korelasi Keseluruhan"
   ]
  },
  {
   "cell_type": "code",
   "execution_count": 21,
   "metadata": {
    "executionInfo": {
     "elapsed": 6,
     "status": "ok",
     "timestamp": 1754282814561,
     "user": {
      "displayName": "MICHAEL STEVEN",
      "userId": "09225223714904031338"
     },
     "user_tz": -420
    },
    "id": "qGMFxw3-qscN"
   },
   "outputs": [],
   "source": [
    "# # Korelasi hanya untuk kolom numerik\n",
    "# plt.figure(figsize=(14, 10))\n",
    "# corr_matrix = df.corr(numeric_only=)\n",
    "\n",
    "# sns.heatmap(corr_matrix, annot=True, fmt=\".2f\", cmap='coolwarm', linewidths=0.5)\n",
    "# plt.title('Heatmap Korelasi Antar Variabel Numerik')\n",
    "# plt.tight_layout()\n",
    "# plt.show()\n"
   ]
  },
  {
   "cell_type": "code",
   "execution_count": 22,
   "metadata": {
    "executionInfo": {
     "elapsed": 3,
     "status": "ok",
     "timestamp": 1754282814569,
     "user": {
      "displayName": "MICHAEL STEVEN",
      "userId": "09225223714904031338"
     },
     "user_tz": -420
    },
    "id": "NMaVvO3qqxo3"
   },
   "outputs": [],
   "source": [
    "# # Korelasi terhadap target (Rating_Program)\n",
    "# cor_target = corr_matrix['Rating_Program'].sort_values(ascending=False)\n",
    "# print(\"Korelasi terhadap Rating_Program:\\n\", cor_target)\n"
   ]
  },
  {
   "cell_type": "markdown",
   "metadata": {
    "id": "e7QycsVv2W6s"
   },
   "source": [
    "Analisis korelasi terhadap `Rating_Program` dilakukan untuk mengidentifikasi fitur-fitur yang memiliki hubungan linier kuat dengan target, sehingga dapat digunakan secara efektif dalam proses pemodelan. Korelasi membantu menyaring fitur yang **relevan** dan **menghilangkan fitur yang kurang berkontribusi**, guna meningkatkan akurasi model dan mengurangi noise. Berdasarkan hasil, fitur seperti `Share` (0.96) dan `AveTime/Viewer` (0.72) menunjukkan korelasi sangat tinggi dan positif terhadap rating, artinya mereka sangat berpengaruh dalam menentukan performa program. Sebaliknya, fitur seperti `Persentase_Penonton_Laki`, `Total_Rating_Kompetitor`, dan `Persentase_Penonton_Perempuan` memiliki korelasi **sangat lemah (mendekati nol)** atau bahkan negatif terhadap `Rating_Program`. Oleh karena itu, fitur-fitur tersebut **tidak digunakan** dalam pemodelan karena tidak memberikan kontribusi signifikan dan justru bisa meningkatkan kompleksitas tanpa manfaat prediktif yang jelas.\n"
   ]
  },
  {
   "cell_type": "markdown",
   "metadata": {
    "id": "NyLYbC6esUVh"
   },
   "source": [
    "# Pembagian Data\n",
    "\n",
    "Karena TimeSeriesSplit membagi menjadi fold yang sama besar, kita buat manual split 70/20/10 berdasarkan index tanpa mengacak data:\n"
   ]
  },
  {
   "cell_type": "code",
   "execution_count": 23,
   "metadata": {
    "colab": {
     "base_uri": "https://localhost:8080/"
    },
    "executionInfo": {
     "elapsed": 26,
     "status": "ok",
     "timestamp": 1754282814596,
     "user": {
      "displayName": "MICHAEL STEVEN",
      "userId": "09225223714904031338"
     },
     "user_tz": -420
    },
    "id": "JqBygmkMsd2v",
    "outputId": "f22e4c68-c34d-44a4-da60-4fc44736f73f"
   },
   "outputs": [
    {
     "data": {
      "text/plain": [
       "Index(['Durasi_Menit', 'Rating_Program', 'Share', 'Jumlah_Penonton',\n",
       "       'AveTime/Viewer', 'Persentase_Penonton_Laki',\n",
       "       'Persentase_Penonton_Perempuan', 'Rating_Kompetitor_Tertinggi',\n",
       "       'Total_Rating_Kompetitor', 'Year', 'Month', 'Day', 'Tanggal', 'lag_1',\n",
       "       'lag_2', 'lag_7', 'rolling_3', 'rolling_7', 'std_3', 'std_7'],\n",
       "      dtype='object')"
      ]
     },
     "execution_count": 23,
     "metadata": {},
     "output_type": "execute_result"
    }
   ],
   "source": [
    "df.columns"
   ]
  },
  {
   "cell_type": "code",
   "execution_count": 24,
   "metadata": {
    "executionInfo": {
     "elapsed": 2,
     "status": "ok",
     "timestamp": 1754282814598,
     "user": {
      "displayName": "MICHAEL STEVEN",
      "userId": "09225223714904031338"
     },
     "user_tz": -420
    },
    "id": "WfyodNDkq0q5"
   },
   "outputs": [],
   "source": [
    "# ## Versi 1\n",
    "# selected_features_weekly = [\n",
    "#     'Durasi_Menit', 'Rating_Program', 'Share', 'Jumlah_Penonton',\n",
    "#        'AveTime/Viewer', 'Persentase_Penonton_Laki',\n",
    "#        'Persentase_Penonton_Perempuan', 'Rating_Kompetitor_Tertinggi',\n",
    "#        'Total_Rating_Kompetitor', 'Year', 'Month', 'Day', 'lag_1',\n",
    "#        'lag_2', 'lag_7', 'rolling_3', 'rolling_7', 'std_3', 'std_7'\n",
    "# ]\n",
    "# Versi 2\n",
    "selected_features_weekly = [\n",
    "    'Durasi_Menit', 'Share', 'Jumlah_Penonton',\n",
    "       'AveTime/Viewer', 'Rating_Kompetitor_Tertinggi', 'Year', 'Month', 'Day', 'lag_1',\n",
    "       'lag_2', 'lag_7', 'rolling_3', 'rolling_7', 'std_3', 'std_7'\n",
    "]\n",
    "\n",
    "# # Versi 3\n",
    "# selected_features_weekly = [\n",
    "#     'Durasi_Menit', 'Rating_Program', 'Share', 'Jumlah_Penonton',\n",
    "#        'AveTime/Viewer', 'Persentase_Penonton_Laki',\n",
    "#        'Persentase_Penonton_Perempuan', 'Rating_Kompetitor_Tertinggi',\n",
    "#        'Total_Rating_Kompetitor', 'Year', 'Month', 'Day'\n",
    "# ]\n",
    "\n",
    "X = df[selected_features_weekly]\n",
    "y = df['Rating_Program']"
   ]
  },
  {
   "cell_type": "code",
   "execution_count": 25,
   "metadata": {
    "colab": {
     "base_uri": "https://localhost:8080/"
    },
    "executionInfo": {
     "elapsed": 5,
     "status": "ok",
     "timestamp": 1754282814604,
     "user": {
      "displayName": "MICHAEL STEVEN",
      "userId": "09225223714904031338"
     },
     "user_tz": -420
    },
    "id": "naa2-kUDsrDv",
    "outputId": "ea105c7d-0cc1-4100-bc2e-c8547f8cb1b4"
   },
   "outputs": [
    {
     "name": "stdout",
     "output_type": "stream",
     "text": [
      "Ukuran Total: 176\n",
      "Train: (123, 15) (123,)\n",
      "Validation: (35, 15) (35,)\n",
      "Test: (18, 15) (18,)\n"
     ]
    }
   ],
   "source": [
    "# Hitung index untuk 70% train, 20% validasi, 10% test\n",
    "n_total = len(df)\n",
    "n_train = int(n_total * 0.7)\n",
    "n_val = int(n_total * 0.2)\n",
    "n_test = n_total - n_train - n_val  # sisa 10%\n",
    "\n",
    "# Bagi data sesuai time order (tidak diacak)\n",
    "X_train = X.iloc[:n_train]\n",
    "y_train = y.iloc[:n_train]\n",
    "\n",
    "X_val = X.iloc[n_train:n_train+n_val]\n",
    "y_val = y.iloc[n_train:n_train+n_val]\n",
    "\n",
    "X_test = X.iloc[n_train+n_val:]\n",
    "y_test = y.iloc[n_train+n_val:]\n",
    "\n",
    "# Cek bentuk masing-masing\n",
    "print(\"Ukuran Total:\", n_total)\n",
    "print(\"Train:\", X_train.shape, y_train.shape)\n",
    "print(\"Validation:\", X_val.shape, y_val.shape)\n",
    "print(\"Test:\", X_test.shape, y_test.shape)\n"
   ]
  },
  {
   "cell_type": "markdown",
   "metadata": {
    "id": "53MH-uvns1pb"
   },
   "source": [
    "Jika ingin tetap memakai TimeSeriesSplit dalam train,  bisa kombinasikan begini:"
   ]
  },
  {
   "cell_type": "code",
   "execution_count": 26,
   "metadata": {
    "colab": {
     "base_uri": "https://localhost:8080/"
    },
    "executionInfo": {
     "elapsed": 6,
     "status": "ok",
     "timestamp": 1754282814611,
     "user": {
      "displayName": "MICHAEL STEVEN",
      "userId": "09225223714904031338"
     },
     "user_tz": -420
    },
    "id": "bv7HLuirs1FA",
    "outputId": "7498c506-58d4-4079-d5dc-f8236b061914"
   },
   "outputs": [
    {
     "name": "stdout",
     "output_type": "stream",
     "text": [
      "\n",
      "Fold 1\n",
      "Train CV: (23, 15), Val CV: (20, 15)\n",
      "\n",
      "Fold 2\n",
      "Train CV: (43, 15), Val CV: (20, 15)\n",
      "\n",
      "Fold 3\n",
      "Train CV: (63, 15), Val CV: (20, 15)\n",
      "\n",
      "Fold 4\n",
      "Train CV: (83, 15), Val CV: (20, 15)\n",
      "\n",
      "Fold 5\n",
      "Train CV: (103, 15), Val CV: (20, 15)\n"
     ]
    }
   ],
   "source": [
    "from sklearn.model_selection import TimeSeriesSplit\n",
    "\n",
    "tscv = TimeSeriesSplit(n_splits=5)\n",
    "\n",
    "# Cross-validation hanya dilakukan di data training\n",
    "for fold, (train_index, val_index) in enumerate(tscv.split(X_train)):\n",
    "    X_train_cv, X_val_cv = X_train.iloc[train_index], X_train.iloc[val_index]\n",
    "    y_train_cv, y_val_cv = y_train.iloc[train_index], y_train.iloc[val_index]\n",
    "\n",
    "    print(f\"\\nFold {fold + 1}\")\n",
    "    print(f\"Train CV: {X_train_cv.shape}, Val CV: {X_val_cv.shape}\")\n"
   ]
  },
  {
   "cell_type": "markdown",
   "metadata": {
    "id": "F4ww0I-c2fDl"
   },
   "source": [
    "### Uji coba Versi 1-2-3"
   ]
  },
  {
   "cell_type": "markdown",
   "metadata": {
    "id": "KGAie8Ps2hsI"
   },
   "source": [
    "=> Versi 1 semua variabel\n",
    "📌 Model: XGBoost\n",
    "R²  : 0.9660\n",
    "RMSE: 0.0019\n",
    "MAE : 0.0006\n",
    "MAPE: 0.01%\n",
    "\n",
    "📌 Model: RandomForest\n",
    "R²  : 0.8423\n",
    "RMSE: 0.0051\n",
    "MAE : 0.0034\n",
    "MAPE: 0.11%\n",
    "\n",
    "📌 Model: SVM\n",
    "R²  : 0.6624\n",
    "RMSE: 0.0074\n",
    "MAE : 0.0059\n",
    "MAPE: 0.25%\n",
    "\n",
    "=> Versi 2 Tanpa fitur yg tidak berkorelasi (sekitar 0)\n",
    "selected_features_weekly = [\n",
    "    'Durasi_Menit', 'Rating_Program', 'Share', 'Jumlah_Penonton',\n",
    "       'AveTime/Viewer', 'Rating_Kompetitor_Tertinggi', 'Year', 'Month', 'Day', 'lag_1',\n",
    "       'lag_2', 'lag_7', 'rolling_3', 'rolling_7', 'std_3', 'std_7'\n",
    "]\n",
    "📊 RATA-RATA HASIL TIAP MODEL\n",
    "\n",
    "📌 Model: XGBoost\n",
    "R²  : 0.9660\n",
    "RMSE: 0.0019\n",
    "MAE : 0.0006\n",
    "MAPE: 0.01%\n",
    "\n",
    "📌 Model: RandomForest\n",
    "R²  : 0.8745\n",
    "RMSE: 0.0045\n",
    "MAE : 0.0029\n",
    "MAPE: 0.10%\n",
    "\n",
    "📌 Model: SVM\n",
    "R²  : 0.6479\n",
    "RMSE: 0.0075\n",
    "MAE : 0.0061\n",
    "MAPE: 0.25%\n",
    "\n",
    "=> Versi 3 tanpa lag dan rolling\n",
    "📌 Model: XGBoost\n",
    "R²  : 0.9660\n",
    "RMSE: 0.0019\n",
    "MAE : 0.0006\n",
    "MAPE: 0.01%\n",
    "\n",
    "📌 Model: RandomForest\n",
    "R²  : 0.8618\n",
    "RMSE: 0.0047\n",
    "MAE : 0.0028\n",
    "MAPE: 0.09%\n",
    "\n",
    "📌 Model: SVM\n",
    "R²  : 0.6869\n",
    "RMSE: 0.0071\n",
    "MAE : 0.0057\n",
    "MAPE: 0.24%"
   ]
  },
  {
   "cell_type": "markdown",
   "metadata": {
    "id": "3P0ztExHt3Pb"
   },
   "source": [
    "# Modeling Random Forest"
   ]
  },
  {
   "cell_type": "markdown",
   "metadata": {
    "id": "25RDWOMot54E"
   },
   "source": [
    "## Setup Dasar Evaluasi\n"
   ]
  },
  {
   "cell_type": "code",
   "execution_count": 27,
   "metadata": {
    "executionInfo": {
     "elapsed": 1,
     "status": "ok",
     "timestamp": 1754282814612,
     "user": {
      "displayName": "MICHAEL STEVEN",
      "userId": "09225223714904031338"
     },
     "user_tz": -420
    },
    "id": "AEvA8io7uG9F"
   },
   "outputs": [],
   "source": [
    "from sklearn.ensemble import RandomForestRegressor\n",
    "from sklearn.model_selection import TimeSeriesSplit, RandomizedSearchCV\n",
    "from sklearn.metrics import mean_squared_error, mean_absolute_error, r2_score, make_scorer, mean_absolute_percentage_error\n",
    "import matplotlib.pyplot as plt\n",
    "import numpy as np\n",
    "import joblib\n"
   ]
  },
  {
   "cell_type": "code",
   "execution_count": 28,
   "metadata": {
    "executionInfo": {
     "elapsed": 5,
     "status": "ok",
     "timestamp": 1754282814620,
     "user": {
      "displayName": "MICHAEL STEVEN",
      "userId": "09225223714904031338"
     },
     "user_tz": -420
    },
    "id": "2nVBKdAus96a"
   },
   "outputs": [],
   "source": [
    "rf_params = {\n",
    "    'n_estimators': [100, 200, 300, 400, 500, 700, 1000],\n",
    "    'max_depth': [None, 5, 10, 15, 20, 25, 30, 40, 50],\n",
    "    'min_samples_split': [2, 3, 5, 8, 10, 15],\n",
    "    'min_samples_leaf': [1, 2, 3, 4, 5, 6],\n",
    "    'max_features': ['auto', 'sqrt', 'log2', 0.3, 0.5, 0.7],\n",
    "    'bootstrap': [True, False],\n",
    "    'criterion': ['squared_error', 'absolute_error', 'friedman_mse'],\n",
    "    'oob_score': [True, False]\n",
    "}"
   ]
  },
  {
   "cell_type": "markdown",
   "metadata": {
    "id": "H0PBVteGuN9g"
   },
   "source": [
    "## Tuning & Evaluasi Multi-Model"
   ]
  },
  {
   "cell_type": "markdown",
   "metadata": {
    "id": "YFtgTs1uu7iD"
   },
   "source": [
    "- RandomizedSearchCV dipakai untuk efisiensi dibanding GridSearchCV\n",
    "\n",
    "- TimeSeriesSplit memastikan urutan waktu tetap\n",
    "\n",
    "- Semua model dievaluasi pada 5-fold time-based CV\n",
    "\n",
    "- Dapat dibandingkan langsung dari rata-rata skor R², RMSE, MAE, dan MAPE"
   ]
  },
  {
   "cell_type": "code",
   "execution_count": 29,
   "metadata": {
    "colab": {
     "base_uri": "https://localhost:8080/",
     "height": 1000
    },
    "executionInfo": {
     "elapsed": 131634,
     "status": "ok",
     "timestamp": 1754282946255,
     "user": {
      "displayName": "MICHAEL STEVEN",
      "userId": "09225223714904031338"
     },
     "user_tz": -420
    },
    "id": "z9F7O3Lzt84R",
    "outputId": "352d4042-396d-4cb5-c7c4-a52ab94a2807"
   },
   "outputs": [
    {
     "name": "stdout",
     "output_type": "stream",
     "text": [
      "🔍 Tuning Random Forest... Mohon tunggu 😄\n",
      "Fitting 5 folds for each of 50 candidates, totalling 250 fits\n",
      "✅ Best Params Random Forest:\n",
      "{'oob_score': False, 'n_estimators': 500, 'min_samples_split': 5, 'min_samples_leaf': 2, 'max_features': 0.7, 'max_depth': 5, 'criterion': 'squared_error', 'bootstrap': False}\n",
      "\n",
      "📊 Evaluasi Model Random Forest (5 Fold)\n"
     ]
    },
    {
     "data": {
      "image/png": "[encoded data removed]",
      "text/plain": [
       "<Figure size 800x400 with 1 Axes>"
      ]
     },
     "metadata": {},
     "output_type": "display_data"
    },
    {
     "data": {
      "image/png": "[encoded data removed]",
      "text/plain": [
       "<Figure size 800x400 with 1 Axes>"
      ]
     },
     "metadata": {},
     "output_type": "display_data"
    },
    {
     "data": {
      "image/png": "[encoded data removed]",
      "text/plain": [
       "<Figure size 800x400 with 1 Axes>"
      ]
     },
     "metadata": {},
     "output_type": "display_data"
    },
    {
     "data": {
      "image/png": "[encoded data removed]",
      "text/plain": [
       "<Figure size 800x400 with 1 Axes>"
      ]
     },
     "metadata": {},
     "output_type": "display_data"
    },
    {
     "data": {
      "image/png": "[encoded data removed]",
      "text/plain": [
       "<Figure size 800x400 with 1 Axes>"
      ]
     },
     "metadata": {},
     "output_type": "display_data"
    }
   ],
   "source": [
    "# === 2. TimeSeriesSplit ===\n",
    "tscv = TimeSeriesSplit(n_splits=5)\n",
    "\n",
    "# === 3. Tuning ===\n",
    "rf = RandomForestRegressor(random_state=42)\n",
    "search = RandomizedSearchCV(\n",
    "    estimator=rf,\n",
    "    param_distributions=rf_params,\n",
    "    n_iter=50,\n",
    "    cv=tscv,\n",
    "    scoring=make_scorer(r2_score),\n",
    "    random_state=42,\n",
    "    n_jobs=-1,\n",
    "    verbose=1\n",
    ")\n",
    "\n",
    "print(\"🔍 Tuning Random Forest... Mohon tunggu 😄\")\n",
    "search.fit(X, y)\n",
    "\n",
    "best_rf = search.best_estimator_\n",
    "best_params_rf = search.best_params_\n",
    "print(f\"✅ Best Params Random Forest:\\n{best_params_rf}\")\n",
    "\n",
    "# === 4. Evaluasi TimeSeriesSplit ===\n",
    "r2_scores, rmse_scores, mae_scores, mape_scores = [], [], [], []\n",
    "\n",
    "print(\"\\n📊 Evaluasi Model Random Forest (5 Fold)\")\n",
    "for fold, (train_idx, test_idx) in enumerate(tscv.split(X), 1):\n",
    "    X_train, X_test = X.iloc[train_idx], X.iloc[test_idx]\n",
    "    y_train, y_test = y.iloc[train_idx], y.iloc[test_idx]\n",
    "\n",
    "    best_rf.fit(X_train, y_train)\n",
    "    y_pred = best_rf.predict(X_test)\n",
    "\n",
    "    r2 = r2_score(y_test, y_pred)\n",
    "    rmse = np.sqrt(mean_squared_error(y_test, y_pred))\n",
    "    mae = mean_absolute_error(y_test, y_pred)\n",
    "    mape = mean_absolute_percentage_error(y_test, y_pred)\n",
    "\n",
    "    r2_scores.append(r2)\n",
    "    rmse_scores.append(rmse)\n",
    "    mae_scores.append(mae)\n",
    "    mape_scores.append(mape)\n",
    "\n",
    "    # Visualisasi\n",
    "    plt.figure(figsize=(8, 4))\n",
    "    plt.plot(y_test.values, label='Actual', marker='o')\n",
    "    plt.plot(y_pred, label='Predicted', marker='x')\n",
    "    plt.title(f'Random Forest - Fold {fold} - Prediksi vs Aktual')\n",
    "    plt.xlabel('Index')\n",
    "    plt.ylabel('Rating')\n",
    "    plt.legend()\n",
    "    plt.tight_layout()\n",
    "    plt.show()"
   ]
  },
  {
   "cell_type": "markdown",
   "metadata": {
    "id": "Ix5jTg1CuhHM"
   },
   "source": [
    "## Rangkuman Hasil Semua Model"
   ]
  },
  {
   "cell_type": "code",
   "execution_count": 30,
   "metadata": {
    "colab": {
     "base_uri": "https://localhost:8080/"
    },
    "executionInfo": {
     "elapsed": 5,
     "status": "ok",
     "timestamp": 1754282946262,
     "user": {
      "displayName": "MICHAEL STEVEN",
      "userId": "09225223714904031338"
     },
     "user_tz": -420
    },
    "id": "CD6yWvKZuXai",
    "outputId": "6cea3278-287d-48cc-f959-43ccafdab1f8"
   },
   "outputs": [
    {
     "name": "stdout",
     "output_type": "stream",
     "text": [
      "\n",
      "📈 RATA-RATA PERFORMA RANDOM FOREST:\n",
      "R2   : 0.8214\n",
      "RMSE : 0.0054\n",
      "MAE  : 0.0038\n",
      "MAPE : 0.13%\n"
     ]
    }
   ],
   "source": [
    "print(\"\\n📈 RATA-RATA PERFORMA RANDOM FOREST:\")\n",
    "print(f\"R2   : {np.mean(r2_scores):.4f}\")\n",
    "print(f\"RMSE : {np.mean(rmse_scores):.4f}\")\n",
    "print(f\"MAE  : {np.mean(mae_scores):.4f}\")\n",
    "print(f\"MAPE : {np.mean(mape_scores):.2f}%\")"
   ]
  },
  {
   "cell_type": "code",
   "execution_count": 31,
   "metadata": {
    "colab": {
     "base_uri": "https://localhost:8080/"
    },
    "executionInfo": {
     "elapsed": 7,
     "status": "ok",
     "timestamp": 1754282946270,
     "user": {
      "displayName": "MICHAEL STEVEN",
      "userId": "09225223714904031338"
     },
     "user_tz": -420
    },
    "id": "aK9dqjxRZi08",
    "outputId": "b765addd-76c1-4ba6-bb13-338c2fa9bc02"
   },
   "outputs": [
    {
     "name": "stdout",
     "output_type": "stream",
     "text": [
      "Tipe model: <class 'sklearn.ensemble._forest.RandomForestRegressor'>\n"
     ]
    }
   ],
   "source": [
    "print(\"Tipe model:\", type(best_rf))"
   ]
  },
  {
   "cell_type": "markdown",
   "metadata": {
    "id": "O8jRlQ1XuzV8"
   },
   "source": [
    "## Simpan Model"
   ]
  },
  {
   "cell_type": "code",
   "execution_count": 32,
   "metadata": {
    "colab": {
     "base_uri": "https://localhost:8080/"
    },
    "executionInfo": {
     "elapsed": 7,
     "status": "ok",
     "timestamp": 1754282946278,
     "user": {
      "displayName": "MICHAEL STEVEN",
      "userId": "09225223714904031338"
     },
     "user_tz": -420
    },
    "id": "HRc22jtFuz_1",
    "outputId": "c8bd52dd-a3a8-49b8-92d1-0e0130cf6b2e"
   },
   "outputs": [
    {
     "name": "stdout",
     "output_type": "stream",
     "text": [
      "\n",
      "💾 Model Random Forest disimpan sebagai random_forest_final_model_v4.pkl ✅\n"
     ]
    }
   ],
   "source": [
    "import joblib\n",
    "joblib.dump(best_rf, \"random_forest_final_model_v4.pkl\")\n",
    "print(\"\\n💾 Model Random Forest disimpan sebagai random_forest_final_model_v4.pkl ✅\")"
   ]
  },
  {
   "cell_type": "code",
   "execution_count": 33,
   "metadata": {
    "executionInfo": {
     "elapsed": 2,
     "status": "ok",
     "timestamp": 1754282946281,
     "user": {
      "displayName": "MICHAEL STEVEN",
      "userId": "09225223714904031338"
     },
     "user_tz": -420
    },
    "id": "-gUxIPmKZi08"
   },
   "outputs": [],
   "source": [
    "# import pickle\n",
    "# # Simpan model\n",
    "# with open(\"model_laporan8pagi.pkl\", \"wb\") as f_model:\n",
    "#     pickle.dump(best_rf, f_model)"
   ]
  },
  {
   "cell_type": "code",
   "execution_count": 34,
   "metadata": {
    "executionInfo": {
     "elapsed": 36,
     "status": "ok",
     "timestamp": 1754282946319,
     "user": {
      "displayName": "MICHAEL STEVEN",
      "userId": "09225223714904031338"
     },
     "user_tz": -420
    },
    "id": "7Zu4QbYwZi08"
   },
   "outputs": [],
   "source": [
    "# # Simpan scaler\n",
    "# with open(\"scaler_laporan8pagi.pkl\", \"wb\") as f_scaler:\n",
    "#     pickle.dump(scaler, f_scaler)\n"
   ]
  },
  {
   "cell_type": "markdown",
   "metadata": {
    "id": "DCL_POtVZi08"
   },
   "source": [
    "# Tanpa Tuning"
   ]
  },
  {
   "cell_type": "code",
   "execution_count": 35,
   "metadata": {
    "colab": {
     "base_uri": "https://localhost:8080/",
     "height": 80
    },
    "executionInfo": {
     "elapsed": 161,
     "status": "ok",
     "timestamp": 1754282946478,
     "user": {
      "displayName": "MICHAEL STEVEN",
      "userId": "09225223714904031338"
     },
     "user_tz": -420
    },
    "id": "Uxl-4ZrnZi09",
    "outputId": "f9269876-42c9-40e4-918f-77b80cb4ee0d"
   },
   "outputs": [
    {
     "data": {
      "text/html": [
       "<style>#sk-container-id-1 {\n",
       "  /* Definition of color scheme common for light and dark mode */\n",
       "  --sklearn-color-text: #000;\n",
       "  --sklearn-color-text-muted: #666;\n",
       "  --sklearn-color-line: gray;\n",
       "  /* Definition of color scheme for unfitted estimators */\n",
       "  --sklearn-color-unfitted-level-0: #fff5e6;\n",
       "  --sklearn-color-unfitted-level-1: #f6e4d2;\n",
       "  --sklearn-color-unfitted-level-2: #ffe0b3;\n",
       "  --sklearn-color-unfitted-level-3: chocolate;\n",
       "  /* Definition of color scheme for fitted estimators */\n",
       "  --sklearn-color-fitted-level-0: #f0f8ff;\n",
       "  --sklearn-color-fitted-level-1: #d4ebff;\n",
       "  --sklearn-color-fitted-level-2: #b3dbfd;\n",
       "  --sklearn-color-fitted-level-3: cornflowerblue;\n",
       "\n",
       "  /* Specific color for light theme */\n",
       "  --sklearn-color-text-on-default-background: var(--sg-text-color, var(--theme-code-foreground, var(--jp-content-font-color1, black)));\n",
       "  --sklearn-color-background: var(--sg-background-color, var(--theme-background, var(--jp-layout-color0, white)));\n",
       "  --sklearn-color-border-box: var(--sg-text-color, var(--theme-code-foreground, var(--jp-content-font-color1, black)));\n",
       "  --sklearn-color-icon: #696969;\n",
       "\n",
       "  @media (prefers-color-scheme: dark) {\n",
       "    /* Redefinition of color scheme for dark theme */\n",
       "    --sklearn-color-text-on-default-background: var(--sg-text-color, var(--theme-code-foreground, var(--jp-content-font-color1, white)));\n",
       "    --sklearn-color-background: var(--sg-background-color, var(--theme-background, var(--jp-layout-color0, #111)));\n",
       "    --sklearn-color-border-box: var(--sg-text-color, var(--theme-code-foreground, var(--jp-content-font-color1, white)));\n",
       "    --sklearn-color-icon: #878787;\n",
       "  }\n",
       "}\n",
       "\n",
       "#sk-container-id-1 {\n",
       "  color: var(--sklearn-color-text);\n",
       "}\n",
       "\n",
       "#sk-container-id-1 pre {\n",
       "  padding: 0;\n",
       "}\n",
       "\n",
       "#sk-container-id-1 input.sk-hidden--visually {\n",
       "  border: 0;\n",
       "  clip: rect(1px 1px 1px 1px);\n",
       "  clip: rect(1px, 1px, 1px, 1px);\n",
       "  height: 1px;\n",
       "  margin: -1px;\n",
       "  overflow: hidden;\n",
       "  padding: 0;\n",
       "  position: absolute;\n",
       "  width: 1px;\n",
       "}\n",
       "\n",
       "#sk-container-id-1 div.sk-dashed-wrapped {\n",
       "  border: 1px dashed var(--sklearn-color-line);\n",
       "  margin: 0 0.4em 0.5em 0.4em;\n",
       "  box-sizing: border-box;\n",
       "  padding-bottom: 0.4em;\n",
       "  background-color: var(--sklearn-color-background);\n",
       "}\n",
       "\n",
       "#sk-container-id-1 div.sk-container {\n",
       "  /* jupyter's `normalize.less` sets `[hidden] { display: none; }`\n",
       "     but bootstrap.min.css set `[hidden] { display: none !important; }`\n",
       "     so we also need the `!important` here to be able to override the\n",
       "     default hidden behavior on the sphinx rendered scikit-learn.org.\n",
       "     See: https://github.com/scikit-learn/scikit-learn/issues/21755 */\n",
       "  display: inline-block !important;\n",
       "  position: relative;\n",
       "}\n",
       "\n",
       "#sk-container-id-1 div.sk-text-repr-fallback {\n",
       "  display: none;\n",
       "}\n",
       "\n",
       "div.sk-parallel-item,\n",
       "div.sk-serial,\n",
       "div.sk-item {\n",
       "  /* draw centered vertical line to link estimators */\n",
       "  background-image: linear-gradient(var(--sklearn-color-text-on-default-background), var(--sklearn-color-text-on-default-background));\n",
       "  background-size: 2px 100%;\n",
       "  background-repeat: no-repeat;\n",
       "  background-position: center center;\n",
       "}\n",
       "\n",
       "/* Parallel-specific style estimator block */\n",
       "\n",
       "#sk-container-id-1 div.sk-parallel-item::after {\n",
       "  content: \"\";\n",
       "  width: 100%;\n",
       "  border-bottom: 2px solid var(--sklearn-color-text-on-default-background);\n",
       "  flex-grow: 1;\n",
       "}\n",
       "\n",
       "#sk-container-id-1 div.sk-parallel {\n",
       "  display: flex;\n",
       "  align-items: stretch;\n",
       "  justify-content: center;\n",
       "  background-color: var(--sklearn-color-background);\n",
       "  position: relative;\n",
       "}\n",
       "\n",
       "#sk-container-id-1 div.sk-parallel-item {\n",
       "  display: flex;\n",
       "  flex-direction: column;\n",
       "}\n",
       "\n",
       "#sk-container-id-1 div.sk-parallel-item:first-child::after {\n",
       "  align-self: flex-end;\n",
       "  width: 50%;\n",
       "}\n",
       "\n",
       "#sk-container-id-1 div.sk-parallel-item:last-child::after {\n",
       "  align-self: flex-start;\n",
       "  width: 50%;\n",
       "}\n",
       "\n",
       "#sk-container-id-1 div.sk-parallel-item:only-child::after {\n",
       "  width: 0;\n",
       "}\n",
       "\n",
       "/* Serial-specific style estimator block */\n",
       "\n",
       "#sk-container-id-1 div.sk-serial {\n",
       "  display: flex;\n",
       "  flex-direction: column;\n",
       "  align-items: center;\n",
       "  background-color: var(--sklearn-color-background);\n",
       "  padding-right: 1em;\n",
       "  padding-left: 1em;\n",
       "}\n",
       "\n",
       "\n",
       "/* Toggleable style: style used for estimator/Pipeline/ColumnTransformer box that is\n",
       "clickable and can be expanded/collapsed.\n",
       "- Pipeline and ColumnTransformer use this feature and define the default style\n",
       "- Estimators will overwrite some part of the style using the `sk-estimator` class\n",
       "*/\n",
       "\n",
       "/* Pipeline and ColumnTransformer style (default) */\n",
       "\n",
       "#sk-container-id-1 div.sk-toggleable {\n",
       "  /* Default theme specific background. It is overwritten whether we have a\n",
       "  specific estimator or a Pipeline/ColumnTransformer */\n",
       "  background-color: var(--sklearn-color-background);\n",
       "}\n",
       "\n",
       "/* Toggleable label */\n",
       "#sk-container-id-1 label.sk-toggleable__label {\n",
       "  cursor: pointer;\n",
       "  display: flex;\n",
       "  width: 100%;\n",
       "  margin-bottom: 0;\n",
       "  padding: 0.5em;\n",
       "  box-sizing: border-box;\n",
       "  text-align: center;\n",
       "  align-items: start;\n",
       "  justify-content: space-between;\n",
       "  gap: 0.5em;\n",
       "}\n",
       "\n",
       "#sk-container-id-1 label.sk-toggleable__label .caption {\n",
       "  font-size: 0.6rem;\n",
       "  font-weight: lighter;\n",
       "  color: var(--sklearn-color-text-muted);\n",
       "}\n",
       "\n",
       "#sk-container-id-1 label.sk-toggleable__label-arrow:before {\n",
       "  /* Arrow on the left of the label */\n",
       "  content: \"▸\";\n",
       "  float: left;\n",
       "  margin-right: 0.25em;\n",
       "  color: var(--sklearn-color-icon);\n",
       "}\n",
       "\n",
       "#sk-container-id-1 label.sk-toggleable__label-arrow:hover:before {\n",
       "  color: var(--sklearn-color-text);\n",
       "}\n",
       "\n",
       "/* Toggleable content - dropdown */\n",
       "\n",
       "#sk-container-id-1 div.sk-toggleable__content {\n",
       "  max-height: 0;\n",
       "  max-width: 0;\n",
       "  overflow: hidden;\n",
       "  text-align: left;\n",
       "  /* unfitted */\n",
       "  background-color: var(--sklearn-color-unfitted-level-0);\n",
       "}\n",
       "\n",
       "#sk-container-id-1 div.sk-toggleable__content.fitted {\n",
       "  /* fitted */\n",
       "  background-color: var(--sklearn-color-fitted-level-0);\n",
       "}\n",
       "\n",
       "#sk-container-id-1 div.sk-toggleable__content pre {\n",
       "  margin: 0.2em;\n",
       "  border-radius: 0.25em;\n",
       "  color: var(--sklearn-color-text);\n",
       "  /* unfitted */\n",
       "  background-color: var(--sklearn-color-unfitted-level-0);\n",
       "}\n",
       "\n",
       "#sk-container-id-1 div.sk-toggleable__content.fitted pre {\n",
       "  /* unfitted */\n",
       "  background-color: var(--sklearn-color-fitted-level-0);\n",
       "}\n",
       "\n",
       "#sk-container-id-1 input.sk-toggleable__control:checked~div.sk-toggleable__content {\n",
       "  /* Expand drop-down */\n",
       "  max-height: 200px;\n",
       "  max-width: 100%;\n",
       "  overflow: auto;\n",
       "}\n",
       "\n",
       "#sk-container-id-1 input.sk-toggleable__control:checked~label.sk-toggleable__label-arrow:before {\n",
       "  content: \"▾\";\n",
       "}\n",
       "\n",
       "/* Pipeline/ColumnTransformer-specific style */\n",
       "\n",
       "#sk-container-id-1 div.sk-label input.sk-toggleable__control:checked~label.sk-toggleable__label {\n",
       "  color: var(--sklearn-color-text);\n",
       "  background-color: var(--sklearn-color-unfitted-level-2);\n",
       "}\n",
       "\n",
       "#sk-container-id-1 div.sk-label.fitted input.sk-toggleable__control:checked~label.sk-toggleable__label {\n",
       "  background-color: var(--sklearn-color-fitted-level-2);\n",
       "}\n",
       "\n",
       "/* Estimator-specific style */\n",
       "\n",
       "/* Colorize estimator box */\n",
       "#sk-container-id-1 div.sk-estimator input.sk-toggleable__control:checked~label.sk-toggleable__label {\n",
       "  /* unfitted */\n",
       "  background-color: var(--sklearn-color-unfitted-level-2);\n",
       "}\n",
       "\n",
       "#sk-container-id-1 div.sk-estimator.fitted input.sk-toggleable__control:checked~label.sk-toggleable__label {\n",
       "  /* fitted */\n",
       "  background-color: var(--sklearn-color-fitted-level-2);\n",
       "}\n",
       "\n",
       "#sk-container-id-1 div.sk-label label.sk-toggleable__label,\n",
       "#sk-container-id-1 div.sk-label label {\n",
       "  /* The background is the default theme color */\n",
       "  color: var(--sklearn-color-text-on-default-background);\n",
       "}\n",
       "\n",
       "/* On hover, darken the color of the background */\n",
       "#sk-container-id-1 div.sk-label:hover label.sk-toggleable__label {\n",
       "  color: var(--sklearn-color-text);\n",
       "  background-color: var(--sklearn-color-unfitted-level-2);\n",
       "}\n",
       "\n",
       "/* Label box, darken color on hover, fitted */\n",
       "#sk-container-id-1 div.sk-label.fitted:hover label.sk-toggleable__label.fitted {\n",
       "  color: var(--sklearn-color-text);\n",
       "  background-color: var(--sklearn-color-fitted-level-2);\n",
       "}\n",
       "\n",
       "/* Estimator label */\n",
       "\n",
       "#sk-container-id-1 div.sk-label label {\n",
       "  font-family: monospace;\n",
       "  font-weight: bold;\n",
       "  display: inline-block;\n",
       "  line-height: 1.2em;\n",
       "}\n",
       "\n",
       "#sk-container-id-1 div.sk-label-container {\n",
       "  text-align: center;\n",
       "}\n",
       "\n",
       "/* Estimator-specific */\n",
       "#sk-container-id-1 div.sk-estimator {\n",
       "  font-family: monospace;\n",
       "  border: 1px dotted var(--sklearn-color-border-box);\n",
       "  border-radius: 0.25em;\n",
       "  box-sizing: border-box;\n",
       "  margin-bottom: 0.5em;\n",
       "  /* unfitted */\n",
       "  background-color: var(--sklearn-color-unfitted-level-0);\n",
       "}\n",
       "\n",
       "#sk-container-id-1 div.sk-estimator.fitted {\n",
       "  /* fitted */\n",
       "  background-color: var(--sklearn-color-fitted-level-0);\n",
       "}\n",
       "\n",
       "/* on hover */\n",
       "#sk-container-id-1 div.sk-estimator:hover {\n",
       "  /* unfitted */\n",
       "  background-color: var(--sklearn-color-unfitted-level-2);\n",
       "}\n",
       "\n",
       "#sk-container-id-1 div.sk-estimator.fitted:hover {\n",
       "  /* fitted */\n",
       "  background-color: var(--sklearn-color-fitted-level-2);\n",
       "}\n",
       "\n",
       "/* Specification for estimator info (e.g. \"i\" and \"?\") */\n",
       "\n",
       "/* Common style for \"i\" and \"?\" */\n",
       "\n",
       ".sk-estimator-doc-link,\n",
       "a:link.sk-estimator-doc-link,\n",
       "a:visited.sk-estimator-doc-link {\n",
       "  float: right;\n",
       "  font-size: smaller;\n",
       "  line-height: 1em;\n",
       "  font-family: monospace;\n",
       "  background-color: var(--sklearn-color-background);\n",
       "  border-radius: 1em;\n",
       "  height: 1em;\n",
       "  width: 1em;\n",
       "  text-decoration: none !important;\n",
       "  margin-left: 0.5em;\n",
       "  text-align: center;\n",
       "  /* unfitted */\n",
       "  border: var(--sklearn-color-unfitted-level-1) 1pt solid;\n",
       "  color: var(--sklearn-color-unfitted-level-1);\n",
       "}\n",
       "\n",
       ".sk-estimator-doc-link.fitted,\n",
       "a:link.sk-estimator-doc-link.fitted,\n",
       "a:visited.sk-estimator-doc-link.fitted {\n",
       "  /* fitted */\n",
       "  border: var(--sklearn-color-fitted-level-1) 1pt solid;\n",
       "  color: var(--sklearn-color-fitted-level-1);\n",
       "}\n",
       "\n",
       "/* On hover */\n",
       "div.sk-estimator:hover .sk-estimator-doc-link:hover,\n",
       ".sk-estimator-doc-link:hover,\n",
       "div.sk-label-container:hover .sk-estimator-doc-link:hover,\n",
       ".sk-estimator-doc-link:hover {\n",
       "  /* unfitted */\n",
       "  background-color: var(--sklearn-color-unfitted-level-3);\n",
       "  color: var(--sklearn-color-background);\n",
       "  text-decoration: none;\n",
       "}\n",
       "\n",
       "div.sk-estimator.fitted:hover .sk-estimator-doc-link.fitted:hover,\n",
       ".sk-estimator-doc-link.fitted:hover,\n",
       "div.sk-label-container:hover .sk-estimator-doc-link.fitted:hover,\n",
       ".sk-estimator-doc-link.fitted:hover {\n",
       "  /* fitted */\n",
       "  background-color: var(--sklearn-color-fitted-level-3);\n",
       "  color: var(--sklearn-color-background);\n",
       "  text-decoration: none;\n",
       "}\n",
       "\n",
       "/* Span, style for the box shown on hovering the info icon */\n",
       ".sk-estimator-doc-link span {\n",
       "  display: none;\n",
       "  z-index: 9999;\n",
       "  position: relative;\n",
       "  font-weight: normal;\n",
       "  right: .2ex;\n",
       "  padding: .5ex;\n",
       "  margin: .5ex;\n",
       "  width: min-content;\n",
       "  min-width: 20ex;\n",
       "  max-width: 50ex;\n",
       "  color: var(--sklearn-color-text);\n",
       "  box-shadow: 2pt 2pt 4pt #999;\n",
       "  /* unfitted */\n",
       "  background: var(--sklearn-color-unfitted-level-0);\n",
       "  border: .5pt solid var(--sklearn-color-unfitted-level-3);\n",
       "}\n",
       "\n",
       ".sk-estimator-doc-link.fitted span {\n",
       "  /* fitted */\n",
       "  background: var(--sklearn-color-fitted-level-0);\n",
       "  border: var(--sklearn-color-fitted-level-3);\n",
       "}\n",
       "\n",
       ".sk-estimator-doc-link:hover span {\n",
       "  display: block;\n",
       "}\n",
       "\n",
       "/* \"?\"-specific style due to the `<a>` HTML tag */\n",
       "\n",
       "#sk-container-id-1 a.estimator_doc_link {\n",
       "  float: right;\n",
       "  font-size: 1rem;\n",
       "  line-height: 1em;\n",
       "  font-family: monospace;\n",
       "  background-color: var(--sklearn-color-background);\n",
       "  border-radius: 1rem;\n",
       "  height: 1rem;\n",
       "  width: 1rem;\n",
       "  text-decoration: none;\n",
       "  /* unfitted */\n",
       "  color: var(--sklearn-color-unfitted-level-1);\n",
       "  border: var(--sklearn-color-unfitted-level-1) 1pt solid;\n",
       "}\n",
       "\n",
       "#sk-container-id-1 a.estimator_doc_link.fitted {\n",
       "  /* fitted */\n",
       "  border: var(--sklearn-color-fitted-level-1) 1pt solid;\n",
       "  color: var(--sklearn-color-fitted-level-1);\n",
       "}\n",
       "\n",
       "/* On hover */\n",
       "#sk-container-id-1 a.estimator_doc_link:hover {\n",
       "  /* unfitted */\n",
       "  background-color: var(--sklearn-color-unfitted-level-3);\n",
       "  color: var(--sklearn-color-background);\n",
       "  text-decoration: none;\n",
       "}\n",
       "\n",
       "#sk-container-id-1 a.estimator_doc_link.fitted:hover {\n",
       "  /* fitted */\n",
       "  background-color: var(--sklearn-color-fitted-level-3);\n",
       "}\n",
       "</style><div id=\"sk-container-id-1\" class=\"sk-top-container\"><div class=\"sk-text-repr-fallback\"><pre>RandomForestRegressor(random_state=42)</pre><b>In a Jupyter environment, please rerun this cell to show the HTML representation or trust the notebook. <br />On GitHub, the HTML representation is unable to render, please try loading this page with nbviewer.org.</b></div><div class=\"sk-container\" hidden><div class=\"sk-item\"><div class=\"sk-estimator fitted sk-toggleable\"><input class=\"sk-toggleable__control sk-hidden--visually\" id=\"sk-estimator-id-1\" type=\"checkbox\" checked><label for=\"sk-estimator-id-1\" class=\"sk-toggleable__label fitted sk-toggleable__label-arrow\"><div><div>RandomForestRegressor</div></div><div><a class=\"sk-estimator-doc-link fitted\" rel=\"noreferrer\" target=\"_blank\" href=\"https://scikit-learn.org/1.6/modules/generated/sklearn.ensemble.RandomForestRegressor.html\">?<span>Documentation for RandomForestRegressor</span></a><span class=\"sk-estimator-doc-link fitted\">i<span>Fitted</span></span></div></label><div class=\"sk-toggleable__content fitted\"><pre>RandomForestRegressor(random_state=42)</pre></div> </div></div></div></div>"
      ],
      "text/plain": [
       "RandomForestRegressor(random_state=42)"
      ]
     },
     "execution_count": 35,
     "metadata": {},
     "output_type": "execute_result"
    }
   ],
   "source": [
    "from sklearn.ensemble import RandomForestRegressor\n",
    "from sklearn.svm import SVR\n",
    "from xgboost import XGBRegressor\n",
    "from sklearn.metrics import r2_score, mean_squared_error, mean_absolute_error\n",
    "import joblib\n",
    "import numpy as np\n",
    "\n",
    "# Train tanpa tuning\n",
    "rf_notuned = RandomForestRegressor(random_state=42)\n",
    "# svm_notuned = SVR()\n",
    "# xgb_notuned = XGBRegressor(n_estimators=100, verbosity=0, random_state=42)  # disarankan untuk set verbosity=0 agar tidak spam log\n",
    "\n",
    "rf_notuned.fit(X_train, y_train)\n",
    "# svm_notuned.fit(X_train, y_train)\n",
    "# xgb_notuned.fit(X_train, y_train)"
   ]
  },
  {
   "cell_type": "code",
   "execution_count": 36,
   "metadata": {
    "executionInfo": {
     "elapsed": 13,
     "status": "ok",
     "timestamp": 1754282946491,
     "user": {
      "displayName": "MICHAEL STEVEN",
      "userId": "09225223714904031338"
     },
     "user_tz": -420
    },
    "id": "pEtVNW6oZi09"
   },
   "outputs": [],
   "source": [
    "# Prediksi\n",
    "rf_pred = rf_notuned.predict(X_test)\n",
    "# svm_pred = svm_notuned.predict(X_test)\n",
    "# xgb_pred = xgb_notuned.predict(X_test)"
   ]
  },
  {
   "cell_type": "code",
   "execution_count": 37,
   "metadata": {
    "colab": {
     "base_uri": "https://localhost:8080/",
     "height": 356
    },
    "executionInfo": {
     "elapsed": 204,
     "status": "error",
     "timestamp": 1754282946694,
     "user": {
      "displayName": "MICHAEL STEVEN",
      "userId": "09225223714904031338"
     },
     "user_tz": -420
    },
    "id": "XjSp8RXyZi09",
    "outputId": "15297e87-678d-42e2-91e9-233dba9d91c1"
   },
   "outputs": [
    {
     "ename": "TypeError",
     "evalue": "got an unexpected keyword argument 'squared'",
     "output_type": "error",
     "traceback": [
      "\u001b[0;31m---------------------------------------------------------------------------\u001b[0m",
      "\u001b[0;31mTypeError\u001b[0m                                 Traceback (most recent call last)",
      "\u001b[0;32m/tmp/ipython-input-3380428361.py\u001b[0m in \u001b[0;36m<cell line: 0>\u001b[0;34m()\u001b[0m\n\u001b[1;32m      9\u001b[0m \u001b[0;34m\u001b[0m\u001b[0m\n\u001b[1;32m     10\u001b[0m results_notuned = pd.DataFrame([\n\u001b[0;32m---> 11\u001b[0;31m     \u001b[0;34m{\u001b[0m\u001b[0;34m\"Model\"\u001b[0m\u001b[0;34m:\u001b[0m \u001b[0;34m\"Random Forest (no tuning)\"\u001b[0m\u001b[0;34m,\u001b[0m \u001b[0;34m**\u001b[0m\u001b[0mevaluate\u001b[0m\u001b[0;34m(\u001b[0m\u001b[0my_test\u001b[0m\u001b[0;34m,\u001b[0m \u001b[0mrf_pred\u001b[0m\u001b[0;34m)\u001b[0m\u001b[0;34m}\u001b[0m\u001b[0;34m,\u001b[0m\u001b[0;34m\u001b[0m\u001b[0;34m\u001b[0m\u001b[0m\n\u001b[0m\u001b[1;32m     12\u001b[0m     \u001b[0;31m# {\"Model\": \"SVM (no tuning)\", **evaluate(y_test, svm_pred)},\u001b[0m\u001b[0;34m\u001b[0m\u001b[0;34m\u001b[0m\u001b[0m\n\u001b[1;32m     13\u001b[0m     \u001b[0;31m# {\"Model\": \"XGBoost (no tuning)\", **evaluate(y_test, xgb_pred)},\u001b[0m\u001b[0;34m\u001b[0m\u001b[0;34m\u001b[0m\u001b[0m\n",
      "\u001b[0;32m/tmp/ipython-input-3380428361.py\u001b[0m in \u001b[0;36mevaluate\u001b[0;34m(y_true, y_pred)\u001b[0m\n\u001b[1;32m      3\u001b[0m     return {\n\u001b[1;32m      4\u001b[0m         \u001b[0;34m\"R2\"\u001b[0m\u001b[0;34m:\u001b[0m \u001b[0mr2_score\u001b[0m\u001b[0;34m(\u001b[0m\u001b[0my_true\u001b[0m\u001b[0;34m,\u001b[0m \u001b[0my_pred\u001b[0m\u001b[0;34m)\u001b[0m\u001b[0;34m,\u001b[0m\u001b[0;34m\u001b[0m\u001b[0;34m\u001b[0m\u001b[0m\n\u001b[0;32m----> 5\u001b[0;31m         \u001b[0;34m\"RMSE\"\u001b[0m\u001b[0;34m:\u001b[0m \u001b[0mmean_squared_error\u001b[0m\u001b[0;34m(\u001b[0m\u001b[0my_true\u001b[0m\u001b[0;34m,\u001b[0m \u001b[0my_pred\u001b[0m\u001b[0;34m,\u001b[0m \u001b[0msquared\u001b[0m\u001b[0;34m=\u001b[0m\u001b[0;32mFalse\u001b[0m\u001b[0;34m)\u001b[0m\u001b[0;34m,\u001b[0m\u001b[0;34m\u001b[0m\u001b[0;34m\u001b[0m\u001b[0m\n\u001b[0m\u001b[1;32m      6\u001b[0m         \u001b[0;34m\"MAE\"\u001b[0m\u001b[0;34m:\u001b[0m \u001b[0mmean_absolute_error\u001b[0m\u001b[0;34m(\u001b[0m\u001b[0my_true\u001b[0m\u001b[0;34m,\u001b[0m \u001b[0my_pred\u001b[0m\u001b[0;34m)\u001b[0m\u001b[0;34m,\u001b[0m\u001b[0;34m\u001b[0m\u001b[0;34m\u001b[0m\u001b[0m\n\u001b[1;32m      7\u001b[0m         \u001b[0;34m\"MAPE\"\u001b[0m\u001b[0;34m:\u001b[0m \u001b[0mnp\u001b[0m\u001b[0;34m.\u001b[0m\u001b[0mmean\u001b[0m\u001b[0;34m(\u001b[0m\u001b[0mnp\u001b[0m\u001b[0;34m.\u001b[0m\u001b[0mabs\u001b[0m\u001b[0;34m(\u001b[0m\u001b[0;34m(\u001b[0m\u001b[0my_true\u001b[0m \u001b[0;34m-\u001b[0m \u001b[0my_pred\u001b[0m\u001b[0;34m)\u001b[0m \u001b[0;34m/\u001b[0m \u001b[0my_true\u001b[0m\u001b[0;34m)\u001b[0m\u001b[0;34m)\u001b[0m \u001b[0;34m*\u001b[0m \u001b[0;36m100\u001b[0m\u001b[0;34m\u001b[0m\u001b[0;34m\u001b[0m\u001b[0m\n",
      "\u001b[0;32m/usr/local/lib/python3.11/dist-packages/sklearn/utils/_param_validation.py\u001b[0m in \u001b[0;36mwrapper\u001b[0;34m(*args, **kwargs)\u001b[0m\n\u001b[1;32m    192\u001b[0m \u001b[0;34m\u001b[0m\u001b[0m\n\u001b[1;32m    193\u001b[0m             \u001b[0;31m# Map *args/**kwargs to the function signature\u001b[0m\u001b[0;34m\u001b[0m\u001b[0;34m\u001b[0m\u001b[0m\n\u001b[0;32m--> 194\u001b[0;31m             \u001b[0mparams\u001b[0m \u001b[0;34m=\u001b[0m \u001b[0mfunc_sig\u001b[0m\u001b[0;34m.\u001b[0m\u001b[0mbind\u001b[0m\u001b[0;34m(\u001b[0m\u001b[0;34m*\u001b[0m\u001b[0margs\u001b[0m\u001b[0;34m,\u001b[0m \u001b[0;34m**\u001b[0m\u001b[0mkwargs\u001b[0m\u001b[0;34m)\u001b[0m\u001b[0;34m\u001b[0m\u001b[0;34m\u001b[0m\u001b[0m\n\u001b[0m\u001b[1;32m    195\u001b[0m             \u001b[0mparams\u001b[0m\u001b[0;34m.\u001b[0m\u001b[0mapply_defaults\u001b[0m\u001b[0;34m(\u001b[0m\u001b[0;34m)\u001b[0m\u001b[0;34m\u001b[0m\u001b[0;34m\u001b[0m\u001b[0m\n\u001b[1;32m    196\u001b[0m \u001b[0;34m\u001b[0m\u001b[0m\n",
      "\u001b[0;32m/usr/lib/python3.11/inspect.py\u001b[0m in \u001b[0;36mbind\u001b[0;34m(self, *args, **kwargs)\u001b[0m\n\u001b[1;32m   3193\u001b[0m         \u001b[0;32mif\u001b[0m \u001b[0mthe\u001b[0m \u001b[0mpassed\u001b[0m \u001b[0marguments\u001b[0m \u001b[0mcan\u001b[0m \u001b[0;32mnot\u001b[0m \u001b[0mbe\u001b[0m \u001b[0mbound\u001b[0m\u001b[0;34m.\u001b[0m\u001b[0;34m\u001b[0m\u001b[0;34m\u001b[0m\u001b[0m\n\u001b[1;32m   3194\u001b[0m         \"\"\"\n\u001b[0;32m-> 3195\u001b[0;31m         \u001b[0;32mreturn\u001b[0m \u001b[0mself\u001b[0m\u001b[0;34m.\u001b[0m\u001b[0m_bind\u001b[0m\u001b[0;34m(\u001b[0m\u001b[0margs\u001b[0m\u001b[0;34m,\u001b[0m \u001b[0mkwargs\u001b[0m\u001b[0;34m)\u001b[0m\u001b[0;34m\u001b[0m\u001b[0;34m\u001b[0m\u001b[0m\n\u001b[0m\u001b[1;32m   3196\u001b[0m \u001b[0;34m\u001b[0m\u001b[0m\n\u001b[1;32m   3197\u001b[0m     \u001b[0;32mdef\u001b[0m \u001b[0mbind_partial\u001b[0m\u001b[0;34m(\u001b[0m\u001b[0mself\u001b[0m\u001b[0;34m,\u001b[0m \u001b[0;34m/\u001b[0m\u001b[0;34m,\u001b[0m \u001b[0;34m*\u001b[0m\u001b[0margs\u001b[0m\u001b[0;34m,\u001b[0m \u001b[0;34m**\u001b[0m\u001b[0mkwargs\u001b[0m\u001b[0;34m)\u001b[0m\u001b[0;34m:\u001b[0m\u001b[0;34m\u001b[0m\u001b[0;34m\u001b[0m\u001b[0m\n",
      "\u001b[0;32m/usr/lib/python3.11/inspect.py\u001b[0m in \u001b[0;36m_bind\u001b[0;34m(self, args, kwargs, partial)\u001b[0m\n\u001b[1;32m   3182\u001b[0m                 \u001b[0marguments\u001b[0m\u001b[0;34m[\u001b[0m\u001b[0mkwargs_param\u001b[0m\u001b[0;34m.\u001b[0m\u001b[0mname\u001b[0m\u001b[0;34m]\u001b[0m \u001b[0;34m=\u001b[0m \u001b[0mkwargs\u001b[0m\u001b[0;34m\u001b[0m\u001b[0;34m\u001b[0m\u001b[0m\n\u001b[1;32m   3183\u001b[0m             \u001b[0;32melse\u001b[0m\u001b[0;34m:\u001b[0m\u001b[0;34m\u001b[0m\u001b[0;34m\u001b[0m\u001b[0m\n\u001b[0;32m-> 3184\u001b[0;31m                 raise TypeError(\n\u001b[0m\u001b[1;32m   3185\u001b[0m                     'got an unexpected keyword argument {arg!r}'.format(\n\u001b[1;32m   3186\u001b[0m                         arg=next(iter(kwargs))))\n",
      "\u001b[0;31mTypeError\u001b[0m: got an unexpected keyword argument 'squared'"
     ]
    }
   ],
   "source": [
    "# Evaluasi\n",
    "def evaluate(y_true, y_pred):\n",
    "    return {\n",
    "        \"R2\": r2_score(y_true, y_pred),\n",
    "        \"RMSE\": mean_squared_error(y_true, y_pred, squared=False),\n",
    "        \"MAE\": mean_absolute_error(y_true, y_pred),\n",
    "        \"MAPE\": np.mean(np.abs((y_true - y_pred) / y_true)) * 100\n",
    "    }\n",
    "\n",
    "results_notuned = pd.DataFrame([\n",
    "    {\"Model\": \"Random Forest (no tuning)\", **evaluate(y_test, rf_pred)},\n",
    "    # {\"Model\": \"SVM (no tuning)\", **evaluate(y_test, svm_pred)},\n",
    "    # {\"Model\": \"XGBoost (no tuning)\", **evaluate(y_test, xgb_pred)},\n",
    "])\n",
    "\n",
    "# Simpan model tanpa tuning\n",
    "joblib.dump(rf_notuned, \"rf_model_notuned.pkl\")\n",
    "# joblib.dump(svm_notuned, \"svm_model_notuned.pkl\")\n",
    "# joblib.dump(xgb_notuned, \"xgb_model_notuned.pkl\")\n",
    "\n",
    "# Tampilkan hasil\n",
    "print(\"\\n📊 Evaluasi Model Tanpa Tuning:\")\n",
    "print(results_notuned.round(4))"
   ]
  },
  {
   "cell_type": "code",
   "execution_count": null,
   "metadata": {
    "executionInfo": {
     "elapsed": 113,
     "status": "aborted",
     "timestamp": 1754282946792,
     "user": {
      "displayName": "MICHAEL STEVEN",
      "userId": "09225223714904031338"
     },
     "user_tz": -420
    },
    "id": "CWktDcpyZi09"
   },
   "outputs": [],
   "source": []
  },
  {
   "cell_type": "code",
   "execution_count": null,
   "metadata": {
    "executionInfo": {
     "elapsed": 112,
     "status": "aborted",
     "timestamp": 1754282946794,
     "user": {
      "displayName": "MICHAEL STEVEN",
      "userId": "09225223714904031338"
     },
     "user_tz": -420
    },
    "id": "oFFYwceDZi09"
   },
   "outputs": [],
   "source": []
  },
  {
   "cell_type": "code",
   "execution_count": null,
   "metadata": {
    "executionInfo": {
     "elapsed": 113,
     "status": "aborted",
     "timestamp": 1754282946796,
     "user": {
      "displayName": "MICHAEL STEVEN",
      "userId": "09225223714904031338"
     },
     "user_tz": -420
    },
    "id": "ePN94dZ-Zi0-"
   },
   "outputs": [],
   "source": []
  },
  {
   "cell_type": "code",
   "execution_count": null,
   "metadata": {
    "executionInfo": {
     "elapsed": 113,
     "status": "aborted",
     "timestamp": 1754282946798,
     "user": {
      "displayName": "MICHAEL STEVEN",
      "userId": "09225223714904031338"
     },
     "user_tz": -420
    },
    "id": "byqVGfHjZi0-"
   },
   "outputs": [],
   "source": []
  },
  {
   "cell_type": "code",
   "execution_count": null,
   "metadata": {
    "executionInfo": {
     "elapsed": 113,
     "status": "aborted",
     "timestamp": 1754282946800,
     "user": {
      "displayName": "MICHAEL STEVEN",
      "userId": "09225223714904031338"
     },
     "user_tz": -420
    },
    "id": "z4KHksa_Zi0-"
   },
   "outputs": [],
   "source": []
  },
  {
   "cell_type": "markdown",
   "metadata": {
    "id": "HNJ4DLK-Zi0-"
   },
   "source": []
  },
  {
   "cell_type": "markdown",
   "metadata": {
    "id": "rEX0f9AhZi0-"
   },
   "source": []
  },
  {
   "cell_type": "markdown",
   "metadata": {
    "id": "UxqN2KABZi0-"
   },
   "source": [
    "## Uji coba prediksi model dengan manual tanpa dashboard"
   ]
  },
  {
   "cell_type": "code",
   "execution_count": null,
   "metadata": {
    "executionInfo": {
     "elapsed": 114,
     "status": "aborted",
     "timestamp": 1754282946802,
     "user": {
      "displayName": "MICHAEL STEVEN",
      "userId": "09225223714904031338"
     },
     "user_tz": -420
    },
    "id": "4yGaY2-SZi0-"
   },
   "outputs": [],
   "source": [
    "import pandas as pd\n",
    "import joblib\n",
    "import numpy as np\n",
    "\n",
    "# Load model\n",
    "model = joblib.load(\"xgboost_final_model_v3.pkl\")\n",
    "\n",
    "# Buat input data 7 hari ke depan (simulasi variasi data manual)\n",
    "data_prediksi = {\n",
    "    'Durasi_Menit': [60, 62, 58, 61, 63, 59, 60],\n",
    "    'Share': [0.10, 0.12, 0.11, 0.09, 0.13, 0.11, 0.10],\n",
    "    'Jumlah_Penonton': [30000, 32000, 29000, 31000, 33000, 30000, 31000],\n",
    "    'AveTime/Viewer': [7.5, 8, 7.2, 7.8, 8.2, 7.9, 7.6],\n",
    "    'Rating_Kompetitor_Tertinggi': [1.2, 1.3, 1.25, 1.1, 1.35, 1.3, 1.2],\n",
    "    'Year': [2025]*7,\n",
    "    'Month': [9]*7,\n",
    "    'Day': [4, 5, 6, 7, 8, 9, 10],\n",
    "    'lag_1': [0.03, 0.031, 0.032, 0.0315, 0.032, 0.0317, 0.0318],\n",
    "    'lag_2': [0.029, 0.03, 0.031, 0.032, 0.0315, 0.032, 0.0317],\n",
    "    'lag_7': [0.028, 0.029, 0.03, 0.031, 0.031, 0.0305, 0.031],\n",
    "    'rolling_3': [0.030, 0.031, 0.0315, 0.0312, 0.0314, 0.0315, 0.0313],\n",
    "    'rolling_7': [0.031, 0.0311, 0.0312, 0.0313, 0.0314, 0.0315, 0.0316],\n",
    "    'std_3': [0.001, 0.0012, 0.0011, 0.0009, 0.001, 0.0011, 0.001],\n",
    "    'std_7': [0.0012, 0.0013, 0.0014, 0.0015, 0.0012, 0.0013, 0.0014]\n",
    "}\n",
    "\n",
    "df_input = pd.DataFrame(data_prediksi)\n",
    "\n",
    "# Lakukan prediksi\n",
    "rating_pred = model.predict(df_input)\n",
    "\n",
    "# Buat hasil akhir\n",
    "df_input[\"Tanggal\"] = pd.date_range(start=\"2025-09-04\", periods=7, freq='D')\n",
    "df_input[\"Hari\"] = df_input[\"Tanggal\"].dt.day_name()\n",
    "df_input[\"Rating_Prediksi\"] = rating_pred\n",
    "\n",
    "# Tampilkan hasil\n",
    "df_hasil = df_input[[\"Tanggal\", \"Hari\", \"Rating_Prediksi\"]]\n",
    "print(df_hasil)\n"
   ]
  },
  {
   "cell_type": "code",
   "execution_count": null,
   "metadata": {
    "executionInfo": {
     "elapsed": 13,
     "status": "aborted",
     "timestamp": 1754282946804,
     "user": {
      "displayName": "MICHAEL STEVEN",
      "userId": "09225223714904031338"
     },
     "user_tz": -420
    },
    "id": "3SOingP9Zi0-"
   },
   "outputs": [],
   "source": [
    "import pandas as pd\n",
    "import numpy as np\n",
    "import pickle\n",
    "from datetime import timedelta\n",
    "\n",
    "# === STEP 1: Load Model ===\n",
    "# with open(\"model_laporan8pagi.pkl\", \"rb\") as f_model:\n",
    "#     model = pickle.load(f_model)\n",
    "\n",
    "import joblib\n",
    "model = joblib.load(\"xgboost_final_model_v3.pkl\")"
   ]
  },
  {
   "cell_type": "code",
   "execution_count": null,
   "metadata": {
    "executionInfo": {
     "elapsed": 14,
     "status": "aborted",
     "timestamp": 1754282946806,
     "user": {
      "displayName": "MICHAEL STEVEN",
      "userId": "09225223714904031338"
     },
     "user_tz": -420
    },
    "id": "X6mvcgTWZi0-"
   },
   "outputs": [],
   "source": [
    "# === STEP 2: Load Data ===\n",
    "df = pd.read_excel(\"file aktual 1 - 7 maret full - Copy.xlsx\")\n",
    "df.head(10)"
   ]
  },
  {
   "cell_type": "code",
   "execution_count": null,
   "metadata": {
    "executionInfo": {
     "elapsed": 137144,
     "status": "aborted",
     "timestamp": 1754282946807,
     "user": {
      "displayName": "MICHAEL STEVEN",
      "userId": "09225223714904031338"
     },
     "user_tz": -420
    },
    "id": "DpD7v6kZZi0_"
   },
   "outputs": [],
   "source": [
    "# === STEP 3: Siapkan Kolom Tanggal ===\n",
    "df[\"Tanggal_Program\"] = pd.to_datetime(df[\"Tanggal_Program\"])\n",
    "df = df.sort_values(\"Tanggal_Program\").reset_index(drop=True)\n",
    "\n",
    "# === STEP 4: Tambahkan Fitur Tanggal ===\n",
    "df[\"Year\"] = df[\"Tanggal_Program\"].dt.year\n",
    "df[\"Month\"] = df[\"Tanggal_Program\"].dt.month\n",
    "df[\"Day\"] = df[\"Tanggal_Program\"].dt.day\n",
    "\n",
    "# === STEP 5: Buat Fitur Statistik Tambahan ===\n",
    "df[\"lag_1\"] = df[\"Rating_Program\"].shift(1)\n",
    "df[\"lag_2\"] = df[\"Rating_Program\"].shift(2)\n",
    "df[\"lag_7\"] = df[\"Rating_Program\"].shift(7)\n",
    "df[\"rolling_3\"] = df[\"Rating_Program\"].rolling(3).mean().shift(1)\n",
    "df[\"rolling_7\"] = df[\"Rating_Program\"].rolling(7).mean().shift(1)\n",
    "df[\"std_3\"] = df[\"Rating_Program\"].rolling(3).std().shift(1)\n",
    "df[\"std_7\"] = df[\"Rating_Program\"].rolling(7).std().shift(1)"
   ]
  },
  {
   "cell_type": "code",
   "execution_count": null,
   "metadata": {
    "executionInfo": {
     "elapsed": 4,
     "status": "aborted",
     "timestamp": 1754282946813,
     "user": {
      "displayName": "MICHAEL STEVEN",
      "userId": "09225223714904031338"
     },
     "user_tz": -420
    },
    "id": "C88myz4_Zi0_"
   },
   "outputs": [],
   "source": [
    "# === STEP 6: Siapkan Urutan Fitur ===\n",
    "feature_order = [\n",
    "    'Durasi_Menit', 'Share', 'Jumlah_Penonton', 'AveTime/Viewer',\n",
    "    'Rating_Kompetitor_Tertinggi', 'Year', 'Month', 'Day',\n",
    "    'lag_1', 'lag_2', 'lag_7',\n",
    "    'rolling_3', 'rolling_7', 'std_3', 'std_7'\n",
    "]\n",
    "\n",
    "# === STEP 7: Ambil Data Terakhir Sebagai Dasar Prediksi ===\n",
    "last_row = df.dropna().iloc[-1].copy()  # pastikan data lengkap"
   ]
  },
  {
   "cell_type": "code",
   "execution_count": null,
   "metadata": {
    "executionInfo": {
     "elapsed": 4,
     "status": "aborted",
     "timestamp": 1754282946814,
     "user": {
      "displayName": "MICHAEL STEVEN",
      "userId": "09225223714904031338"
     },
     "user_tz": -420
    },
    "id": "oJBoZ2poZi0_"
   },
   "outputs": [],
   "source": [
    "# # Buat DataFrame dan isi NaN dengan 0\n",
    "# input_df = pd.DataFrame([new_row])[feature_order].fillna(0)\n",
    "\n",
    "# # Prediksi rating\n",
    "# input_df = input_df.drop(columns=[\"Rating_Program\"], errors=\"ignore\")"
   ]
  },
  {
   "cell_type": "code",
   "execution_count": null,
   "metadata": {
    "executionInfo": {
     "elapsed": 5,
     "status": "aborted",
     "timestamp": 1754282946816,
     "user": {
      "displayName": "MICHAEL STEVEN",
      "userId": "09225223714904031338"
     },
     "user_tz": -420
    },
    "id": "3fC52QXEZi0_"
   },
   "outputs": [],
   "source": [
    "# expected_features = [\n",
    "#     \"Durasi_Menit\", \"Share\", \"Jumlah_Penonton\", \"AveTime/Viewer\",\n",
    "#     \"Rating_Kompetitor_Tertinggi\", \"Year\", \"Month\", \"Day\",\n",
    "#     \"lag_1\", \"lag_2\", \"lag_7\", \"rolling_3\", \"rolling_7\", \"std_3\", \"std_7\"\n",
    "# ]\n",
    "# input_df = input_df[expected_features]\n",
    "# print(input_df)"
   ]
  },
  {
   "cell_type": "code",
   "execution_count": null,
   "metadata": {
    "executionInfo": {
     "elapsed": 8,
     "status": "aborted",
     "timestamp": 1754282946819,
     "user": {
      "displayName": "MICHAEL STEVEN",
      "userId": "09225223714904031338"
     },
     "user_tz": -420
    },
    "id": "8EoN0E6wZi0_"
   },
   "outputs": [],
   "source": [
    "# print(input_df.columns.tolist())"
   ]
  },
  {
   "cell_type": "code",
   "execution_count": null,
   "metadata": {
    "executionInfo": {
     "elapsed": 8,
     "status": "aborted",
     "timestamp": 1754282946820,
     "user": {
      "displayName": "MICHAEL STEVEN",
      "userId": "09225223714904031338"
     },
     "user_tz": -420
    },
    "id": "t5iRgJxIwfxv"
   },
   "outputs": [],
   "source": [
    "# === STEP 8: Prediksi 7 Hari ke Depan ===\n",
    "results = []\n",
    "\n",
    "for i in range(1, 8):\n",
    "    next_date = last_row[\"Tanggal_Program\"] + timedelta(days=1)\n",
    "\n",
    "    # Fitur tanggal\n",
    "    year, month, day = next_date.year, next_date.month, next_date.day\n",
    "\n",
    "    # Buat data baru\n",
    "    new_row = {\n",
    "        'Durasi_Menit': last_row['Durasi_Menit'],\n",
    "        'Share': last_row['Share'],\n",
    "        'Jumlah_Penonton': last_row['Jumlah_Penonton'],\n",
    "        'AveTime/Viewer': last_row['AveTime/Viewer'],\n",
    "        'Rating_Kompetitor_Tertinggi': last_row['Rating_Kompetitor_Tertinggi'],\n",
    "        'Year': year, 'Month': month, 'Day': day,\n",
    "        'lag_1': last_row['Rating_Program'],\n",
    "        'lag_2': last_row['lag_1'],\n",
    "        'lag_7': last_row['lag_6'] if 'lag_6' in last_row else last_row['lag_2'],  # fallback\n",
    "        'rolling_3': last_row['rolling_3'],\n",
    "        'rolling_7': last_row['rolling_7'],\n",
    "        'std_3': last_row['std_3'],\n",
    "        'std_7': last_row['std_7']\n",
    "    }\n",
    "\n",
    "    # Buat DataFrame dan isi NaN dengan 0\n",
    "    input_df = pd.DataFrame([new_row])[feature_order].fillna(0)\n",
    "\n",
    "\n",
    "    # Prediksi rating\n",
    "    # rating_pred = model.predict(input_df)[0]\n",
    "    # rating_pred = max(0.1, min(20.0, rating_pred))  # clamp rating\n",
    "    raw_pred = model.predict(input_df)[0]\n",
    "    print(\"Raw prediction:\", raw_pred)\n",
    "    rating_pred = raw_pred\n",
    "\n",
    "\n",
    "    # Simpan hasil\n",
    "    results.append({\n",
    "        \"Tanggal\": next_date,\n",
    "        \"Rating_Prediksi\": rating_pred,\n",
    "        \"Hari\": next_date.strftime(\"%A\")\n",
    "    })\n",
    "\n",
    "    # Update last_row untuk prediksi hari berikutnya\n",
    "    last_row[\"Tanggal_Program\"] = next_date\n",
    "    last_row[\"lag_2\"] = last_row[\"lag_1\"]\n",
    "    last_row[\"lag_1\"] = rating_pred\n",
    "    last_row[\"rolling_3\"] = np.mean([last_row[\"rolling_3\"], rating_pred])\n",
    "    last_row[\"rolling_7\"] = np.mean([last_row[\"rolling_7\"], rating_pred])\n",
    "    last_row[\"std_3\"] = 0  # dummy (karena std tidak bisa diperbarui akurat)\n",
    "    last_row[\"std_7\"] = 0\n",
    "    last_row[\"Rating_Program\"] = rating_pred"
   ]
  },
  {
   "cell_type": "code",
   "execution_count": null,
   "metadata": {
    "executionInfo": {
     "elapsed": 137152,
     "status": "aborted",
     "timestamp": 1754282946822,
     "user": {
      "displayName": "MICHAEL STEVEN",
      "userId": "09225223714904031338"
     },
     "user_tz": -420
    },
    "id": "Z13JoF73Zi1A"
   },
   "outputs": [],
   "source": [
    "print(\"Input ke model untuk prediksi hari ke-\", i)\n",
    "print(input_df)"
   ]
  },
  {
   "cell_type": "code",
   "execution_count": null,
   "metadata": {
    "executionInfo": {
     "elapsed": 137151,
     "status": "aborted",
     "timestamp": 1754282946823,
     "user": {
      "displayName": "MICHAEL STEVEN",
      "userId": "09225223714904031338"
     },
     "user_tz": -420
    },
    "id": "ct6GsNn7Zi1A"
   },
   "outputs": [],
   "source": [
    "type(model)\n"
   ]
  },
  {
   "cell_type": "code",
   "execution_count": null,
   "metadata": {
    "executionInfo": {
     "elapsed": 137150,
     "status": "aborted",
     "timestamp": 1754282946825,
     "user": {
      "displayName": "MICHAEL STEVEN",
      "userId": "09225223714904031338"
     },
     "user_tz": -420
    },
    "id": "uFjnmJPaZi1A"
   },
   "outputs": [],
   "source": [
    "# === STEP 9: Tampilkan Hasil ===\n",
    "df_pred = pd.DataFrame(results)\n",
    "print(df_pred)"
   ]
  },
  {
   "cell_type": "code",
   "execution_count": null,
   "metadata": {
    "executionInfo": {
     "elapsed": 137149,
     "status": "aborted",
     "timestamp": 1754282946827,
     "user": {
      "displayName": "MICHAEL STEVEN",
      "userId": "09225223714904031338"
     },
     "user_tz": -420
    },
    "id": "LETcJU-NZi1A"
   },
   "outputs": [],
   "source": [
    "import matplotlib.pyplot as plt\n",
    "\n",
    "df_pred[\"Rating_Program_Realistic\"] = df_pred[\"Rating_Prediksi\"]\n",
    "plt.plot(df_pred[\"Tanggal\"], df_pred[\"Rating_Program_Realistic\"], marker='o')\n",
    "plt.title(\"Prediksi Rating 7 Hari ke Depan\")\n",
    "plt.xticks(rotation=45)\n",
    "plt.ylabel(\"Rating Program\")\n",
    "plt.grid()\n",
    "plt.show()"
   ]
  },
  {
   "cell_type": "code",
   "execution_count": null,
   "metadata": {},
   "outputs": [],
   "source": [
    "# Augmentasi dengan jittering\n",
    "X_train_aug = X_train.copy()\n",
    "y_train_aug = y_train.copy()\n",
    "\n",
    "for i in range(3):  # gandakan 3x\n",
    "    noise_X = X_train + np.random.normal(0, 0.01, X_train.shape)\n",
    "    noise_y = y_train + np.random.normal(0, 0.01, y_train.shape)\n",
    "    X_train_aug = pd.concat([X_train_aug, pd.DataFrame(noise_X, columns=X_train.columns)])\n",
    "    y_train_aug = pd.concat([y_train_aug, pd.Series(noise_y)])\n",
    "\n",
    "print(\"Jumlah data sebelum augmentasi:\", X_train.shape, y_train.shape)\n",
    "print(\"Jumlah data sesudah augmentasi:\", X_train_aug.shape, y_train_aug.shape)\n",
    "\n",
    "# Latih ulang Random Forest dengan data augmented\n",
    "rf_aug = RandomForestRegressor(random_state=42)\n",
    "rf_aug.fit(X_train_aug, y_train_aug)\n",
    "y_pred_aug = rf_aug.predict(X_test)\n",
    "\n",
    "print(\"📊 Evaluasi Random Forest dengan data augmented:\")\n",
    "print(evaluate(y_test, y_pred_aug))\n"
   ]
  },
  {
   "cell_type": "code",
   "execution_count": null,
   "metadata": {
    "executionInfo": {
     "elapsed": 137149,
     "status": "aborted",
     "timestamp": 1754282946828,
     "user": {
      "displayName": "MICHAEL STEVEN",
      "userId": "09225223714904031338"
     },
     "user_tz": -420
    },
    "id": "fFe2SIh1Zi1A"
   },
   "outputs": [],
   "source": [
    "importances = best_rf.feature_importances_\n",
    "feat_importances = pd.Series(importances, index=X.columns).sort_values(ascending=False)\n",
    "\n",
    "plt.figure(figsize=(10,5))\n",
    "sns.barplot(x=feat_importances, y=feat_importances.index)\n",
    "plt.title(\"Feature Importance - Random Forest\")\n",
    "plt.show()\n"
   ]
  },
  {
   "cell_type": "code",
   "execution_count": null,
   "metadata": {
    "executionInfo": {
     "elapsed": 137150,
     "status": "aborted",
     "timestamp": 1754282946829,
     "user": {
      "displayName": "MICHAEL STEVEN",
      "userId": "09225223714904031338"
     },
     "user_tz": -420
    },
    "id": "oT4lf0ZhZi1A"
   },
   "outputs": [],
   "source": []
  },
  {
   "cell_type": "code",
   "execution_count": null,
   "metadata": {
    "executionInfo": {
     "elapsed": 137152,
     "status": "aborted",
     "timestamp": 1754282946831,
     "user": {
      "displayName": "MICHAEL STEVEN",
      "userId": "09225223714904031338"
     },
     "user_tz": -420
    },
    "id": "EVHyo3mbZi1B"
   },
   "outputs": [],
   "source": []
  }
 ],
 "metadata": {
  "colab": {
   "provenance": []
  },
  "kernelspec": {
   "display_name": "Python 3",
   "name": "python3"
  },
  "language_info": {
   "codemirror_mode": {
    "name": "ipython",
    "version": 3
   },
   "file_extension": ".py",
   "mimetype": "text/x-python",
   "name": "python",
   "nbconvert_exporter": "python",
   "pygments_lexer": "ipython3",
   "version": "3.9.0"
  }
 },
 "nbformat": 4,
 "nbformat_minor": 0
}
